{
 "cells": [
  {
   "cell_type": "markdown",
   "metadata": {
    "slideshow": {
     "slide_type": "slide"
    }
   },
   "source": [
    "## Libraries\n",
    "\n",
    "### Programming for Data Science (ID2214)\n",
    "\n",
    "### Amir H. Rahnama (Twitter: @_ambodi)\n",
    "\n",
    "#### Ph.D. Candidate \n",
    "\n",
    "\n",
    "<img src=\"https://www.kth.se/polopoly_fs/1.77259!/KTH_Logotyp_RGB_2013-2.svg\" alt=\"kth_logo\" style=\"width:200px;\"/>"
   ]
  },
  {
   "cell_type": "markdown",
   "metadata": {
    "slideshow": {
     "slide_type": "skip"
    }
   },
   "source": [
    "### Preface\n",
    "\n",
    "In this lecture, we will be focusing on the use of libraries in our data science and Machine Learning projects. Just like the last lecture, our focus will be to solve the whole problem from the data gathering until the modelling and evaluation, so that you can have a grasp of how a *semi* real-world project works. "
   ]
  },
  {
   "cell_type": "markdown",
   "metadata": {
    "slideshow": {
     "slide_type": "slide"
    }
   },
   "source": [
    "The *outline* of this lecture are: \n",
    "* Boosting methods in practice\n",
    "    * Sklearn's AdaBoostRegressor\n",
    "    * Sklearn's GradientBoostingRegressor\n",
    "    * Xgboost's package\n",
    "* A brief introduction to Artificial Neural Networks\n",
    "    * What is an Artificial Neural Network? \n",
    "    * Training with Backpropagation\n",
    "* Understanding how to wortk with Tensorflow\n",
    "* Use GPUs in order to accelerate reading/manipulating/modelling of big chunks of data\n",
    "    * Computation using GPU versions of Numpy\n",
    "    * Benchmarks on CPU/GPU version"
   ]
  },
  {
   "cell_type": "markdown",
   "metadata": {
    "slideshow": {
     "slide_type": "skip"
    }
   },
   "source": [
    "### Boosting methods in practice\n",
    "\n",
    "We will be continuing today's lecture with more sophisticated ensemble trees, namely **AdaBoost** and **Gradient Boosting**. According to Wikipedia, \"in AdaBoost, the output of the other learning algorithms ('weak learners') is combined into a weighted sum that represents the final output of the boosted classifier. AdaBoost is adaptive in the sense that subsequent weak learners are tweaked in favor of those instances misclassified by previous classifiers\". \n",
    "\n",
    "As also mentioned in the Wikipedia article, \"**Gradient boosting** is a machine learning technique for regression and classification problems, which produces a prediction model in the form of an ensemble of weak prediction models, typically decision trees. Gradient boosting is typically used with decision trees (especially CART trees) of a fixed size as base learners\". \n",
    "\n",
    "In this lecture, we will be working with different implementations of Gradient Boosting, namely Sklearn's GradientBoosting and XGBoost.\n",
    "\n",
    "We will show you the Sklearn's implementation of Adaptive and Gradient Boosting, namely **sklearn.ensemble.AdaBoostRegressor** and **sklearn.ensemble.GradientBoostingClassifier**.\n",
    "\n",
    "In addition, in this lecture we will be working with regression so that you have had enough practical experience working with both classification and regression problems in this course. We will work with the famous Boston Housing Dataset: https://www.cs.toronto.edu/~delve/data/boston/bostonDetail.html"
   ]
  },
  {
   "cell_type": "code",
   "execution_count": 2,
   "metadata": {
    "slideshow": {
     "slide_type": "slide"
    }
   },
   "outputs": [],
   "source": [
    "from sklearn import datasets\n",
    "\n",
    "boston = datasets.load_boston()"
   ]
  },
  {
   "cell_type": "code",
   "execution_count": 3,
   "metadata": {
    "slideshow": {
     "slide_type": "fragment"
    }
   },
   "outputs": [
    {
     "data": {
      "text/plain": [
       "(506, 13)"
      ]
     },
     "execution_count": 3,
     "metadata": {},
     "output_type": "execute_result"
    }
   ],
   "source": [
    "boston.data.shape"
   ]
  },
  {
   "cell_type": "code",
   "execution_count": 3,
   "metadata": {
    "slideshow": {
     "slide_type": "slide"
    }
   },
   "outputs": [
    {
     "data": {
      "text/plain": [
       "array(['CRIM', 'ZN', 'INDUS', 'CHAS', 'NOX', 'RM', 'AGE', 'DIS', 'RAD',\n",
       "       'TAX', 'PTRATIO', 'B', 'LSTAT'], dtype='<U7')"
      ]
     },
     "execution_count": 3,
     "metadata": {},
     "output_type": "execute_result"
    }
   ],
   "source": [
    "boston.feature_names"
   ]
  },
  {
   "cell_type": "markdown",
   "metadata": {
    "slideshow": {
     "slide_type": "fragment"
    }
   },
   "source": [
    "Here is a short description of the features:\n",
    "\n",
    "   * **CRIM** : per capita crime rate by town\n",
    "   * **ZN** : proportion of residential land zoned for lots over 25,000 sq.ft.\n",
    "   * **INDUS** : proportion of non-retail business acres per town.\n",
    "   * **CHAS** : Charles River dummy variable (1 if tract bounds river; 0 otherwise)\n",
    "   * **NOX** : nitric oxides concentration (parts per 10 million)\n",
    "   * **RM** : average number of rooms per dwelling\n",
    "   * **AGE** : proportion of owner-occupied units built prior to 1940\n",
    "   * **DIS** : weighted distances to five Boston employment centres\n",
    "   * **RAD** : index of accessibility to radial highways\n",
    "   * **TAX** : full-value property-tax rate per 10,000 USD\n",
    "   * **PTRATIO** : pupil-teacher ratio by town\n",
    "   * **B** : 1000(Bk - 0.63)^2 where Bk is the proportion of blacks by town\n",
    "   * **LSTAT** : (percentage) lower status of the population\n",
    "   * **MEDV** : Median value of owner-occupied homes in $1000's\n",
    "   \n",
    "And the target value are the value in the unit of 1000$ per squre meters:"
   ]
  },
  {
   "cell_type": "code",
   "execution_count": 4,
   "metadata": {
    "slideshow": {
     "slide_type": "slide"
    }
   },
   "outputs": [
    {
     "data": {
      "text/plain": [
       "array([24. , 21.6, 34.7, 33.4, 36.2, 28.7, 22.9, 27.1, 16.5, 18.9, 15. ,\n",
       "       18.9, 21.7, 20.4, 18.2, 19.9, 23.1, 17.5, 20.2, 18.2, 13.6, 19.6,\n",
       "       15.2, 14.5, 15.6, 13.9, 16.6, 14.8, 18.4, 21. , 12.7, 14.5, 13.2,\n",
       "       13.1, 13.5, 18.9, 20. , 21. , 24.7, 30.8, 34.9, 26.6, 25.3, 24.7,\n",
       "       21.2, 19.3, 20. , 16.6, 14.4, 19.4, 19.7, 20.5, 25. , 23.4, 18.9,\n",
       "       35.4, 24.7, 31.6, 23.3, 19.6, 18.7, 16. , 22.2, 25. , 33. , 23.5,\n",
       "       19.4, 22. , 17.4, 20.9, 24.2, 21.7, 22.8, 23.4, 24.1, 21.4, 20. ,\n",
       "       20.8, 21.2, 20.3, 28. , 23.9, 24.8, 22.9, 23.9, 26.6, 22.5, 22.2,\n",
       "       23.6, 28.7, 22.6, 22. , 22.9, 25. , 20.6, 28.4, 21.4, 38.7, 43.8,\n",
       "       33.2, 27.5, 26.5, 18.6, 19.3, 20.1, 19.5, 19.5, 20.4, 19.8, 19.4,\n",
       "       21.7, 22.8, 18.8, 18.7, 18.5, 18.3, 21.2, 19.2, 20.4, 19.3, 22. ,\n",
       "       20.3, 20.5, 17.3, 18.8, 21.4, 15.7, 16.2, 18. , 14.3, 19.2, 19.6,\n",
       "       23. , 18.4, 15.6, 18.1, 17.4, 17.1, 13.3, 17.8, 14. , 14.4, 13.4,\n",
       "       15.6, 11.8, 13.8, 15.6, 14.6, 17.8, 15.4, 21.5, 19.6, 15.3, 19.4,\n",
       "       17. , 15.6, 13.1, 41.3, 24.3, 23.3, 27. , 50. , 50. , 50. , 22.7,\n",
       "       25. , 50. , 23.8, 23.8, 22.3, 17.4, 19.1, 23.1, 23.6, 22.6, 29.4,\n",
       "       23.2, 24.6, 29.9, 37.2, 39.8, 36.2, 37.9, 32.5, 26.4, 29.6, 50. ,\n",
       "       32. , 29.8, 34.9, 37. , 30.5, 36.4, 31.1, 29.1, 50. , 33.3, 30.3,\n",
       "       34.6, 34.9, 32.9, 24.1, 42.3, 48.5, 50. , 22.6, 24.4, 22.5, 24.4,\n",
       "       20. , 21.7, 19.3, 22.4, 28.1, 23.7, 25. , 23.3, 28.7, 21.5, 23. ,\n",
       "       26.7, 21.7, 27.5, 30.1, 44.8, 50. , 37.6, 31.6, 46.7, 31.5, 24.3,\n",
       "       31.7, 41.7, 48.3, 29. , 24. , 25.1, 31.5, 23.7, 23.3, 22. , 20.1,\n",
       "       22.2, 23.7, 17.6, 18.5, 24.3, 20.5, 24.5, 26.2, 24.4, 24.8, 29.6,\n",
       "       42.8, 21.9, 20.9, 44. , 50. , 36. , 30.1, 33.8, 43.1, 48.8, 31. ,\n",
       "       36.5, 22.8, 30.7, 50. , 43.5, 20.7, 21.1, 25.2, 24.4, 35.2, 32.4,\n",
       "       32. , 33.2, 33.1, 29.1, 35.1, 45.4, 35.4, 46. , 50. , 32.2, 22. ,\n",
       "       20.1, 23.2, 22.3, 24.8, 28.5, 37.3, 27.9, 23.9, 21.7, 28.6, 27.1,\n",
       "       20.3, 22.5, 29. , 24.8, 22. , 26.4, 33.1, 36.1, 28.4, 33.4, 28.2,\n",
       "       22.8, 20.3, 16.1, 22.1, 19.4, 21.6, 23.8, 16.2, 17.8, 19.8, 23.1,\n",
       "       21. , 23.8, 23.1, 20.4, 18.5, 25. , 24.6, 23. , 22.2, 19.3, 22.6,\n",
       "       19.8, 17.1, 19.4, 22.2, 20.7, 21.1, 19.5, 18.5, 20.6, 19. , 18.7,\n",
       "       32.7, 16.5, 23.9, 31.2, 17.5, 17.2, 23.1, 24.5, 26.6, 22.9, 24.1,\n",
       "       18.6, 30.1, 18.2, 20.6, 17.8, 21.7, 22.7, 22.6, 25. , 19.9, 20.8,\n",
       "       16.8, 21.9, 27.5, 21.9, 23.1, 50. , 50. , 50. , 50. , 50. , 13.8,\n",
       "       13.8, 15. , 13.9, 13.3, 13.1, 10.2, 10.4, 10.9, 11.3, 12.3,  8.8,\n",
       "        7.2, 10.5,  7.4, 10.2, 11.5, 15.1, 23.2,  9.7, 13.8, 12.7, 13.1,\n",
       "       12.5,  8.5,  5. ,  6.3,  5.6,  7.2, 12.1,  8.3,  8.5,  5. , 11.9,\n",
       "       27.9, 17.2, 27.5, 15. , 17.2, 17.9, 16.3,  7. ,  7.2,  7.5, 10.4,\n",
       "        8.8,  8.4, 16.7, 14.2, 20.8, 13.4, 11.7,  8.3, 10.2, 10.9, 11. ,\n",
       "        9.5, 14.5, 14.1, 16.1, 14.3, 11.7, 13.4,  9.6,  8.7,  8.4, 12.8,\n",
       "       10.5, 17.1, 18.4, 15.4, 10.8, 11.8, 14.9, 12.6, 14.1, 13. , 13.4,\n",
       "       15.2, 16.1, 17.8, 14.9, 14.1, 12.7, 13.5, 14.9, 20. , 16.4, 17.7,\n",
       "       19.5, 20.2, 21.4, 19.9, 19. , 19.1, 19.1, 20.1, 19.9, 19.6, 23.2,\n",
       "       29.8, 13.8, 13.3, 16.7, 12. , 14.6, 21.4, 23. , 23.7, 25. , 21.8,\n",
       "       20.6, 21.2, 19.1, 20.6, 15.2,  7. ,  8.1, 13.6, 20.1, 21.8, 24.5,\n",
       "       23.1, 19.7, 18.3, 21.2, 17.5, 16.8, 22.4, 20.6, 23.9, 22. , 11.9])"
      ]
     },
     "execution_count": 4,
     "metadata": {},
     "output_type": "execute_result"
    }
   ],
   "source": [
    "boston.target"
   ]
  },
  {
   "cell_type": "markdown",
   "metadata": {
    "slideshow": {
     "slide_type": "skip"
    }
   },
   "source": [
    "Let us start by a simple case of comparison between Adaptive and Gradient Boosting, without thinking too much about the parameters and hyperparameter. Before we start, we need to run our cross validation. Unfortunately due to a limitation in ScikitLearn's API, we cannot use the *validation_curve* and we need to do cross-validation manually:"
   ]
  },
  {
   "cell_type": "code",
   "execution_count": 4,
   "metadata": {
    "slideshow": {
     "slide_type": "slide"
    }
   },
   "outputs": [],
   "source": [
    "#Fix the random state\n",
    "import numpy as np\n",
    "from sklearn.model_selection import train_test_split\n",
    "\n",
    "rng = np.random.RandomState(1)\n",
    "\n",
    "#Divide the data\n",
    "X_train, X_test, y_train, y_test = train_test_split(boston.data, \n",
    "                                                    boston.target, test_size=0.2, random_state=rng)\n",
    "\n",
    "X_train, X_val, y_train, y_val = train_test_split(boston.data, \n",
    "                                                    boston.target, test_size=0.2, random_state=rng)"
   ]
  },
  {
   "cell_type": "code",
   "execution_count": 6,
   "metadata": {
    "slideshow": {
     "slide_type": "fragment"
    }
   },
   "outputs": [
    {
     "data": {
      "text/plain": [
       "(((404, 13), (404,)), ((102, 13), (102,)), ((102, 13), (102,)))"
      ]
     },
     "execution_count": 6,
     "metadata": {},
     "output_type": "execute_result"
    }
   ],
   "source": [
    "(X_train.shape, y_train.shape), (X_val.shape, y_val.shape), (X_test.shape, y_test.shape)"
   ]
  },
  {
   "cell_type": "code",
   "execution_count": 5,
   "metadata": {
    "slideshow": {
     "slide_type": "slide"
    }
   },
   "outputs": [],
   "source": [
    "from sklearn.tree import DecisionTreeRegressor\n",
    "from sklearn.ensemble import AdaBoostRegressor, GradientBoostingRegressor\n",
    "import numpy as np\n",
    "\n",
    "\n",
    "regr_ada = AdaBoostRegressor(DecisionTreeRegressor(max_depth=4, random_state=rng),\n",
    "                          n_estimators=300, random_state=rng)\n",
    "regr_gboost = GradientBoostingRegressor(loss='quantile', \n",
    "                                  n_estimators=300,learning_rate=.1, max_depth=4, random_state=rng)\n",
    "\n",
    "regr_ada.fit(X_train, y_train)\n",
    "regr_gboost.fit(X_train, y_train)\n",
    "\n",
    "y_ada = regr_ada.predict(X_test)\n",
    "y_gboost = regr_gboost.predict(X_test)"
   ]
  },
  {
   "cell_type": "code",
   "execution_count": 94,
   "metadata": {
    "slideshow": {
     "slide_type": "slide"
    }
   },
   "outputs": [],
   "source": [
    "import matplotlib.pyplot as plt\n",
    "plt.style.use('ggplot')\n",
    "\n",
    "fig, ax = plt.subplots(1, 2, figsize=(21, 10), sharex=True, sharey=True)\n",
    "\n",
    "ax[0].scatter(y_test, y_ada, label='Adaptive Boosting', alpha=0.7, color='red')\n",
    "ax[0].plot(y_test, y_test, label='Ground Truth', alpha=0.7, color='green')\n",
    "ax[0].set_xlabel('True Values')\n",
    "ax[0].set_ylabel('Predicted Values')\n",
    "ax[0].legend()\n",
    "\n",
    "ax[1].scatter(y_test, y_gboost, label='Gradient Boosting', alpha=0.7, color='blue')\n",
    "ax[1].plot(y_test, y_test, label='Ground Truth', alpha=0.7, color='green')\n",
    "ax[1].set_xlabel('True Values')\n",
    "ax[1].legend()\n",
    "\n",
    "\n",
    "fig.suptitle(\"Boston Housing Regression: Truth vs. Predicted\")\n",
    "\n",
    "plt.savefig('truth_predi.png')\n",
    "plt.close()"
   ]
  },
  {
   "cell_type": "markdown",
   "metadata": {
    "slideshow": {
     "slide_type": "slide"
    }
   },
   "source": [
    "<img src=\"truth_predi.png\" />"
   ]
  },
  {
   "cell_type": "markdown",
   "metadata": {
    "slideshow": {
     "slide_type": "slide"
    }
   },
   "source": [
    "### Error Analysis\n",
    "\n",
    "In case of regression, usually we measure the error in prediction. **Mean Squared Error** and **Mean Absolute Error** and **R2 score** are common ways of measuring errors in your prediction. MSE is not very robust to outliers, therefore MAE is prefered when there is a case there are outliers in our dataset. R2 score shows the percentage of squared correlation between the predicted and real values of the target variable."
   ]
  },
  {
   "cell_type": "code",
   "execution_count": 8,
   "metadata": {
    "slideshow": {
     "slide_type": "slide"
    }
   },
   "outputs": [],
   "source": [
    "from sklearn.metrics import mean_squared_error, mean_absolute_error, r2_score\n",
    "\n",
    "mse_ada = mean_squared_error(y_test, y_ada)\n",
    "mse_gboost = mean_squared_error(y_test, y_gboost)\n",
    "\n",
    "mae_ada = mean_absolute_error(y_test, y_ada)\n",
    "mae_gboost = mean_absolute_error(y_test, y_gboost)\n",
    "\n",
    "r2_ada = r2_score(y_test, y_ada)\n",
    "r2_gboost = r2_score(y_test, y_gboost)"
   ]
  },
  {
   "cell_type": "code",
   "execution_count": 68,
   "metadata": {
    "slideshow": {
     "slide_type": "slide"
    }
   },
   "outputs": [],
   "source": [
    "import matplotlib.pyplot as plt\n",
    "\n",
    "fig, ax = plt.subplots(1, 3, figsize=(21, 9), sharex=True)\n",
    "\n",
    "N = np.arange(2)\n",
    "width = 0.5\n",
    "\n",
    "ax[0].bar(N, [mse_ada, mse_gboost], width, label='Mean Square Error', alpha=0.7, color='red')\n",
    "ax[0].set_xticks(N)\n",
    "ax[0].set_xticklabels(('Adaptive Boosting', 'Gradient Boosting'))\n",
    "ax[0].set_title('Mean Square Error')\n",
    "\n",
    "ax[1].bar(N, [mae_ada, mae_gboost], width, label='Mean Asbolute Error', alpha=0.7, color='blue')\n",
    "ax[1].set_xticks(N)\n",
    "ax[1].set_xticklabels(('Adaptive Boosting', 'Gradient Boosting'))\n",
    "ax[1].set_title('Mean Absolute Error')\n",
    "\n",
    "ax[2].bar(N, [r2_ada, r2_gboost], width, label='R2 Score', alpha=0.7, color='green')\n",
    "ax[2].set_xticks(N)\n",
    "ax[2].set_xticklabels(('Adaptive Boosting', 'Gradient Boosting'))\n",
    "ax[2].set_title('R2 Score')\n",
    "\n",
    "plt.savefig('init_error_no_opt.png')\n",
    "plt.close()"
   ]
  },
  {
   "cell_type": "markdown",
   "metadata": {
    "slideshow": {
     "slide_type": "slide"
    }
   },
   "source": [
    "<img src=\"init_error_no_opt.png\" />"
   ]
  },
  {
   "cell_type": "markdown",
   "metadata": {
    "slideshow": {
     "slide_type": "skip"
    }
   },
   "source": [
    "In all three measures, Adaptive Boosting outperforms Gradient Boosting in all measures. The reason could be due to over-fitting of Gradient Boosting, since Gradient Boosting has a lot of key learning parameters to be adjusted. \n",
    "\n",
    "Speaking of hyper-parameters, let us perform a simple analysis of how a common parameter such as **max_depth** that is shared across all models is better tuned. Let us have a look:"
   ]
  },
  {
   "cell_type": "code",
   "execution_count": 11,
   "metadata": {
    "slideshow": {
     "slide_type": "slide"
    }
   },
   "outputs": [],
   "source": [
    "from sklearn.metrics import mean_squared_error, mean_absolute_error, r2_score\n",
    "\n",
    "max_depths = np.linspace(1, 32, 32, endpoint=True)\n",
    "\n",
    "mse_ada_md = []; mse_gboost_md = []\n",
    "mae_ada_md = []; mae_gboost_md = []\n",
    "r2_ada_md = []; r2_gboost_md = []\n",
    "\n",
    "for max_depth in max_depths:\n",
    "    reg_ada = AdaBoostRegressor(DecisionTreeRegressor(max_depth=max_depth),\n",
    "                          n_estimators=300, random_state=rng)\n",
    "    reg_gboost = GradientBoostingRegressor(loss='quantile', \n",
    "                                  n_estimators=300,learning_rate=.1, max_depth=4, \n",
    "                                  random_state=rng)\n",
    "\n",
    "    reg_ada.fit(X_train, y_train)\n",
    "    reg_gboost.fit(X_train, y_train)\n",
    "\n",
    "    y_ada = reg_ada.predict(X_val)\n",
    "    y_gboost = reg_gboost.predict(X_val)\n",
    "    \n",
    "    mse_ada_md.append(mean_squared_error(y_val, y_ada))\n",
    "    mse_gboost_md.append(mean_squared_error(y_val, y_gboost))\n",
    "    \n",
    "    mae_ada_md.append(mean_absolute_error(y_val, y_ada))\n",
    "    mae_gboost_md.append(mean_absolute_error(y_val, y_gboost))\n",
    "    \n",
    "    r2_ada_md.append(r2_score(y_val, y_ada))\n",
    "    r2_gboost_md.append(r2_score(y_val, y_gboost))"
   ]
  },
  {
   "cell_type": "markdown",
   "metadata": {
    "slideshow": {
     "slide_type": "skip"
    }
   },
   "source": [
    "So let us visualize the results in a pair gridplot between the *max_depth* and all of our errors:"
   ]
  },
  {
   "cell_type": "code",
   "execution_count": 71,
   "metadata": {
    "slideshow": {
     "slide_type": "slide"
    }
   },
   "outputs": [],
   "source": [
    "from sklearn.metrics import mean_squared_error\n",
    "import matplotlib.pyplot as plt\n",
    "\n",
    "\n",
    "fig, ax = plt.subplots(1, 3, figsize=(22, 9), sharex=True)\n",
    "\n",
    "ax[0].plot(max_depths, mse_ada_md, label='Adaptive Boosting', alpha=0.7)\n",
    "ax[0].plot(max_depths, mse_gboost_md, label='Gradient Boosting', alpha=0.7)\n",
    "ax[0].set_xlabel('Max Depth')\n",
    "ax[0].set_title(\"Mean Square Error\")\n",
    "ax[0].legend()\n",
    "\n",
    "ax[1].plot(max_depths, mae_ada_md, label='Adaptive Boosting', alpha=0.7)\n",
    "ax[1].plot(max_depths, mae_gboost_md, label='Gradient Boosting', alpha=0.7)\n",
    "ax[1].set_xlabel('Max Depth')\n",
    "ax[1].set_title(\"Mean Absolute Error\")\n",
    "ax[1].legend()\n",
    "\n",
    "ax[2].plot(max_depths, r2_ada_md, label='Adaptive Boosting', alpha=0.7)\n",
    "ax[2].plot(max_depths, r2_gboost_md, label='Gradient Boosting', alpha=0.7)\n",
    "ax[2].set_xlabel('Max Depth')\n",
    "ax[2].set_title(\"R2 Score\")\n",
    "ax[2].legend()\n",
    "\n",
    "fig.suptitle('Hyperparameter Optimization: Max Depth', fontsize=20)\n",
    "\n",
    "plt.savefig('hopt_max_dp.png')\n",
    "plt.close()"
   ]
  },
  {
   "cell_type": "markdown",
   "metadata": {
    "slideshow": {
     "slide_type": "slide"
    }
   },
   "source": [
    "<img src=\"hopt_max_dp.png\" />"
   ]
  },
  {
   "cell_type": "markdown",
   "metadata": {
    "slideshow": {
     "slide_type": "skip"
    }
   },
   "source": [
    "**Adaptive Boosting** performs best when the depth is 5, however its error stops to improve in both MSE and MAE case. **Gradient Boosting** respond the same way to the depth, however as you can see in the chart, **Gradient Boosting** fluctuates a lot with different *max_depth* values.\n",
    "\n",
    "Let us fix the value of *max_depth* to 3 according to our validation set, and continue with another common hyper-parameter across all three models, *min_samples_split*:"
   ]
  },
  {
   "cell_type": "code",
   "execution_count": 14,
   "metadata": {
    "slideshow": {
     "slide_type": "slide"
    }
   },
   "outputs": [],
   "source": [
    "min_samples_splits = np.linspace(0.1, 1.0, 20, endpoint=True)\n",
    "\n",
    "mse_ada_mss = []; mse_gboost_mss = []\n",
    "mae_ada_mss = []; mae_gboost_mss = []\n",
    "r2_ada_mss = []; r2_gboost_mss = []\n",
    "\n",
    "for min_split in min_samples_splits:\n",
    "    reg_ada = AdaBoostRegressor(DecisionTreeRegressor(max_depth=max_depth, min_samples_split=min_split),\n",
    "                          n_estimators=300, random_state=rng)\n",
    "    reg_gboost = GradientBoostingRegressor(loss='quantile', min_samples_split=min_split,\n",
    "                                  n_estimators=300,learning_rate=.1, max_depth=4, \n",
    "                                  random_state=rng)\n",
    "\n",
    "    reg_ada.fit(X_train, y_train)\n",
    "    reg_gboost.fit(X_train, y_train)\n",
    "\n",
    "    y_ada = reg_ada.predict(X_val)\n",
    "    y_gboost = reg_gboost.predict(X_val)\n",
    "    \n",
    "    mse_ada_mss.append(mean_squared_error(y_val, y_ada))\n",
    "    mse_gboost_mss.append(mean_squared_error(y_val, y_gboost))\n",
    "    \n",
    "    mae_ada_mss.append(mean_absolute_error(y_val, y_ada))\n",
    "    mae_gboost_mss.append(mean_absolute_error(y_val, y_gboost))\n",
    "    \n",
    "    r2_ada_mss.append(r2_score(y_val, y_ada))\n",
    "    r2_gboost_mss.append(r2_score(y_val, y_gboost))"
   ]
  },
  {
   "cell_type": "markdown",
   "metadata": {
    "slideshow": {
     "slide_type": "skip"
    }
   },
   "source": [
    "Let us plot the min sample splits across all types of errors:"
   ]
  },
  {
   "cell_type": "code",
   "execution_count": 72,
   "metadata": {
    "slideshow": {
     "slide_type": "slide"
    }
   },
   "outputs": [],
   "source": [
    "from sklearn.metrics import mean_squared_error\n",
    "import matplotlib.pyplot as plt\n",
    "\n",
    "\n",
    "fig, ax = plt.subplots(1, 3, figsize=(21, 9), sharex=True)\n",
    "\n",
    "ax[0].plot(min_samples_splits, mse_ada_mss, label='Adaptive Boosting', alpha=0.7)\n",
    "ax[0].plot(min_samples_splits, mse_gboost_mss, label='Gradient Boosting', alpha=0.7)\n",
    "ax[0].set_xlabel('Min Samples Split')\n",
    "ax[0].set_title('Mean Square Error')\n",
    "ax[0].legend()\n",
    "\n",
    "ax[1].plot(min_samples_splits, mae_ada_mss, label='Adaptive Boosting', alpha=0.7)\n",
    "ax[1].plot(min_samples_splits, mae_gboost_mss, label='Gradient Boosting', alpha=0.7)\n",
    "ax[1].set_xlabel('Min Samples Split')\n",
    "ax[1].set_title('Mean Absolute Error')\n",
    "ax[1].legend()\n",
    "\n",
    "ax[2].plot(min_samples_splits, r2_ada_mss, label='Adaptive Boosting', alpha=0.7)\n",
    "ax[2].plot(min_samples_splits, r2_gboost_mss, label='Gradient Boosting', alpha=0.7)\n",
    "ax[2].set_xlabel('Min Samples Split')\n",
    "ax[2].set_title('R2 Score')\n",
    "ax[2].legend()\n",
    "\n",
    "fig.suptitle('Hyperparameter Optimization: Minimum Samples Split', fontsize=20)\n",
    "\n",
    "plt.savefig('hopt_splt.png')\n",
    "plt.close()"
   ]
  },
  {
   "cell_type": "markdown",
   "metadata": {
    "slideshow": {
     "slide_type": "slide"
    }
   },
   "source": [
    "<img src=\"hopt_splt.png\" />"
   ]
  },
  {
   "cell_type": "markdown",
   "metadata": {
    "slideshow": {
     "slide_type": "skip"
    }
   },
   "source": [
    "When looking at these charts, we can see that **Adaptive Boosting** performs best with small values of splits, i.e. *min_samples_split=0.1*, however Gradient Boosting performs *almost* the same at the 0.1 and 0.9 which needs further investigation in this case, however this will be outside of the scope of this lecture:"
   ]
  },
  {
   "cell_type": "markdown",
   "metadata": {
    "slideshow": {
     "slide_type": "slide"
    }
   },
   "source": [
    "### XGboost\n",
    "\n",
    "According to its documentation, \"XGBoost is an optimized distributed gradient boosting library designed to be highly efficient, flexible and portable. It implements machine learning algorithms under the Gradient Boosting framework. XGBoost provides a parallel tree boosting (also known as GBDT, GBM) that solve many data science problems in a fast and accurate way.\" In short, XGboost is a highly optimized Gradient Boosting model. \n",
    "\n",
    "The model has many more advantages compare to the Scikit Learn's Gradient Boosting. It allows for a more detailed parameter and hyperparameter tuning, and so forth. For more information, read \"XGBoost: A Scalable Tree Boosting System\" by Chen and Guestrin (2016).\n",
    "\n",
    "Let us have a look at how to load and predict the data using Xgboost. First we need to install the package:"
   ]
  },
  {
   "cell_type": "code",
   "execution_count": 15,
   "metadata": {
    "slideshow": {
     "slide_type": "slide"
    }
   },
   "outputs": [
    {
     "name": "stdout",
     "output_type": "stream",
     "text": [
      "Requirement already satisfied: xgboost in /home/amir/anaconda3/envs/tf/lib/python3.5/site-packages (0.81)\n",
      "Requirement already satisfied: scipy in /home/amir/anaconda3/envs/tf/lib/python3.5/site-packages (from xgboost) (1.1.0)\n",
      "Requirement already satisfied: numpy in /home/amir/anaconda3/envs/tf/lib/python3.5/site-packages (from xgboost) (1.14.2)\n",
      "\u001b[33mYou are using pip version 18.0, however version 18.1 is available.\n",
      "You should consider upgrading via the 'pip install --upgrade pip' command.\u001b[0m\n"
     ]
    }
   ],
   "source": [
    "!pip install xgboost"
   ]
  },
  {
   "cell_type": "code",
   "execution_count": 19,
   "metadata": {
    "slideshow": {
     "slide_type": "slide"
    }
   },
   "outputs": [],
   "source": [
    "import xgboost as xgb\n",
    "\n",
    "xg_reg = xgb.XGBRegressor(objective ='reg:linear', \n",
    "                          colsample_bytree = 0.3, learning_rate = 0.1,\n",
    "                          max_depth = 4, alpha = 10, n_estimators = 300, seed=1)\n",
    "\n",
    "xg_reg.fit(X_train,y_train)\n",
    "\n",
    "y_xgboost = xg_reg.predict(X_test)"
   ]
  },
  {
   "cell_type": "code",
   "execution_count": 95,
   "metadata": {
    "slideshow": {
     "slide_type": "slide"
    }
   },
   "outputs": [],
   "source": [
    "import matplotlib.pyplot as plt\n",
    "\n",
    "\n",
    "fig, ax = plt.subplots(1, 2, figsize=(21, 11), sharex=True, sharey=True)\n",
    "\n",
    "ax[0].scatter(y_test, y_xgboost, label='XGBoost', alpha=0.7, color='red')\n",
    "ax[0].plot(y_test, y_test, label='Ground Truth', alpha=0.7, color='green', linestyle='--')\n",
    "ax[0].set_xlabel('True Values')\n",
    "ax[0].set_ylabel('Predicted Values')\n",
    "ax[0].legend()\n",
    "\n",
    "ax[1].scatter(y_test, y_gboost, label='Gradient Boosting', alpha=0.7, color='blue')\n",
    "ax[1].plot(y_test, y_test, label='Ground Truth', alpha=0.7, color='green', linestyle='--')\n",
    "ax[1].set_xlabel('True Values')\n",
    "ax[1].legend()\n",
    "\n",
    "\n",
    "fig.suptitle(\"Boston Housing Regression: Truth vs. Predicted\")\n",
    "\n",
    "plt.savefig('xgboost_truth_e.png')\n",
    "plt.close()"
   ]
  },
  {
   "cell_type": "markdown",
   "metadata": {
    "slideshow": {
     "slide_type": "slide"
    }
   },
   "source": [
    "<img src=\"xgboost_truth_e.png\" />"
   ]
  },
  {
   "cell_type": "markdown",
   "metadata": {
    "slideshow": {
     "slide_type": "skip"
    }
   },
   "source": [
    "As mentioned before, the implementation details of the two models are different, however we choose the same values for the ones both share, which as you can see results in two different predictions. The fact checking of using different packages in your data science projects is of utmost importance, especially when comparing and benchmarking models. \n",
    "\n",
    "In this case, we knew that these two pacakges have been implemented differently. How does **XGboost** perform with regards to *max_depth*? Let us have a look:"
   ]
  },
  {
   "cell_type": "code",
   "execution_count": 21,
   "metadata": {
    "slideshow": {
     "slide_type": "slide"
    }
   },
   "outputs": [],
   "source": [
    "import xgboost as xgb\n",
    "\n",
    "max_depths = np.linspace(1, 32, 32).astype(np.int32)\n",
    "\n",
    "mse_xgboost_md = []; mae_xgboost_md = []; r2_xgboost_md = []\n",
    "\n",
    "for max_depth in max_depths:\n",
    "    xg_reg = xgb.XGBRegressor(objective ='reg:linear', \n",
    "                          colsample_bytree = 0.3, learning_rate = 0.1,\n",
    "                          max_depth = max_depth, alpha = 10, n_estimators = 300, seed=1)\n",
    "    xg_reg.fit(X_train,y_train)\n",
    "    y_xgboost = xg_reg.predict(X_val)\n",
    "\n",
    "    \n",
    "    mse_xgboost_md.append(mean_squared_error(y_val, y_xgboost))\n",
    "    mae_xgboost_md.append(mean_absolute_error(y_val, y_xgboost))\n",
    "    r2_xgboost_md.append(r2_score(y_val, y_xgboost))"
   ]
  },
  {
   "cell_type": "markdown",
   "metadata": {
    "slideshow": {
     "slide_type": "skip"
    }
   },
   "source": [
    "Let us look at the error between XGboost and Gradient Boosting from Sklearn:"
   ]
  },
  {
   "cell_type": "code",
   "execution_count": 75,
   "metadata": {
    "slideshow": {
     "slide_type": "slide"
    }
   },
   "outputs": [],
   "source": [
    "from sklearn.metrics import mean_squared_error\n",
    "import matplotlib.pyplot as plt\n",
    "\n",
    "\n",
    "fig, ax = plt.subplots(1, 3, figsize=(21, 9), sharex=True)\n",
    "\n",
    "ax[0].plot(max_depths, mse_gboost_md, label='Gradient Boosting', alpha=0.7)\n",
    "ax[0].plot(max_depths, mse_xgboost_md, label='XGBoost', alpha=0.7)\n",
    "ax[0].set_xlabel('Max Depth')\n",
    "ax[0].set_title(\"Mean Square Error\")\n",
    "ax[0].legend()\n",
    "\n",
    "ax[1].plot(max_depths, mae_gboost_md, label='Gradient Boosting', alpha=0.7)\n",
    "ax[1].plot(max_depths, mae_xgboost_md, label='XGboost', alpha=0.7)\n",
    "ax[1].set_xlabel('Max Depth')\n",
    "ax[1].set_title(\"Mean Absolute Error\")\n",
    "ax[1].legend()\n",
    "\n",
    "ax[2].plot(max_depths, r2_gboost_md, label='Gradient Boosting', alpha=0.7)\n",
    "ax[2].plot(max_depths, r2_xgboost_md, label='XGboost', alpha=0.7)\n",
    "ax[2].set_xlabel('Max Depth')\n",
    "ax[2].set_title(\"R2 Score\")\n",
    "ax[2].legend()\n",
    "\n",
    "fig.suptitle('Hyperparameter Optimization: Max Depth', fontsize=20)\n",
    "\n",
    "plt.savefig('xgboost-max.png')\n",
    "plt.close()"
   ]
  },
  {
   "cell_type": "markdown",
   "metadata": {
    "slideshow": {
     "slide_type": "slide"
    }
   },
   "source": [
    "<img src=\"xgboost-max.png\" />"
   ]
  },
  {
   "cell_type": "markdown",
   "metadata": {
    "slideshow": {
     "slide_type": "skip"
    }
   },
   "source": [
    "XGboost performs at its best in smaller depths and its minum error is at **max_depth=2** and in all cases it out-performs the gradient boosting from Sklearn, which at this point should not a surprise, since XGboost enjoyts a much more optimized implementation.\n",
    "\n",
    "We will finish this section with a short performance analysis of the package. One of the many reasons that **XGboost** is popular is due to its performance. Let us have a look:"
   ]
  },
  {
   "cell_type": "markdown",
   "metadata": {
    "slideshow": {
     "slide_type": "slide"
    }
   },
   "source": [
    "### XGboost performance compared to Sklearn's Gradient Boosting"
   ]
  },
  {
   "cell_type": "markdown",
   "metadata": {
    "slideshow": {
     "slide_type": "skip"
    }
   },
   "source": [
    "We will examine the performance differences between XGboost and Scikit Learn's implementation. We will check the performance at both training and prediction phases:"
   ]
  },
  {
   "cell_type": "code",
   "execution_count": 24,
   "metadata": {
    "slideshow": {
     "slide_type": "slide"
    }
   },
   "outputs": [],
   "source": [
    "import xgboost as xgb\n",
    "import time\n",
    "\n",
    "fit_time_xgboost = []\n",
    "pred_time_xgboost = []\n",
    "\n",
    "repetitions = np.linspace(1, 100, 100).astype(np.int32)\n",
    "\n",
    "for repetition in repetitions:\n",
    "    start_fit_time_xgboost = time.time()\n",
    "    xg_reg = xgb.XGBRegressor(objective ='reg:linear', \n",
    "                          colsample_bytree = 0.3, learning_rate = 0.1,\n",
    "                          max_depth = max_depth, alpha = 10, n_estimators = 300, seed=1)\n",
    "    y_xgboost = xg_reg.fit(X_train,y_train)\n",
    "    end_fit_time_xgboost = time.time()\n",
    "    \n",
    "    start_pred_time_xgboost = time.time()\n",
    "    y_xgboost = xg_reg.predict(X_test)\n",
    "    end_pred_time_xgboost = time.time()\n",
    "    \n",
    "    fit_time_xgboost.append(end_fit_time_xgboost - start_fit_time_xgboost)\n",
    "    pred_time_xgboost.append(end_pred_time_xgboost - start_pred_time_xgboost)"
   ]
  },
  {
   "cell_type": "code",
   "execution_count": 25,
   "metadata": {
    "slideshow": {
     "slide_type": "slide"
    }
   },
   "outputs": [],
   "source": [
    "fit_time_gboost = []\n",
    "pred_time_gboost = []\n",
    "\n",
    "for repetition in repetitions:\n",
    "    start_fit_time_gboost = time.time()\n",
    "    regr_gboost = GradientBoostingRegressor(loss='quantile', \n",
    "                                  n_estimators=300,learning_rate=.1, max_depth=4, random_state=rng)\n",
    "    regr_gboost.fit(X_train, y_train)\n",
    "    end_fit_time_gboost = time.time()\n",
    "    \n",
    "    start_pred_time_gboost = time.time()\n",
    "    y_gboost = regr_gboost.predict(X_test)\n",
    "    end_pred_time_gboost = time.time()\n",
    "    \n",
    "    fit_time_gboost.append(end_fit_time_gboost - start_fit_time_gboost)\n",
    "    pred_time_gboost.append(end_pred_time_gboost - start_pred_time_gboost)"
   ]
  },
  {
   "cell_type": "code",
   "execution_count": 28,
   "metadata": {
    "slideshow": {
     "slide_type": "slide"
    }
   },
   "outputs": [],
   "source": [
    "import matplotlib.pyplot as plt\n",
    "\n",
    "fig, ax = plt.subplots(1, 2, figsize=(19, 9))\n",
    "\n",
    "ax[0].set_title('CPU performance (Training)')\n",
    "ax[0].boxplot([fit_time_gboost, fit_time_xgboost])\n",
    "ax[0].set_xticklabels(('Gradient Boosting', 'XGboost'))\n",
    "\n",
    "ax[1].set_title('CPU performance (Inference)')\n",
    "ax[1].boxplot([pred_time_gboost, pred_time_xgboost])\n",
    "ax[1].set_xticklabels(('Gradient Boosting', 'XGboost'))\n",
    "\n",
    "plt.savefig('performance_xgboost.png')\n",
    "plt.close()"
   ]
  },
  {
   "cell_type": "markdown",
   "metadata": {
    "slideshow": {
     "slide_type": "slide"
    }
   },
   "source": [
    "<img src=\"performance_xgboost.png\" />"
   ]
  },
  {
   "cell_type": "markdown",
   "metadata": {
    "slideshow": {
     "slide_type": "skip"
    }
   },
   "source": [
    "As expected, XGboost outperforms the Gradient Boosting, however we see another interesting result that Scikit Learn outperforms the XGboost in the prediction phase. This needs further investigation, bearing in mind that the implementations are very different in many aspects."
   ]
  },
  {
   "cell_type": "markdown",
   "metadata": {
    "slideshow": {
     "slide_type": "slide"
    }
   },
   "source": [
    "### A brief introduction to Neural Networks"
   ]
  },
  {
   "cell_type": "markdown",
   "metadata": {
    "slideshow": {
     "slide_type": "fragment"
    }
   },
   "source": [
    "According to Wikipedia, \"Artificial Neural Networks (ANN) or connectionist systems are computing systems vaguely inspired by the biological neural networks that constitute animal brains.[1] The neural network itself is not an algorithm, but rather a framework for many different machine learning algorithms to work together and process complex data inputs\". Artificial Neural Networks have lately gained recognition to their ability to model highly non-linear mappings, which is very valuable when working with digital images and text."
   ]
  },
  {
   "cell_type": "markdown",
   "metadata": {
    "slideshow": {
     "slide_type": "slide"
    }
   },
   "source": [
    "There are three main components in an Aritificial Neural Network:\n",
    "   * **Neuron**: a computational unit that has three components:\n",
    "       * an input weight connection\n",
    "       * an output weight connection\n",
    "       * an activation function\n",
    "   * **Backpropagation algorithm**: using backpropagation, neural networks learn to minimze the cost, or in Neural Network literature, loss functions\n",
    "   * **Weights or connections**: Each neuron is connected to at least one other neuron by a weight vector which controls the effect that the output of one neuron has for another"
   ]
  },
  {
   "cell_type": "markdown",
   "metadata": {
    "slideshow": {
     "slide_type": "slide"
    }
   },
   "source": [
    "#### Achitecture:\n",
    "\n",
    "<img src=\"https://upload.wikimedia.org/wikipedia/commons/6/60/ArtificialNeuronModel_english.png\" style=\"width:600px\"/>\n",
    "\n",
    "Source: [Artificial Intelligence, Deep Learning, and Neural Networks, Explained](https://www.kdnuggets.com/2016/10/artificial-intelligence-deep-learning-neural-networks-explained.html)"
   ]
  },
  {
   "cell_type": "markdown",
   "metadata": {
    "slideshow": {
     "slide_type": "slide"
    }
   },
   "source": [
    "### Neuron\n",
    "\n",
    "\n",
    "In order to imagine the concept of a neuron, you can think in terms of matrix multiplications. Let us demonstrate this case:"
   ]
  },
  {
   "cell_type": "code",
   "execution_count": 22,
   "metadata": {
    "slideshow": {
     "slide_type": "fragment"
    }
   },
   "outputs": [],
   "source": [
    "import numpy as np\n",
    "import tensorflow as tf\n",
    "\n",
    "inp = np.random.random((10, 2))\n",
    "w = np.random.random((2, 1))\n",
    "\n",
    "pre_activation = np.dot(inp, w)"
   ]
  },
  {
   "cell_type": "markdown",
   "metadata": {
    "slideshow": {
     "slide_type": "skip"
    }
   },
   "source": [
    "As you can see, there is a strict constarint that the input and its corresponding weight should share the same second dimension, else the algorithm cannot perform the matrix multiplication.\n",
    "\n",
    "Let us have a look at the shape of our data now:"
   ]
  },
  {
   "cell_type": "code",
   "execution_count": 23,
   "metadata": {
    "slideshow": {
     "slide_type": "fragment"
    }
   },
   "outputs": [
    {
     "data": {
      "text/plain": [
       "(10, 1)"
      ]
     },
     "execution_count": 23,
     "metadata": {},
     "output_type": "execute_result"
    }
   ],
   "source": [
    "pre_activation.shape"
   ]
  },
  {
   "cell_type": "markdown",
   "metadata": {
    "slideshow": {
     "slide_type": "skip"
    }
   },
   "source": [
    "Now let us activate these pre activation values by passing them into the activation function, but before we need to sum up the values:"
   ]
  },
  {
   "cell_type": "code",
   "execution_count": 24,
   "metadata": {
    "slideshow": {
     "slide_type": "slide"
    }
   },
   "outputs": [],
   "source": [
    "def sigmoid_activation(x):\n",
    "    return 1 / (1 + np.exp(-x))\n",
    "\n",
    "activation =sigmoid_activation(pre_activation)"
   ]
  },
  {
   "cell_type": "code",
   "execution_count": 25,
   "metadata": {
    "slideshow": {
     "slide_type": "fragment"
    }
   },
   "outputs": [
    {
     "data": {
      "text/plain": [
       "(10, 1)"
      ]
     },
     "execution_count": 25,
     "metadata": {},
     "output_type": "execute_result"
    }
   ],
   "source": [
    "activation.shape"
   ]
  },
  {
   "cell_type": "code",
   "execution_count": 26,
   "metadata": {
    "slideshow": {
     "slide_type": "fragment"
    }
   },
   "outputs": [
    {
     "data": {
      "text/plain": [
       "array([[0.64389944],\n",
       "       [0.60764627],\n",
       "       [0.68603278],\n",
       "       [0.64009817],\n",
       "       [0.57296271],\n",
       "       [0.71433538],\n",
       "       [0.69467604],\n",
       "       [0.55218637],\n",
       "       [0.69880708],\n",
       "       [0.66958855]])"
      ]
     },
     "execution_count": 26,
     "metadata": {},
     "output_type": "execute_result"
    }
   ],
   "source": [
    "activation"
   ]
  },
  {
   "cell_type": "markdown",
   "metadata": {
    "slideshow": {
     "slide_type": "slide"
    }
   },
   "source": [
    "### Backpropagation:\n",
    "\n",
    "The above code we wrote is actually the first part of the learning in the backproapgation algorithm, called forward pass. This is a pseudocode:\n",
    "\n",
    "<script type=\"text/javascript\" src=\"http://cdn.mathjax.org/mathjax/latest/MathJax.js?config=TeX-AMS-MML_HTMLorMML\"></script>\n",
    "\n",
    "```python\n",
    "initialize network weights (often small random values)\n",
    "  do\n",
    "     forEach training example named ex\n",
    "        prediction = neural-net-output(network, ex)  // forward pass\n",
    "        actual = teacher-output(ex)\n",
    "        compute error (prediction - actual) at the output units\n",
    "        compute Δ w h Delta w_h, for all weights from hidden layer to output layer  // backward pass\n",
    "        compute Δ w i Delta w_i, for all weights from input layer to hidden layer   // backward pass \n",
    "        update network weights // input layer not modified by error estimate\n",
    "  until all examples classified correctly or another stopping criterion satisfied\n",
    "  return the network\n",
    "```\n",
    "\n",
    "*Source: Wikipedia entry of Backpropagation*"
   ]
  },
  {
   "cell_type": "markdown",
   "metadata": {
    "slideshow": {
     "slide_type": "slide"
    }
   },
   "source": [
    "Backpropagation is a variant of an important learning algorithm called Stochastic Gradient Descent. \"Stochastic gradient descent (often shortened to SGD), also known as incremental gradient descent, is an iterative method for optimizing a differentiable objective function, a stochastic approximation of gradient descent optimization\", as cited in the Wikipedia article.\n",
    "\n",
    "In order to grasp the way Stochastic Gradient Descent works, let us look at a visualization of different variations of Stochastic Gradient Descent (all visualization are taken from: https://imgur.com/a/Hqolp."
   ]
  },
  {
   "cell_type": "markdown",
   "metadata": {
    "slideshow": {
     "slide_type": "slide"
    }
   },
   "source": [
    "Let us first have a look at how the algorithm finds minmum values in a normal 3-D surface called **Rosenbrock function**, in which the global minimum is inside a long and narrow flat valley: \n",
    "\n",
    "<img src=\"https://i.imgur.com/2dKCQHh.gif?1\" />"
   ]
  },
  {
   "cell_type": "markdown",
   "metadata": {
    "slideshow": {
     "slide_type": "slide"
    }
   },
   "source": [
    "And have a look at **Beale function**:\n",
    "\n",
    "<img src=\"https://i.imgur.com/NKsFHJb.gif?1\" />"
   ]
  },
  {
   "cell_type": "markdown",
   "metadata": {
    "slideshow": {
     "slide_type": "slide"
    }
   },
   "source": [
    "### Tensorflow"
   ]
  },
  {
   "cell_type": "markdown",
   "metadata": {
    "slideshow": {
     "slide_type": "fragment"
    }
   },
   "source": [
    "As said in the corresponding Wikipedia article, \"TensorFlow is an open-source software library for dataflow programming across a range of tasks. It is a symbolic math library, and is also used for machine learning applications such as neural networks.\"\n",
    "\n",
    "As you can see from our small exercise, writing performance efficient code for Neural Networks can be tricky. Not only that, there are many corner cases in which calculating gradients of large matrix can be error-prone. It is advisable to use trusted libraries like Tensorflow in order to be on the safe side.\n",
    "\n",
    "\n",
    "In this part of the lecture, we will be solving our Boston Housing problem, using Tensorflow. First let us start by a simple demo of a service from Tensorflow called [A Neural Network Playground](https://playground.tensorflow.org)"
   ]
  },
  {
   "cell_type": "code",
   "execution_count": 31,
   "metadata": {
    "slideshow": {
     "slide_type": "slide"
    }
   },
   "outputs": [
    {
     "name": "stdout",
     "output_type": "stream",
     "text": [
      "1.5.0\n"
     ]
    }
   ],
   "source": [
    "from __future__ import absolute_import, division, print_function\n",
    "\n",
    "import tensorflow as tf\n",
    "from tensorflow import keras\n",
    "\n",
    "import numpy as np\n",
    "\n",
    "print(tf.__version__)"
   ]
  },
  {
   "cell_type": "markdown",
   "metadata": {
    "slideshow": {
     "slide_type": "skip"
    }
   },
   "source": [
    "As you can see, in this lecture we are covering the Tensorflow 1.5. The Tensorflow API changes so rapidly, therefore it is important that you checkout the relevant documentation:"
   ]
  },
  {
   "cell_type": "markdown",
   "metadata": {
    "slideshow": {
     "slide_type": "skip"
    }
   },
   "source": [
    "Unfortunately due to an inconsistency in the Tensorflow API, we need to run the cross validation process again, since the API does not let us control the validation set, and randomly chunks the training data by a **validation_split** parameter, later when the **fit** method is called:"
   ]
  },
  {
   "cell_type": "code",
   "execution_count": 32,
   "metadata": {
    "slideshow": {
     "slide_type": "slide"
    }
   },
   "outputs": [],
   "source": [
    "from numpy.random import seed\n",
    "from tensorflow import set_random_seed\n",
    "\n",
    "from sklearn import datasets\n",
    "from sklearn.model_selection import train_test_split\n",
    "\n",
    "seed(1)\n",
    "set_random_seed(2)\n",
    "rng = np.random.RandomState(1)\n",
    "\n",
    "\n",
    "boston = datasets.load_boston()\n",
    "\n",
    "#Divide the data\n",
    "x_train, X_test, y_train, y_test = train_test_split(boston.data, \n",
    "                                                    boston.target, test_size=0.2, random_state=rng)\n",
    "\n",
    "# Shuffle the training set\n",
    "order = np.argsort(np.random.random(y_train.shape))\n",
    "X_train = x_train[order]\n",
    "y_train = y_train[order]"
   ]
  },
  {
   "cell_type": "code",
   "execution_count": 33,
   "metadata": {
    "slideshow": {
     "slide_type": "slide"
    }
   },
   "outputs": [],
   "source": [
    "def build_model():\n",
    "    model = keras.Sequential([\n",
    "        keras.layers.Dense(64, activation=tf.nn.relu,\n",
    "                       input_shape=(X_train.shape[1],)),\n",
    "        keras.layers.Dense(64, activation=tf.nn.relu),\n",
    "        keras.layers.Dense(1)\n",
    "  ])\n",
    "\n",
    "    optimizer = tf.train.RMSPropOptimizer(0.001)\n",
    "\n",
    "    model.compile(loss='mse',\n",
    "                optimizer=optimizer,\n",
    "                metrics=['mae'])\n",
    "    return model"
   ]
  },
  {
   "cell_type": "code",
   "execution_count": 34,
   "metadata": {
    "slideshow": {
     "slide_type": "slide"
    }
   },
   "outputs": [
    {
     "name": "stdout",
     "output_type": "stream",
     "text": [
      "WARNING:tensorflow:From /home/amir/anaconda3/envs/tf/lib/python3.5/site-packages/tensorflow/python/keras/_impl/keras/backend.py:1557: calling reduce_mean (from tensorflow.python.ops.math_ops) with keep_dims is deprecated and will be removed in a future version.\n",
      "Instructions for updating:\n",
      "keep_dims is deprecated, use keepdims instead\n",
      "_________________________________________________________________\n",
      "Layer (type)                 Output Shape              Param #   \n",
      "=================================================================\n",
      "dense_1 (Dense)              (None, 64)                896       \n",
      "_________________________________________________________________\n",
      "dense_2 (Dense)              (None, 64)                4160      \n",
      "_________________________________________________________________\n",
      "dense_3 (Dense)              (None, 1)                 65        \n",
      "=================================================================\n",
      "Total params: 5,121\n",
      "Trainable params: 5,121\n",
      "Non-trainable params: 0\n",
      "_________________________________________________________________\n"
     ]
    }
   ],
   "source": [
    "model_rmsprop = build_model()\n",
    "model_rmsprop.summary()"
   ]
  },
  {
   "cell_type": "code",
   "execution_count": 36,
   "metadata": {
    "slideshow": {
     "slide_type": "slide"
    }
   },
   "outputs": [
    {
     "name": "stdout",
     "output_type": "stream",
     "text": [
      "Train on 323 samples, validate on 81 samples\n",
      "Epoch 1/500\n",
      "323/323 [==============================]323/323 [==============================] - 1s 3ms/step - loss: 1168.6879 - mean_absolute_error: 19.4564 - val_loss: 139.5384 - val_mean_absolute_error: 8.4981\n",
      "\n",
      "Epoch 2/500\n",
      "323/323 [==============================]323/323 [==============================] - 0s 54us/step - loss: 108.8856 - mean_absolute_error: 7.8281 - val_loss: 359.1174 - val_mean_absolute_error: 15.9881\n",
      "\n",
      "Epoch 3/500\n",
      "323/323 [==============================]323/323 [==============================] - 0s 73us/step - loss: 142.4485 - mean_absolute_error: 8.8144 - val_loss: 100.0713 - val_mean_absolute_error: 8.4100\n",
      "\n",
      "Epoch 4/500\n",
      "323/323 [==============================]323/323 [==============================] - 0s 57us/step - loss: 241.8327 - mean_absolute_error: 12.1756 - val_loss: 157.1171 - val_mean_absolute_error: 9.3944\n",
      "\n",
      "Epoch 5/500\n",
      "323/323 [==============================]323/323 [==============================] - 0s 54us/step - loss: 96.8481 - mean_absolute_error: 7.5520 - val_loss: 76.9559 - val_mean_absolute_error: 5.9647\n",
      "\n",
      "Epoch 6/500\n",
      "323/323 [==============================]323/323 [==============================] - 0s 49us/step - loss: 179.8361 - mean_absolute_error: 10.8882 - val_loss: 158.1201 - val_mean_absolute_error: 11.0747\n",
      "\n",
      "Epoch 7/500\n",
      "323/323 [==============================]323/323 [==============================] - 0s 55us/step - loss: 139.9394 - mean_absolute_error: 9.3416 - val_loss: 123.5289 - val_mean_absolute_error: 9.4426\n",
      "\n",
      "Epoch 8/500\n",
      "323/323 [==============================]323/323 [==============================] - 0s 49us/step - loss: 157.7356 - mean_absolute_error: 9.9474 - val_loss: 118.0060 - val_mean_absolute_error: 7.6149\n",
      "\n",
      "Epoch 9/500\n",
      "323/323 [==============================]323/323 [==============================] - 0s 47us/step - loss: 175.3618 - mean_absolute_error: 10.7173 - val_loss: 144.2487 - val_mean_absolute_error: 9.0290\n",
      "\n",
      "Epoch 10/500\n",
      "323/323 [==============================]323/323 [==============================] - 0s 48us/step - loss: 131.8468 - mean_absolute_error: 9.3294 - val_loss: 118.8070 - val_mean_absolute_error: 9.3616\n",
      "\n",
      "Epoch 11/500\n",
      "323/323 [==============================]323/323 [==============================] - 0s 58us/step - loss: 158.3336 - mean_absolute_error: 10.5573 - val_loss: 124.7843 - val_mean_absolute_error: 8.1724\n",
      "\n",
      "Epoch 12/500\n",
      "323/323 [==============================]323/323 [==============================] - 0s 51us/step - loss: 128.8567 - mean_absolute_error: 9.0256 - val_loss: 182.8018 - val_mean_absolute_error: 12.4274\n",
      "\n",
      "Epoch 13/500\n",
      "323/323 [==============================]323/323 [==============================] - 0s 48us/step - loss: 156.3929 - mean_absolute_error: 9.7897 - val_loss: 70.8786 - val_mean_absolute_error: 6.6299\n",
      "\n",
      "Epoch 14/500\n",
      "323/323 [==============================]323/323 [==============================] - 0s 52us/step - loss: 94.1361 - mean_absolute_error: 7.4188 - val_loss: 90.5903 - val_mean_absolute_error: 6.2965\n",
      "\n",
      "Epoch 15/500\n",
      "323/323 [==============================]323/323 [==============================] - 0s 52us/step - loss: 146.8345 - mean_absolute_error: 9.2288 - val_loss: 137.2838 - val_mean_absolute_error: 10.5719\n",
      "\n",
      "Epoch 16/500\n",
      "323/323 [==============================]323/323 [==============================] - 0s 51us/step - loss: 104.5797 - mean_absolute_error: 7.6044 - val_loss: 87.1459 - val_mean_absolute_error: 6.4139\n",
      "\n",
      "Epoch 17/500\n",
      "323/323 [==============================]323/323 [==============================] - 0s 62us/step - loss: 161.2075 - mean_absolute_error: 10.3224 - val_loss: 87.2817 - val_mean_absolute_error: 6.4676\n",
      "\n",
      "Epoch 18/500\n",
      "323/323 [==============================]323/323 [==============================] - 0s 51us/step - loss: 117.8677 - mean_absolute_error: 8.3000 - val_loss: 82.8044 - val_mean_absolute_error: 7.7230\n",
      "\n",
      "Epoch 19/500\n",
      "323/323 [==============================]323/323 [==============================] - 0s 53us/step - loss: 88.3545 - mean_absolute_error: 7.5288 - val_loss: 51.1456 - val_mean_absolute_error: 4.7224\n",
      "\n",
      "Epoch 20/500\n",
      "323/323 [==============================]323/323 [==============================] - 0s 58us/step - loss: 137.6119 - mean_absolute_error: 8.6940 - val_loss: 199.8326 - val_mean_absolute_error: 13.1781\n",
      "\n",
      "Epoch 21/500\n",
      "323/323 [==============================]323/323 [==============================] - 0s 51us/step - loss: 84.1950 - mean_absolute_error: 6.7693 - val_loss: 100.0408 - val_mean_absolute_error: 7.5135\n",
      "\n",
      "Epoch 22/500\n",
      "323/323 [==============================]323/323 [==============================] - 0s 50us/step - loss: 119.2610 - mean_absolute_error: 8.2632 - val_loss: 81.3015 - val_mean_absolute_error: 6.4713\n",
      "\n",
      "Epoch 23/500\n",
      "323/323 [==============================]323/323 [==============================] - 0s 53us/step - loss: 60.2810 - mean_absolute_error: 5.7295 - val_loss: 129.2380 - val_mean_absolute_error: 10.0992\n",
      "\n",
      "Epoch 24/500\n",
      "323/323 [==============================]323/323 [==============================] - 0s 53us/step - loss: 134.4477 - mean_absolute_error: 8.9955 - val_loss: 50.2839 - val_mean_absolute_error: 4.3332\n",
      "\n",
      "Epoch 25/500\n",
      "323/323 [==============================]323/323 [==============================] - 0s 58us/step - loss: 67.9970 - mean_absolute_error: 6.0537 - val_loss: 133.2007 - val_mean_absolute_error: 8.2878\n",
      "\n",
      "Epoch 26/500\n",
      "323/323 [==============================]323/323 [==============================] - 0s 51us/step - loss: 123.0512 - mean_absolute_error: 9.4216 - val_loss: 213.8919 - val_mean_absolute_error: 13.7647\n",
      "\n",
      "Epoch 27/500\n",
      "323/323 [==============================]323/323 [==============================] - 0s 50us/step - loss: 100.9264 - mean_absolute_error: 7.4931 - val_loss: 77.5202 - val_mean_absolute_error: 7.5585\n",
      "\n",
      "Epoch 28/500\n",
      "323/323 [==============================]323/323 [==============================] - 0s 63us/step - loss: 117.9394 - mean_absolute_error: 9.1559 - val_loss: 128.5642 - val_mean_absolute_error: 8.8727\n",
      "\n",
      "Epoch 29/500\n",
      "323/323 [==============================]323/323 [==============================] - 0s 54us/step - loss: 52.4217 - mean_absolute_error: 5.3217 - val_loss: 241.6315 - val_mean_absolute_error: 13.4484\n",
      "\n",
      "Epoch 30/500\n",
      "323/323 [==============================]323/323 [==============================] - 0s 49us/step - loss: 130.7767 - mean_absolute_error: 9.1402 - val_loss: 112.5675 - val_mean_absolute_error: 9.5817\n",
      "\n",
      "Epoch 31/500\n",
      "323/323 [==============================]323/323 [==============================] - 0s 49us/step - loss: 81.9653 - mean_absolute_error: 7.1971 - val_loss: 346.8082 - val_mean_absolute_error: 17.8576\n",
      "\n",
      "Epoch 32/500\n",
      "323/323 [==============================]323/323 [==============================] - 0s 51us/step - loss: 105.6056 - mean_absolute_error: 7.8630 - val_loss: 92.7834 - val_mean_absolute_error: 8.4656\n",
      "\n",
      "Epoch 33/500\n",
      "323/323 [==============================]323/323 [==============================] - 0s 46us/step - loss: 110.5129 - mean_absolute_error: 8.3855 - val_loss: 343.3667 - val_mean_absolute_error: 17.4923\n",
      "\n",
      "Epoch 34/500\n",
      "323/323 [==============================]323/323 [==============================] - 0s 51us/step - loss: 77.2540 - mean_absolute_error: 6.1459 - val_loss: 100.9301 - val_mean_absolute_error: 7.4202\n",
      "\n",
      "Epoch 35/500\n",
      "323/323 [==============================]323/323 [==============================] - 0s 48us/step - loss: 106.0525 - mean_absolute_error: 7.9242 - val_loss: 47.6941 - val_mean_absolute_error: 4.9368\n",
      "\n",
      "Epoch 36/500\n",
      "323/323 [==============================]323/323 [==============================] - 0s 58us/step - loss: 50.3191 - mean_absolute_error: 5.1698 - val_loss: 82.2281 - val_mean_absolute_error: 7.8528\n",
      "\n",
      "Epoch 37/500\n",
      "323/323 [==============================]323/323 [==============================] - 0s 53us/step - loss: 85.3284 - mean_absolute_error: 6.9251 - val_loss: 324.2799 - val_mean_absolute_error: 17.2785\n",
      "\n",
      "Epoch 38/500\n",
      "323/323 [==============================]323/323 [==============================] - 0s 48us/step - loss: 101.9874 - mean_absolute_error: 7.4887 - val_loss: 132.9190 - val_mean_absolute_error: 9.1304\n",
      "\n",
      "Epoch 39/500\n"
     ]
    },
    {
     "name": "stdout",
     "output_type": "stream",
     "text": [
      "323/323 [==============================]323/323 [==============================] - 0s 58us/step - loss: 58.7066 - mean_absolute_error: 5.6419 - val_loss: 48.9350 - val_mean_absolute_error: 4.6445\n",
      "\n",
      "Epoch 40/500\n",
      "323/323 [==============================]323/323 [==============================] - 0s 44us/step - loss: 91.0725 - mean_absolute_error: 7.3439 - val_loss: 79.7371 - val_mean_absolute_error: 7.7558\n",
      "\n",
      "Epoch 41/500\n",
      "323/323 [==============================]323/323 [==============================] - 0s 48us/step - loss: 70.7132 - mean_absolute_error: 6.6128 - val_loss: 78.1827 - val_mean_absolute_error: 6.0657\n",
      "\n",
      "Epoch 42/500\n",
      "323/323 [==============================]323/323 [==============================] - 0s 43us/step - loss: 84.6668 - mean_absolute_error: 7.3760 - val_loss: 83.3905 - val_mean_absolute_error: 6.4025\n",
      "\n",
      "Epoch 43/500\n",
      "323/323 [==============================]323/323 [==============================] - 0s 49us/step - loss: 89.8767 - mean_absolute_error: 7.5021 - val_loss: 43.7924 - val_mean_absolute_error: 4.2385\n",
      "\n",
      "Epoch 44/500\n",
      "323/323 [==============================]323/323 [==============================] - 0s 45us/step - loss: 81.4077 - mean_absolute_error: 6.8982 - val_loss: 55.0908 - val_mean_absolute_error: 4.7282\n",
      "\n",
      "Epoch 45/500\n",
      "323/323 [==============================]323/323 [==============================] - 0s 49us/step - loss: 80.5585 - mean_absolute_error: 6.6500 - val_loss: 83.3901 - val_mean_absolute_error: 8.0062\n",
      "\n",
      "Epoch 46/500\n",
      "323/323 [==============================]323/323 [==============================] - 0s 47us/step - loss: 57.7358 - mean_absolute_error: 5.8346 - val_loss: 46.9812 - val_mean_absolute_error: 4.2346\n",
      "\n",
      "Epoch 47/500\n",
      "323/323 [==============================]323/323 [==============================] - 0s 49us/step - loss: 82.3699 - mean_absolute_error: 6.9397 - val_loss: 57.0462 - val_mean_absolute_error: 6.3457\n",
      "\n",
      "Epoch 48/500\n",
      "323/323 [==============================]323/323 [==============================] - 0s 47us/step - loss: 68.9097 - mean_absolute_error: 6.5356 - val_loss: 54.1046 - val_mean_absolute_error: 5.6645\n",
      "\n",
      "Epoch 49/500\n",
      "323/323 [==============================]323/323 [==============================] - 0s 51us/step - loss: 78.8103 - mean_absolute_error: 6.9140 - val_loss: 152.5841 - val_mean_absolute_error: 10.0579\n",
      "\n",
      "Epoch 50/500\n",
      "323/323 [==============================]323/323 [==============================] - 0s 46us/step - loss: 71.9818 - mean_absolute_error: 6.7477 - val_loss: 53.7635 - val_mean_absolute_error: 5.7463\n",
      "\n",
      "Epoch 51/500\n",
      "323/323 [==============================]323/323 [==============================] - 0s 50us/step - loss: 69.9025 - mean_absolute_error: 6.3931 - val_loss: 101.9739 - val_mean_absolute_error: 7.6114\n",
      "\n",
      "Epoch 52/500\n",
      "323/323 [==============================]323/323 [==============================] - 0s 48us/step - loss: 86.1833 - mean_absolute_error: 7.2643 - val_loss: 42.5857 - val_mean_absolute_error: 4.1206\n",
      "\n",
      "Epoch 53/500\n",
      "323/323 [==============================]323/323 [==============================] - 0s 53us/step - loss: 60.6873 - mean_absolute_error: 5.5741 - val_loss: 70.5912 - val_mean_absolute_error: 5.7414\n",
      "\n",
      "Epoch 54/500\n",
      "323/323 [==============================]323/323 [==============================] - 0s 47us/step - loss: 60.3690 - mean_absolute_error: 5.9992 - val_loss: 91.7391 - val_mean_absolute_error: 7.1058\n",
      "\n",
      "Epoch 55/500\n",
      "323/323 [==============================]323/323 [==============================] - 0s 48us/step - loss: 87.7475 - mean_absolute_error: 7.6484 - val_loss: 43.0159 - val_mean_absolute_error: 4.2533\n",
      "\n",
      "Epoch 56/500\n",
      "323/323 [==============================]323/323 [==============================] - 0s 53us/step - loss: 67.3805 - mean_absolute_error: 6.4180 - val_loss: 97.5858 - val_mean_absolute_error: 7.5855\n",
      "\n",
      "Epoch 57/500\n",
      "323/323 [==============================]323/323 [==============================] - 0s 52us/step - loss: 61.2571 - mean_absolute_error: 6.1930 - val_loss: 56.0072 - val_mean_absolute_error: 6.1604\n",
      "\n",
      "Epoch 58/500\n",
      "323/323 [==============================]323/323 [==============================] - 0s 50us/step - loss: 80.3904 - mean_absolute_error: 7.1612 - val_loss: 81.2792 - val_mean_absolute_error: 6.4756\n",
      "\n",
      "Epoch 59/500\n",
      "323/323 [==============================]323/323 [==============================] - 0s 47us/step - loss: 56.6990 - mean_absolute_error: 5.7495 - val_loss: 79.1733 - val_mean_absolute_error: 6.2426\n",
      "\n",
      "Epoch 60/500\n",
      "323/323 [==============================]323/323 [==============================] - 0s 48us/step - loss: 56.8649 - mean_absolute_error: 5.9298 - val_loss: 43.9547 - val_mean_absolute_error: 4.0635\n",
      "\n",
      "Epoch 61/500\n",
      "323/323 [==============================]323/323 [==============================] - 0s 54us/step - loss: 77.4651 - mean_absolute_error: 6.7288 - val_loss: 139.5734 - val_mean_absolute_error: 9.8450\n",
      "\n",
      "Epoch 62/500\n",
      "323/323 [==============================]323/323 [==============================] - 0s 63us/step - loss: 74.6191 - mean_absolute_error: 6.8257 - val_loss: 52.9389 - val_mean_absolute_error: 5.6163\n",
      "\n",
      "Epoch 63/500\n",
      "323/323 [==============================]323/323 [==============================] - 0s 54us/step - loss: 57.7452 - mean_absolute_error: 5.4896 - val_loss: 47.6702 - val_mean_absolute_error: 4.7052\n",
      "\n",
      "Epoch 64/500\n",
      "323/323 [==============================]323/323 [==============================] - 0s 49us/step - loss: 48.9837 - mean_absolute_error: 5.2127 - val_loss: 72.5945 - val_mean_absolute_error: 6.9096\n",
      "\n",
      "Epoch 65/500\n",
      "323/323 [==============================]323/323 [==============================] - 0s 51us/step - loss: 70.1922 - mean_absolute_error: 6.6980 - val_loss: 49.2396 - val_mean_absolute_error: 5.7952\n",
      "\n",
      "Epoch 66/500\n",
      "323/323 [==============================]323/323 [==============================] - 0s 51us/step - loss: 53.2077 - mean_absolute_error: 5.4766 - val_loss: 60.4644 - val_mean_absolute_error: 5.3249\n",
      "\n",
      "Epoch 67/500\n",
      "323/323 [==============================]323/323 [==============================] - 0s 48us/step - loss: 71.1256 - mean_absolute_error: 6.8123 - val_loss: 119.6196 - val_mean_absolute_error: 9.0251\n",
      "\n",
      "Epoch 68/500\n",
      "323/323 [==============================]323/323 [==============================] - 0s 49us/step - loss: 79.0694 - mean_absolute_error: 6.9082 - val_loss: 209.6799 - val_mean_absolute_error: 13.4294\n",
      "\n",
      "Epoch 69/500\n",
      "323/323 [==============================]323/323 [==============================] - 0s 50us/step - loss: 56.2209 - mean_absolute_error: 5.3361 - val_loss: 84.3033 - val_mean_absolute_error: 6.9067\n",
      "\n",
      "Epoch 70/500\n",
      "323/323 [==============================]323/323 [==============================] - 0s 49us/step - loss: 46.9915 - mean_absolute_error: 5.0084 - val_loss: 166.8257 - val_mean_absolute_error: 11.9451\n",
      "\n",
      "Epoch 71/500\n",
      "323/323 [==============================]323/323 [==============================] - 0s 51us/step - loss: 72.8860 - mean_absolute_error: 6.6241 - val_loss: 106.9851 - val_mean_absolute_error: 8.3757\n",
      "\n",
      "Epoch 72/500\n",
      "323/323 [==============================]323/323 [==============================] - 0s 49us/step - loss: 52.0887 - mean_absolute_error: 5.4736 - val_loss: 36.3157 - val_mean_absolute_error: 4.0795\n",
      "\n",
      "Epoch 73/500\n",
      "323/323 [==============================]323/323 [==============================] - 0s 65us/step - loss: 67.0695 - mean_absolute_error: 6.2642 - val_loss: 177.9884 - val_mean_absolute_error: 12.4817\n",
      "\n",
      "Epoch 74/500\n",
      "323/323 [==============================]323/323 [==============================] - 0s 52us/step - loss: 55.3167 - mean_absolute_error: 5.4113 - val_loss: 36.1581 - val_mean_absolute_error: 4.0124\n",
      "\n",
      "Epoch 75/500\n",
      "323/323 [==============================]323/323 [==============================] - 0s 43us/step - loss: 52.4454 - mean_absolute_error: 5.6771 - val_loss: 35.0988 - val_mean_absolute_error: 3.9109\n",
      "\n",
      "Epoch 76/500\n",
      "323/323 [==============================]323/323 [==============================] - 0s 46us/step - loss: 66.1538 - mean_absolute_error: 6.4822 - val_loss: 94.0270 - val_mean_absolute_error: 7.2755\n",
      "\n",
      "Epoch 77/500\n",
      "323/323 [==============================]323/323 [==============================] - 0s 47us/step - loss: 65.5559 - mean_absolute_error: 6.2660 - val_loss: 51.1693 - val_mean_absolute_error: 4.9306\n",
      "\n",
      "Epoch 78/500\n"
     ]
    },
    {
     "name": "stdout",
     "output_type": "stream",
     "text": [
      "323/323 [==============================]323/323 [==============================] - 0s 49us/step - loss: 46.8213 - mean_absolute_error: 5.0560 - val_loss: 187.4801 - val_mean_absolute_error: 12.1765\n",
      "\n",
      "Epoch 79/500\n",
      "323/323 [==============================]323/323 [==============================] - 0s 49us/step - loss: 48.9465 - mean_absolute_error: 5.0779 - val_loss: 65.9338 - val_mean_absolute_error: 5.8718\n",
      "\n",
      "Epoch 80/500\n",
      "323/323 [==============================]323/323 [==============================] - 0s 51us/step - loss: 35.9984 - mean_absolute_error: 4.5907 - val_loss: 131.6865 - val_mean_absolute_error: 10.3378\n",
      "\n",
      "Epoch 81/500\n",
      "323/323 [==============================]323/323 [==============================] - 0s 48us/step - loss: 65.1322 - mean_absolute_error: 6.3001 - val_loss: 49.5042 - val_mean_absolute_error: 4.6485\n",
      "\n",
      "Epoch 82/500\n",
      "323/323 [==============================]323/323 [==============================] - 0s 50us/step - loss: 52.6227 - mean_absolute_error: 5.5357 - val_loss: 175.1294 - val_mean_absolute_error: 12.3996\n",
      "\n",
      "Epoch 83/500\n",
      "323/323 [==============================]323/323 [==============================] - 0s 47us/step - loss: 70.1882 - mean_absolute_error: 6.3146 - val_loss: 35.1590 - val_mean_absolute_error: 3.8615\n",
      "\n",
      "Epoch 84/500\n",
      "323/323 [==============================]323/323 [==============================] - 0s 50us/step - loss: 37.8894 - mean_absolute_error: 4.4960 - val_loss: 250.8018 - val_mean_absolute_error: 14.4135\n",
      "\n",
      "Epoch 85/500\n",
      "323/323 [==============================]323/323 [==============================] - 0s 49us/step - loss: 56.9544 - mean_absolute_error: 5.4612 - val_loss: 49.5930 - val_mean_absolute_error: 4.7305\n",
      "\n",
      "Epoch 86/500\n",
      "323/323 [==============================]323/323 [==============================] - 0s 51us/step - loss: 42.1918 - mean_absolute_error: 4.7117 - val_loss: 41.1138 - val_mean_absolute_error: 4.8671\n",
      "\n",
      "Epoch 87/500\n",
      "323/323 [==============================]323/323 [==============================] - 0s 47us/step - loss: 67.0277 - mean_absolute_error: 6.5559 - val_loss: 38.0559 - val_mean_absolute_error: 4.0815\n",
      "\n",
      "Epoch 88/500\n",
      "323/323 [==============================]323/323 [==============================] - 0s 47us/step - loss: 47.7096 - mean_absolute_error: 5.3066 - val_loss: 37.8579 - val_mean_absolute_error: 3.9115\n",
      "\n",
      "Epoch 89/500\n",
      "323/323 [==============================]323/323 [==============================] - 0s 46us/step - loss: 59.4359 - mean_absolute_error: 6.1951 - val_loss: 39.3553 - val_mean_absolute_error: 4.0586\n",
      "\n",
      "Epoch 90/500\n",
      "323/323 [==============================]323/323 [==============================] - 0s 49us/step - loss: 61.7397 - mean_absolute_error: 5.6741 - val_loss: 37.3465 - val_mean_absolute_error: 4.6838\n",
      "\n",
      "Epoch 91/500\n",
      "323/323 [==============================]323/323 [==============================] - 0s 48us/step - loss: 40.0583 - mean_absolute_error: 4.5692 - val_loss: 34.2754 - val_mean_absolute_error: 3.8690\n",
      "\n",
      "Epoch 92/500\n",
      "323/323 [==============================]323/323 [==============================] - 0s 46us/step - loss: 67.3442 - mean_absolute_error: 6.3602 - val_loss: 113.6523 - val_mean_absolute_error: 8.6633\n",
      "\n",
      "Epoch 93/500\n",
      "323/323 [==============================]323/323 [==============================] - 0s 49us/step - loss: 44.2284 - mean_absolute_error: 5.0401 - val_loss: 44.4747 - val_mean_absolute_error: 5.4321\n",
      "\n",
      "Epoch 94/500\n",
      "323/323 [==============================]323/323 [==============================] - 0s 54us/step - loss: 49.1255 - mean_absolute_error: 5.4473 - val_loss: 63.7438 - val_mean_absolute_error: 6.8708\n",
      "\n",
      "Epoch 95/500\n",
      "323/323 [==============================]323/323 [==============================] - 0s 51us/step - loss: 38.4933 - mean_absolute_error: 4.6752 - val_loss: 41.8332 - val_mean_absolute_error: 4.1963\n",
      "\n",
      "Epoch 96/500\n",
      "323/323 [==============================]323/323 [==============================] - 0s 52us/step - loss: 64.6771 - mean_absolute_error: 6.1066 - val_loss: 208.5181 - val_mean_absolute_error: 13.2447\n",
      "\n",
      "Epoch 97/500\n",
      "323/323 [==============================]323/323 [==============================] - 0s 47us/step - loss: 61.8561 - mean_absolute_error: 5.5498 - val_loss: 64.7171 - val_mean_absolute_error: 5.8787\n",
      "\n",
      "Epoch 98/500\n",
      "323/323 [==============================]323/323 [==============================] - 0s 50us/step - loss: 44.6085 - mean_absolute_error: 5.1234 - val_loss: 104.6220 - val_mean_absolute_error: 9.1889\n",
      "\n",
      "Epoch 99/500\n",
      "323/323 [==============================]323/323 [==============================] - 0s 57us/step - loss: 45.8824 - mean_absolute_error: 5.2987 - val_loss: 50.3503 - val_mean_absolute_error: 5.8943\n",
      "\n",
      "Epoch 100/500\n",
      "323/323 [==============================]323/323 [==============================] - 0s 48us/step - loss: 35.2091 - mean_absolute_error: 4.4721 - val_loss: 53.3473 - val_mean_absolute_error: 5.1335\n",
      "\n",
      "Epoch 101/500\n",
      "323/323 [==============================]323/323 [==============================] - 0s 52us/step - loss: 60.5070 - mean_absolute_error: 6.0290 - val_loss: 39.2794 - val_mean_absolute_error: 4.8546\n",
      "\n",
      "Epoch 102/500\n",
      "323/323 [==============================]323/323 [==============================] - 0s 50us/step - loss: 48.7045 - mean_absolute_error: 5.3433 - val_loss: 86.3132 - val_mean_absolute_error: 7.3023\n",
      "\n",
      "Epoch 103/500\n",
      "323/323 [==============================]323/323 [==============================] - 0s 53us/step - loss: 42.9450 - mean_absolute_error: 4.8034 - val_loss: 45.2031 - val_mean_absolute_error: 5.4472\n",
      "\n",
      "Epoch 104/500\n",
      "323/323 [==============================]323/323 [==============================] - 0s 52us/step - loss: 52.7857 - mean_absolute_error: 5.4726 - val_loss: 72.0108 - val_mean_absolute_error: 7.4176\n",
      "\n",
      "Epoch 105/500\n",
      "323/323 [==============================]323/323 [==============================] - 0s 51us/step - loss: 46.9019 - mean_absolute_error: 5.4030 - val_loss: 64.3850 - val_mean_absolute_error: 6.6894\n",
      "\n",
      "Epoch 106/500\n",
      "323/323 [==============================]323/323 [==============================] - 0s 53us/step - loss: 52.1903 - mean_absolute_error: 5.5416 - val_loss: 37.2526 - val_mean_absolute_error: 3.9112\n",
      "\n",
      "Epoch 107/500\n",
      "323/323 [==============================]323/323 [==============================] - 0s 48us/step - loss: 39.5358 - mean_absolute_error: 4.6635 - val_loss: 52.5223 - val_mean_absolute_error: 6.1385\n",
      "\n",
      "Epoch 108/500\n",
      "323/323 [==============================]323/323 [==============================] - 0s 53us/step - loss: 42.7091 - mean_absolute_error: 4.9744 - val_loss: 104.6576 - val_mean_absolute_error: 9.3317\n",
      "\n",
      "Epoch 109/500\n",
      "323/323 [==============================]323/323 [==============================] - 0s 50us/step - loss: 45.1702 - mean_absolute_error: 4.9634 - val_loss: 31.1776 - val_mean_absolute_error: 3.7279\n",
      "\n",
      "Epoch 110/500\n",
      "323/323 [==============================]323/323 [==============================] - 0s 53us/step - loss: 66.4642 - mean_absolute_error: 6.2731 - val_loss: 62.5398 - val_mean_absolute_error: 5.6319\n",
      "\n",
      "Epoch 111/500\n",
      "323/323 [==============================]323/323 [==============================] - 0s 53us/step - loss: 37.8857 - mean_absolute_error: 4.5357 - val_loss: 33.2334 - val_mean_absolute_error: 3.7579\n",
      "\n",
      "Epoch 112/500\n",
      "323/323 [==============================]323/323 [==============================] - 0s 51us/step - loss: 48.6367 - mean_absolute_error: 5.2772 - val_loss: 33.7726 - val_mean_absolute_error: 3.9055\n",
      "\n",
      "Epoch 113/500\n",
      "323/323 [==============================]323/323 [==============================] - 0s 52us/step - loss: 42.0424 - mean_absolute_error: 4.8504 - val_loss: 48.7171 - val_mean_absolute_error: 4.8524\n",
      "\n",
      "Epoch 114/500\n",
      "323/323 [==============================]323/323 [==============================] - 0s 51us/step - loss: 45.0999 - mean_absolute_error: 5.1039 - val_loss: 58.6130 - val_mean_absolute_error: 6.6155\n",
      "\n",
      "Epoch 115/500\n",
      "323/323 [==============================]323/323 [==============================] - 0s 51us/step - loss: 30.6305 - mean_absolute_error: 4.0091 - val_loss: 123.4650 - val_mean_absolute_error: 9.5120\n",
      "\n",
      "Epoch 116/500\n",
      "323/323 [==============================]323/323 [==============================] - 0s 61us/step - loss: 53.4789 - mean_absolute_error: 5.3573 - val_loss: 35.9232 - val_mean_absolute_error: 3.8616\n"
     ]
    },
    {
     "name": "stdout",
     "output_type": "stream",
     "text": [
      "\n",
      "Epoch 117/500\n",
      "323/323 [==============================]323/323 [==============================] - 0s 47us/step - loss: 44.4703 - mean_absolute_error: 4.9495 - val_loss: 34.4764 - val_mean_absolute_error: 3.7780\n",
      "\n",
      "Epoch 118/500\n",
      "323/323 [==============================]323/323 [==============================] - 0s 48us/step - loss: 35.7009 - mean_absolute_error: 4.4061 - val_loss: 45.8676 - val_mean_absolute_error: 4.5732\n",
      "\n",
      "Epoch 119/500\n",
      "323/323 [==============================]323/323 [==============================] - 0s 52us/step - loss: 54.7772 - mean_absolute_error: 5.8332 - val_loss: 36.5457 - val_mean_absolute_error: 4.7760\n",
      "\n",
      "Epoch 120/500\n",
      "323/323 [==============================]323/323 [==============================] - 0s 48us/step - loss: 43.1665 - mean_absolute_error: 5.1565 - val_loss: 32.7405 - val_mean_absolute_error: 4.1273\n",
      "\n",
      "Epoch 121/500\n",
      "323/323 [==============================]323/323 [==============================] - 0s 46us/step - loss: 45.0971 - mean_absolute_error: 5.2138 - val_loss: 32.5332 - val_mean_absolute_error: 4.1363\n",
      "\n",
      "Epoch 122/500\n",
      "323/323 [==============================]323/323 [==============================] - 0s 49us/step - loss: 43.4810 - mean_absolute_error: 4.9383 - val_loss: 31.7151 - val_mean_absolute_error: 3.6687\n",
      "\n",
      "Epoch 123/500\n",
      "323/323 [==============================]323/323 [==============================] - 0s 53us/step - loss: 42.9439 - mean_absolute_error: 4.9165 - val_loss: 31.3016 - val_mean_absolute_error: 3.9732\n",
      "\n",
      "Epoch 124/500\n",
      "323/323 [==============================]323/323 [==============================] - 0s 50us/step - loss: 43.3869 - mean_absolute_error: 4.8987 - val_loss: 82.4384 - val_mean_absolute_error: 7.2761\n",
      "\n",
      "Epoch 125/500\n",
      "323/323 [==============================]323/323 [==============================] - 0s 46us/step - loss: 51.0362 - mean_absolute_error: 5.6253 - val_loss: 60.5320 - val_mean_absolute_error: 6.8286\n",
      "\n",
      "Epoch 126/500\n",
      "323/323 [==============================]323/323 [==============================] - 0s 53us/step - loss: 31.2054 - mean_absolute_error: 4.1856 - val_loss: 205.9583 - val_mean_absolute_error: 13.4294\n",
      "\n",
      "Epoch 127/500\n",
      "323/323 [==============================]323/323 [==============================] - 0s 48us/step - loss: 53.0844 - mean_absolute_error: 5.3949 - val_loss: 44.1210 - val_mean_absolute_error: 5.1276\n",
      "\n",
      "Epoch 128/500\n",
      "323/323 [==============================]323/323 [==============================] - 0s 52us/step - loss: 42.0300 - mean_absolute_error: 5.1028 - val_loss: 49.0561 - val_mean_absolute_error: 4.9340\n",
      "\n",
      "Epoch 129/500\n",
      "323/323 [==============================]323/323 [==============================] - 0s 58us/step - loss: 37.8218 - mean_absolute_error: 4.6366 - val_loss: 42.9397 - val_mean_absolute_error: 4.4043\n",
      "\n",
      "Epoch 130/500\n",
      "323/323 [==============================]323/323 [==============================] - 0s 48us/step - loss: 52.1757 - mean_absolute_error: 5.4910 - val_loss: 28.7772 - val_mean_absolute_error: 3.7627\n",
      "\n",
      "Epoch 131/500\n",
      "323/323 [==============================]323/323 [==============================] - 0s 45us/step - loss: 34.3081 - mean_absolute_error: 4.3206 - val_loss: 64.7301 - val_mean_absolute_error: 5.9884\n",
      "\n",
      "Epoch 132/500\n",
      "323/323 [==============================]323/323 [==============================] - 0s 44us/step - loss: 34.2711 - mean_absolute_error: 4.4488 - val_loss: 101.4397 - val_mean_absolute_error: 7.9232\n",
      "\n",
      "Epoch 133/500\n",
      "323/323 [==============================]323/323 [==============================] - 0s 44us/step - loss: 46.8192 - mean_absolute_error: 4.8706 - val_loss: 45.9789 - val_mean_absolute_error: 4.7631\n",
      "\n",
      "Epoch 134/500\n",
      "323/323 [==============================]323/323 [==============================] - 0s 50us/step - loss: 50.4420 - mean_absolute_error: 5.6818 - val_loss: 28.7249 - val_mean_absolute_error: 3.8474\n",
      "\n",
      "Epoch 135/500\n",
      "323/323 [==============================]323/323 [==============================] - 0s 50us/step - loss: 29.4587 - mean_absolute_error: 3.9590 - val_loss: 136.6043 - val_mean_absolute_error: 10.0371\n",
      "\n",
      "Epoch 136/500\n",
      "323/323 [==============================]323/323 [==============================] - 0s 45us/step - loss: 42.4011 - mean_absolute_error: 4.7816 - val_loss: 33.3673 - val_mean_absolute_error: 3.6160\n",
      "\n",
      "Epoch 137/500\n",
      "323/323 [==============================]323/323 [==============================] - 0s 50us/step - loss: 39.6182 - mean_absolute_error: 4.9397 - val_loss: 48.4455 - val_mean_absolute_error: 5.8694\n",
      "\n",
      "Epoch 138/500\n",
      "323/323 [==============================]323/323 [==============================] - 0s 50us/step - loss: 43.8250 - mean_absolute_error: 5.0352 - val_loss: 40.6063 - val_mean_absolute_error: 4.3548\n",
      "\n",
      "Epoch 139/500\n",
      "323/323 [==============================]323/323 [==============================] - 0s 48us/step - loss: 27.4054 - mean_absolute_error: 3.8376 - val_loss: 91.9780 - val_mean_absolute_error: 7.9412\n",
      "\n",
      "Epoch 140/500\n",
      "323/323 [==============================]323/323 [==============================] - 0s 49us/step - loss: 55.6817 - mean_absolute_error: 5.9205 - val_loss: 29.2508 - val_mean_absolute_error: 3.9141\n",
      "\n",
      "Epoch 141/500\n",
      "323/323 [==============================]323/323 [==============================] - 0s 48us/step - loss: 26.6320 - mean_absolute_error: 3.8050 - val_loss: 221.1867 - val_mean_absolute_error: 13.8150\n",
      "\n",
      "Epoch 142/500\n",
      "323/323 [==============================]323/323 [==============================] - 0s 44us/step - loss: 59.9577 - mean_absolute_error: 5.8854 - val_loss: 47.4885 - val_mean_absolute_error: 5.5345\n",
      "\n",
      "Epoch 143/500\n",
      "323/323 [==============================]323/323 [==============================] - 0s 47us/step - loss: 31.0056 - mean_absolute_error: 4.2146 - val_loss: 44.9842 - val_mean_absolute_error: 5.4941\n",
      "\n",
      "Epoch 144/500\n",
      "323/323 [==============================]323/323 [==============================] - 0s 43us/step - loss: 38.1676 - mean_absolute_error: 4.6822 - val_loss: 66.7324 - val_mean_absolute_error: 7.2293\n",
      "\n",
      "Epoch 145/500\n",
      "323/323 [==============================]323/323 [==============================] - 0s 43us/step - loss: 32.9313 - mean_absolute_error: 4.3661 - val_loss: 86.9344 - val_mean_absolute_error: 7.2379\n",
      "\n",
      "Epoch 146/500\n",
      "323/323 [==============================]323/323 [==============================] - 0s 43us/step - loss: 29.2152 - mean_absolute_error: 3.9602 - val_loss: 41.4004 - val_mean_absolute_error: 5.2654\n",
      "\n",
      "Epoch 147/500\n",
      "323/323 [==============================]323/323 [==============================] - 0s 41us/step - loss: 50.2632 - mean_absolute_error: 5.6288 - val_loss: 76.3468 - val_mean_absolute_error: 6.6985\n",
      "\n",
      "Epoch 148/500\n",
      "323/323 [==============================]323/323 [==============================] - 0s 49us/step - loss: 34.1224 - mean_absolute_error: 4.2782 - val_loss: 59.9890 - val_mean_absolute_error: 5.8893\n",
      "\n",
      "Epoch 149/500\n",
      "323/323 [==============================]323/323 [==============================] - 0s 42us/step - loss: 48.3570 - mean_absolute_error: 5.4291 - val_loss: 46.8424 - val_mean_absolute_error: 4.8554\n",
      "\n",
      "Epoch 150/500\n",
      "323/323 [==============================]323/323 [==============================] - 0s 43us/step - loss: 30.4568 - mean_absolute_error: 4.1195 - val_loss: 52.4257 - val_mean_absolute_error: 5.3192\n",
      "\n",
      "Epoch 151/500\n",
      "323/323 [==============================]323/323 [==============================] - 0s 44us/step - loss: 32.5808 - mean_absolute_error: 4.2929 - val_loss: 29.6792 - val_mean_absolute_error: 4.1325\n",
      "\n",
      "Epoch 152/500\n",
      "323/323 [==============================]323/323 [==============================] - 0s 44us/step - loss: 37.1609 - mean_absolute_error: 4.7331 - val_loss: 139.7781 - val_mean_absolute_error: 10.8843\n",
      "\n",
      "Epoch 153/500\n",
      "323/323 [==============================]323/323 [==============================] - 0s 39us/step - loss: 40.7966 - mean_absolute_error: 4.8332 - val_loss: 31.9043 - val_mean_absolute_error: 4.3420\n",
      "\n",
      "Epoch 154/500\n",
      "323/323 [==============================]323/323 [==============================] - 0s 45us/step - loss: 21.9289 - mean_absolute_error: 3.4646 - val_loss: 44.0907 - val_mean_absolute_error: 4.5705\n",
      "\n",
      "Epoch 155/500\n",
      "323/323 [==============================]323/323 [==============================] - 0s 48us/step - loss: 39.6902 - mean_absolute_error: 4.7156 - val_loss: 27.0018 - val_mean_absolute_error: 3.4268\n"
     ]
    },
    {
     "name": "stdout",
     "output_type": "stream",
     "text": [
      "\n",
      "Epoch 156/500\n",
      "323/323 [==============================]323/323 [==============================] - 0s 48us/step - loss: 47.7160 - mean_absolute_error: 5.5565 - val_loss: 28.7792 - val_mean_absolute_error: 3.9478\n",
      "\n",
      "Epoch 157/500\n",
      "323/323 [==============================]323/323 [==============================] - 0s 50us/step - loss: 30.8815 - mean_absolute_error: 4.1953 - val_loss: 36.4329 - val_mean_absolute_error: 4.7278\n",
      "\n",
      "Epoch 158/500\n",
      "323/323 [==============================]323/323 [==============================] - 0s 48us/step - loss: 28.0444 - mean_absolute_error: 4.0066 - val_loss: 41.9784 - val_mean_absolute_error: 4.5211\n",
      "\n",
      "Epoch 159/500\n",
      "323/323 [==============================]323/323 [==============================] - 0s 48us/step - loss: 35.7848 - mean_absolute_error: 4.5598 - val_loss: 29.7847 - val_mean_absolute_error: 3.5341\n",
      "\n",
      "Epoch 160/500\n",
      "323/323 [==============================]323/323 [==============================] - 0s 45us/step - loss: 37.9321 - mean_absolute_error: 4.6302 - val_loss: 31.8868 - val_mean_absolute_error: 4.5120\n",
      "\n",
      "Epoch 161/500\n",
      "323/323 [==============================]323/323 [==============================] - 0s 55us/step - loss: 40.7227 - mean_absolute_error: 4.8727 - val_loss: 27.5485 - val_mean_absolute_error: 3.9226\n",
      "\n",
      "Epoch 162/500\n",
      "323/323 [==============================]323/323 [==============================] - 0s 57us/step - loss: 25.2780 - mean_absolute_error: 3.6851 - val_loss: 119.6243 - val_mean_absolute_error: 9.5076\n",
      "\n",
      "Epoch 163/500\n",
      "323/323 [==============================]323/323 [==============================] - 0s 45us/step - loss: 36.9710 - mean_absolute_error: 4.4148 - val_loss: 28.0347 - val_mean_absolute_error: 3.6870\n",
      "\n",
      "Epoch 164/500\n",
      "323/323 [==============================]323/323 [==============================] - 0s 47us/step - loss: 27.3748 - mean_absolute_error: 4.0287 - val_loss: 125.8362 - val_mean_absolute_error: 9.7900\n",
      "\n",
      "Epoch 165/500\n",
      "323/323 [==============================]323/323 [==============================] - 0s 49us/step - loss: 34.6733 - mean_absolute_error: 4.3757 - val_loss: 69.7281 - val_mean_absolute_error: 7.4961\n",
      "\n",
      "Epoch 166/500\n",
      "323/323 [==============================]323/323 [==============================] - 0s 47us/step - loss: 35.7625 - mean_absolute_error: 4.6103 - val_loss: 40.6776 - val_mean_absolute_error: 5.2041\n",
      "\n",
      "Epoch 167/500\n",
      "323/323 [==============================]323/323 [==============================] - 0s 46us/step - loss: 43.6685 - mean_absolute_error: 4.9954 - val_loss: 47.0447 - val_mean_absolute_error: 5.5533\n",
      "\n",
      "Epoch 168/500\n",
      "323/323 [==============================]323/323 [==============================] - 0s 53us/step - loss: 27.8479 - mean_absolute_error: 4.0131 - val_loss: 34.1722 - val_mean_absolute_error: 4.6211\n",
      "\n",
      "Epoch 169/500\n",
      "323/323 [==============================]323/323 [==============================] - 0s 51us/step - loss: 43.3902 - mean_absolute_error: 4.9768 - val_loss: 25.6983 - val_mean_absolute_error: 3.3594\n",
      "\n",
      "Epoch 170/500\n",
      "323/323 [==============================]323/323 [==============================] - 0s 45us/step - loss: 27.5439 - mean_absolute_error: 4.0090 - val_loss: 35.4205 - val_mean_absolute_error: 4.6314\n",
      "\n",
      "Epoch 171/500\n",
      "323/323 [==============================]323/323 [==============================] - 0s 43us/step - loss: 27.7864 - mean_absolute_error: 3.9697 - val_loss: 117.9446 - val_mean_absolute_error: 9.9273\n",
      "\n",
      "Epoch 172/500\n",
      "323/323 [==============================]323/323 [==============================] - 0s 43us/step - loss: 37.9883 - mean_absolute_error: 4.5977 - val_loss: 26.7896 - val_mean_absolute_error: 3.4750\n",
      "\n",
      "Epoch 173/500\n",
      "323/323 [==============================]323/323 [==============================] - 0s 46us/step - loss: 34.4265 - mean_absolute_error: 4.6197 - val_loss: 30.8306 - val_mean_absolute_error: 4.4004\n",
      "\n",
      "Epoch 174/500\n",
      "323/323 [==============================]323/323 [==============================] - 0s 47us/step - loss: 24.1617 - mean_absolute_error: 3.7016 - val_loss: 57.1274 - val_mean_absolute_error: 6.1210\n",
      "\n",
      "Epoch 175/500\n",
      "323/323 [==============================]323/323 [==============================] - 0s 53us/step - loss: 27.7923 - mean_absolute_error: 4.0484 - val_loss: 166.2936 - val_mean_absolute_error: 11.8003\n",
      "\n",
      "Epoch 176/500\n",
      "323/323 [==============================]323/323 [==============================] - 0s 51us/step - loss: 37.1522 - mean_absolute_error: 4.5151 - val_loss: 30.2803 - val_mean_absolute_error: 3.5641\n",
      "\n",
      "Epoch 177/500\n",
      "323/323 [==============================]323/323 [==============================] - 0s 46us/step - loss: 30.2759 - mean_absolute_error: 4.1932 - val_loss: 141.6971 - val_mean_absolute_error: 10.2294\n",
      "\n",
      "Epoch 178/500\n",
      "323/323 [==============================]323/323 [==============================] - 0s 73us/step - loss: 34.1852 - mean_absolute_error: 4.5288 - val_loss: 30.5049 - val_mean_absolute_error: 3.7055\n",
      "\n",
      "Epoch 179/500\n",
      "323/323 [==============================]323/323 [==============================] - 0s 48us/step - loss: 28.0130 - mean_absolute_error: 4.0280 - val_loss: 197.1823 - val_mean_absolute_error: 12.0156\n",
      "\n",
      "Epoch 180/500\n",
      "323/323 [==============================]323/323 [==============================] - 0s 43us/step - loss: 41.2348 - mean_absolute_error: 4.4410 - val_loss: 27.0919 - val_mean_absolute_error: 3.9744\n",
      "\n",
      "Epoch 181/500\n",
      "323/323 [==============================]323/323 [==============================] - 0s 45us/step - loss: 28.8651 - mean_absolute_error: 4.0310 - val_loss: 97.7282 - val_mean_absolute_error: 8.2008\n",
      "\n",
      "Epoch 182/500\n",
      "323/323 [==============================]323/323 [==============================] - 0s 50us/step - loss: 32.3969 - mean_absolute_error: 4.3233 - val_loss: 26.3875 - val_mean_absolute_error: 3.6097\n",
      "\n",
      "Epoch 183/500\n",
      "323/323 [==============================]323/323 [==============================] - 0s 55us/step - loss: 30.8901 - mean_absolute_error: 4.2523 - val_loss: 26.7570 - val_mean_absolute_error: 3.3619\n",
      "\n",
      "Epoch 184/500\n",
      "323/323 [==============================]323/323 [==============================] - 0s 64us/step - loss: 26.5350 - mean_absolute_error: 3.8168 - val_loss: 43.6675 - val_mean_absolute_error: 4.6804\n",
      "\n",
      "Epoch 185/500\n",
      "323/323 [==============================]323/323 [==============================] - 0s 47us/step - loss: 31.4386 - mean_absolute_error: 4.2489 - val_loss: 111.8330 - val_mean_absolute_error: 8.7476\n",
      "\n",
      "Epoch 186/500\n",
      "323/323 [==============================]323/323 [==============================] - 0s 50us/step - loss: 35.2050 - mean_absolute_error: 4.4214 - val_loss: 24.5715 - val_mean_absolute_error: 3.3114\n",
      "\n",
      "Epoch 187/500\n",
      "323/323 [==============================]323/323 [==============================] - 0s 48us/step - loss: 32.0266 - mean_absolute_error: 4.3721 - val_loss: 26.5140 - val_mean_absolute_error: 3.2965\n",
      "\n",
      "Epoch 188/500\n",
      "323/323 [==============================]323/323 [==============================] - 0s 50us/step - loss: 31.6595 - mean_absolute_error: 4.3736 - val_loss: 26.7499 - val_mean_absolute_error: 3.7555\n",
      "\n",
      "Epoch 189/500\n",
      "323/323 [==============================]323/323 [==============================] - 0s 45us/step - loss: 36.9166 - mean_absolute_error: 4.7253 - val_loss: 38.0513 - val_mean_absolute_error: 4.3062\n",
      "\n",
      "Epoch 190/500\n",
      "323/323 [==============================]323/323 [==============================] - 0s 46us/step - loss: 25.6215 - mean_absolute_error: 3.7854 - val_loss: 116.0846 - val_mean_absolute_error: 9.4583\n",
      "\n",
      "Epoch 191/500\n",
      "323/323 [==============================]323/323 [==============================] - 0s 48us/step - loss: 35.8546 - mean_absolute_error: 4.4849 - val_loss: 141.0386 - val_mean_absolute_error: 10.4713\n",
      "\n",
      "Epoch 192/500\n",
      "323/323 [==============================]323/323 [==============================] - 0s 44us/step - loss: 34.2852 - mean_absolute_error: 4.3715 - val_loss: 59.7180 - val_mean_absolute_error: 6.6715\n",
      "\n",
      "Epoch 193/500\n",
      "323/323 [==============================]323/323 [==============================] - 0s 49us/step - loss: 29.5187 - mean_absolute_error: 4.2243 - val_loss: 29.7504 - val_mean_absolute_error: 4.1498\n",
      "\n",
      "Epoch 194/500\n",
      "323/323 [==============================]323/323 [==============================] - 0s 45us/step - loss: 19.3007 - mean_absolute_error: 3.3066 - val_loss: 28.9228 - val_mean_absolute_error: 3.9814\n"
     ]
    },
    {
     "name": "stdout",
     "output_type": "stream",
     "text": [
      "\n",
      "Epoch 195/500\n",
      "323/323 [==============================]323/323 [==============================] - 0s 45us/step - loss: 31.7513 - mean_absolute_error: 4.3295 - val_loss: 66.7746 - val_mean_absolute_error: 6.6263\n",
      "\n",
      "Epoch 196/500\n",
      "323/323 [==============================]323/323 [==============================] - 0s 48us/step - loss: 27.7647 - mean_absolute_error: 4.0499 - val_loss: 25.7990 - val_mean_absolute_error: 3.5634\n",
      "\n",
      "Epoch 197/500\n",
      "323/323 [==============================]323/323 [==============================] - 0s 49us/step - loss: 37.5504 - mean_absolute_error: 4.8097 - val_loss: 44.1209 - val_mean_absolute_error: 5.6783\n",
      "\n",
      "Epoch 198/500\n",
      "323/323 [==============================]323/323 [==============================] - 0s 45us/step - loss: 21.4952 - mean_absolute_error: 3.5041 - val_loss: 22.3232 - val_mean_absolute_error: 3.1255\n",
      "\n",
      "Epoch 199/500\n",
      "323/323 [==============================]323/323 [==============================] - 0s 48us/step - loss: 29.2512 - mean_absolute_error: 4.1768 - val_loss: 25.8548 - val_mean_absolute_error: 3.1553\n",
      "\n",
      "Epoch 200/500\n",
      "323/323 [==============================]323/323 [==============================] - 0s 45us/step - loss: 25.1979 - mean_absolute_error: 3.8145 - val_loss: 24.4786 - val_mean_absolute_error: 3.0993\n",
      "\n",
      "Epoch 201/500\n",
      "323/323 [==============================]323/323 [==============================] - 0s 59us/step - loss: 35.6074 - mean_absolute_error: 4.3704 - val_loss: 95.0280 - val_mean_absolute_error: 8.8049\n",
      "\n",
      "Epoch 202/500\n",
      "323/323 [==============================]323/323 [==============================] - 0s 48us/step - loss: 24.6134 - mean_absolute_error: 3.6714 - val_loss: 25.1658 - val_mean_absolute_error: 3.5572\n",
      "\n",
      "Epoch 203/500\n",
      "323/323 [==============================]323/323 [==============================] - 0s 44us/step - loss: 35.6342 - mean_absolute_error: 4.4956 - val_loss: 22.1662 - val_mean_absolute_error: 3.1169\n",
      "\n",
      "Epoch 204/500\n",
      "323/323 [==============================]323/323 [==============================] - 0s 45us/step - loss: 28.2860 - mean_absolute_error: 3.9445 - val_loss: 28.2123 - val_mean_absolute_error: 4.1178\n",
      "\n",
      "Epoch 205/500\n",
      "323/323 [==============================]323/323 [==============================] - 0s 46us/step - loss: 26.3726 - mean_absolute_error: 3.9548 - val_loss: 31.9566 - val_mean_absolute_error: 4.4615\n",
      "\n",
      "Epoch 206/500\n",
      "323/323 [==============================]323/323 [==============================] - 0s 45us/step - loss: 29.9148 - mean_absolute_error: 4.1637 - val_loss: 27.4279 - val_mean_absolute_error: 4.0208\n",
      "\n",
      "Epoch 207/500\n",
      "323/323 [==============================]323/323 [==============================] - 0s 43us/step - loss: 26.5763 - mean_absolute_error: 3.7970 - val_loss: 23.9361 - val_mean_absolute_error: 3.1008\n",
      "\n",
      "Epoch 208/500\n",
      "323/323 [==============================]323/323 [==============================] - 0s 50us/step - loss: 29.3143 - mean_absolute_error: 4.1565 - val_loss: 40.7097 - val_mean_absolute_error: 5.4115\n",
      "\n",
      "Epoch 209/500\n",
      "323/323 [==============================]323/323 [==============================] - 0s 50us/step - loss: 24.7651 - mean_absolute_error: 3.6917 - val_loss: 22.0818 - val_mean_absolute_error: 3.0514\n",
      "\n",
      "Epoch 210/500\n",
      "323/323 [==============================]323/323 [==============================] - 0s 45us/step - loss: 33.3373 - mean_absolute_error: 4.5652 - val_loss: 29.6939 - val_mean_absolute_error: 3.9759\n",
      "\n",
      "Epoch 211/500\n",
      "323/323 [==============================]323/323 [==============================] - 0s 54us/step - loss: 27.1783 - mean_absolute_error: 4.1097 - val_loss: 29.3206 - val_mean_absolute_error: 3.6623\n",
      "\n",
      "Epoch 212/500\n",
      "323/323 [==============================]323/323 [==============================] - 0s 46us/step - loss: 27.8549 - mean_absolute_error: 4.0652 - val_loss: 131.4930 - val_mean_absolute_error: 10.6284\n",
      "\n",
      "Epoch 213/500\n",
      "323/323 [==============================]323/323 [==============================] - 0s 49us/step - loss: 26.7932 - mean_absolute_error: 3.7652 - val_loss: 35.8544 - val_mean_absolute_error: 4.0903\n",
      "\n",
      "Epoch 214/500\n",
      "323/323 [==============================]323/323 [==============================] - 0s 49us/step - loss: 30.2297 - mean_absolute_error: 4.1881 - val_loss: 29.2490 - val_mean_absolute_error: 3.6348\n",
      "\n",
      "Epoch 215/500\n",
      "323/323 [==============================]323/323 [==============================] - 0s 45us/step - loss: 26.4490 - mean_absolute_error: 3.9348 - val_loss: 27.2205 - val_mean_absolute_error: 3.2881\n",
      "\n",
      "Epoch 216/500\n",
      "323/323 [==============================]323/323 [==============================] - 0s 46us/step - loss: 23.4189 - mean_absolute_error: 3.8060 - val_loss: 25.4032 - val_mean_absolute_error: 3.8028\n",
      "\n",
      "Epoch 217/500\n",
      "323/323 [==============================]323/323 [==============================] - 0s 53us/step - loss: 30.4042 - mean_absolute_error: 4.1891 - val_loss: 153.9289 - val_mean_absolute_error: 11.3632\n",
      "\n",
      "Epoch 218/500\n",
      "323/323 [==============================]323/323 [==============================] - 0s 45us/step - loss: 30.6332 - mean_absolute_error: 4.0294 - val_loss: 23.7562 - val_mean_absolute_error: 3.1609\n",
      "\n",
      "Epoch 219/500\n",
      "323/323 [==============================]323/323 [==============================] - 0s 49us/step - loss: 26.1478 - mean_absolute_error: 3.9029 - val_loss: 83.1265 - val_mean_absolute_error: 8.0836\n",
      "\n",
      "Epoch 220/500\n",
      "323/323 [==============================]323/323 [==============================] - 0s 43us/step - loss: 24.2987 - mean_absolute_error: 3.8855 - val_loss: 32.5009 - val_mean_absolute_error: 4.2578\n",
      "\n",
      "Epoch 221/500\n",
      "323/323 [==============================]323/323 [==============================] - 0s 51us/step - loss: 23.1420 - mean_absolute_error: 3.6779 - val_loss: 49.6849 - val_mean_absolute_error: 5.3436\n",
      "\n",
      "Epoch 222/500\n",
      "323/323 [==============================]323/323 [==============================] - 0s 45us/step - loss: 30.8758 - mean_absolute_error: 4.2210 - val_loss: 26.1077 - val_mean_absolute_error: 3.3925\n",
      "\n",
      "Epoch 223/500\n",
      "323/323 [==============================]323/323 [==============================] - 0s 43us/step - loss: 28.2590 - mean_absolute_error: 4.0158 - val_loss: 26.7416 - val_mean_absolute_error: 3.7155\n",
      "\n",
      "Epoch 224/500\n",
      "323/323 [==============================]323/323 [==============================] - 0s 43us/step - loss: 19.2463 - mean_absolute_error: 3.2154 - val_loss: 62.3246 - val_mean_absolute_error: 6.3353\n",
      "\n",
      "Epoch 225/500\n",
      "323/323 [==============================]323/323 [==============================] - 0s 43us/step - loss: 29.0874 - mean_absolute_error: 4.0296 - val_loss: 40.7512 - val_mean_absolute_error: 4.7059\n",
      "\n",
      "Epoch 226/500\n",
      "323/323 [==============================]323/323 [==============================] - 0s 49us/step - loss: 20.5836 - mean_absolute_error: 3.3862 - val_loss: 54.9081 - val_mean_absolute_error: 5.7335\n",
      "\n",
      "Epoch 227/500\n",
      "323/323 [==============================]323/323 [==============================] - 0s 45us/step - loss: 22.3804 - mean_absolute_error: 3.6517 - val_loss: 22.6848 - val_mean_absolute_error: 3.4069\n",
      "\n",
      "Epoch 228/500\n",
      "323/323 [==============================]323/323 [==============================] - 0s 45us/step - loss: 33.2057 - mean_absolute_error: 4.4635 - val_loss: 31.6259 - val_mean_absolute_error: 4.4934\n",
      "\n",
      "Epoch 229/500\n",
      "323/323 [==============================]323/323 [==============================] - 0s 54us/step - loss: 20.4519 - mean_absolute_error: 3.4325 - val_loss: 27.4648 - val_mean_absolute_error: 4.0293\n",
      "\n",
      "Epoch 230/500\n",
      "323/323 [==============================]323/323 [==============================] - 0s 45us/step - loss: 34.4459 - mean_absolute_error: 4.5747 - val_loss: 26.8407 - val_mean_absolute_error: 3.3478\n",
      "\n",
      "Epoch 231/500\n",
      "323/323 [==============================]323/323 [==============================] - 0s 49us/step - loss: 24.2483 - mean_absolute_error: 3.6005 - val_loss: 29.3107 - val_mean_absolute_error: 3.5097\n",
      "\n",
      "Epoch 232/500\n",
      "323/323 [==============================]323/323 [==============================] - 0s 45us/step - loss: 27.7438 - mean_absolute_error: 3.9644 - val_loss: 66.2367 - val_mean_absolute_error: 7.2903\n",
      "\n",
      "Epoch 233/500\n",
      "323/323 [==============================]323/323 [==============================] - 0s 46us/step - loss: 26.7257 - mean_absolute_error: 4.0120 - val_loss: 27.2612 - val_mean_absolute_error: 3.6532\n"
     ]
    },
    {
     "name": "stdout",
     "output_type": "stream",
     "text": [
      "\n",
      "Epoch 234/500\n",
      "323/323 [==============================]323/323 [==============================] - 0s 53us/step - loss: 22.9902 - mean_absolute_error: 3.7333 - val_loss: 33.8100 - val_mean_absolute_error: 4.3950\n",
      "\n",
      "Epoch 235/500\n",
      "323/323 [==============================]323/323 [==============================] - 0s 47us/step - loss: 23.8740 - mean_absolute_error: 3.6591 - val_loss: 35.5833 - val_mean_absolute_error: 4.2399\n",
      "\n",
      "Epoch 236/500\n",
      "323/323 [==============================]323/323 [==============================] - 0s 48us/step - loss: 26.4227 - mean_absolute_error: 4.0366 - val_loss: 65.1263 - val_mean_absolute_error: 7.1400\n",
      "\n",
      "Epoch 237/500\n",
      "323/323 [==============================]323/323 [==============================] - 0s 55us/step - loss: 31.0712 - mean_absolute_error: 4.2669 - val_loss: 27.3187 - val_mean_absolute_error: 3.3534\n",
      "\n",
      "Epoch 238/500\n",
      "323/323 [==============================]323/323 [==============================] - 0s 51us/step - loss: 19.0741 - mean_absolute_error: 3.2321 - val_loss: 60.2508 - val_mean_absolute_error: 6.2510\n",
      "\n",
      "Epoch 239/500\n",
      "323/323 [==============================]323/323 [==============================] - 0s 44us/step - loss: 27.8620 - mean_absolute_error: 3.9959 - val_loss: 29.3545 - val_mean_absolute_error: 4.2527\n",
      "\n",
      "Epoch 240/500\n",
      "323/323 [==============================]323/323 [==============================] - 0s 46us/step - loss: 18.6864 - mean_absolute_error: 3.2511 - val_loss: 36.8187 - val_mean_absolute_error: 5.0687\n",
      "\n",
      "Epoch 241/500\n",
      "323/323 [==============================]323/323 [==============================] - 0s 43us/step - loss: 29.9154 - mean_absolute_error: 4.2601 - val_loss: 62.1955 - val_mean_absolute_error: 6.1903\n",
      "\n",
      "Epoch 242/500\n",
      "323/323 [==============================]323/323 [==============================] - 0s 41us/step - loss: 21.3489 - mean_absolute_error: 3.4299 - val_loss: 24.3475 - val_mean_absolute_error: 3.6385\n",
      "\n",
      "Epoch 243/500\n",
      "323/323 [==============================]323/323 [==============================] - 0s 49us/step - loss: 31.3404 - mean_absolute_error: 4.3201 - val_loss: 56.7649 - val_mean_absolute_error: 6.5317\n",
      "\n",
      "Epoch 244/500\n",
      "323/323 [==============================]323/323 [==============================] - 0s 50us/step - loss: 26.0804 - mean_absolute_error: 3.9465 - val_loss: 25.4383 - val_mean_absolute_error: 3.2463\n",
      "\n",
      "Epoch 245/500\n",
      "323/323 [==============================]323/323 [==============================] - 0s 51us/step - loss: 19.1920 - mean_absolute_error: 3.2597 - val_loss: 28.0049 - val_mean_absolute_error: 3.7918\n",
      "\n",
      "Epoch 246/500\n",
      "323/323 [==============================]323/323 [==============================] - 0s 46us/step - loss: 32.1685 - mean_absolute_error: 4.2475 - val_loss: 27.5394 - val_mean_absolute_error: 4.0812\n",
      "\n",
      "Epoch 247/500\n",
      "323/323 [==============================]323/323 [==============================] - 0s 46us/step - loss: 18.0805 - mean_absolute_error: 3.1901 - val_loss: 74.7315 - val_mean_absolute_error: 6.8322\n",
      "\n",
      "Epoch 248/500\n",
      "323/323 [==============================]323/323 [==============================] - 0s 50us/step - loss: 24.2880 - mean_absolute_error: 3.6617 - val_loss: 96.7626 - val_mean_absolute_error: 8.8898\n",
      "\n",
      "Epoch 249/500\n",
      "323/323 [==============================]323/323 [==============================] - 0s 47us/step - loss: 28.4626 - mean_absolute_error: 4.1419 - val_loss: 51.9671 - val_mean_absolute_error: 5.6545\n",
      "\n",
      "Epoch 250/500\n",
      "323/323 [==============================]323/323 [==============================] - 0s 46us/step - loss: 19.0449 - mean_absolute_error: 3.2195 - val_loss: 21.9350 - val_mean_absolute_error: 3.1496\n",
      "\n",
      "Epoch 251/500\n",
      "323/323 [==============================]323/323 [==============================] - 0s 46us/step - loss: 21.2184 - mean_absolute_error: 3.5590 - val_loss: 42.6299 - val_mean_absolute_error: 4.7231\n",
      "\n",
      "Epoch 252/500\n",
      "323/323 [==============================]323/323 [==============================] - 0s 46us/step - loss: 23.0878 - mean_absolute_error: 3.5750 - val_loss: 27.8493 - val_mean_absolute_error: 3.6542\n",
      "\n",
      "Epoch 253/500\n",
      "323/323 [==============================]323/323 [==============================] - 0s 49us/step - loss: 21.2719 - mean_absolute_error: 3.5114 - val_loss: 35.5557 - val_mean_absolute_error: 4.5498\n",
      "\n",
      "Epoch 254/500\n",
      "323/323 [==============================]323/323 [==============================] - 0s 44us/step - loss: 27.3825 - mean_absolute_error: 3.9688 - val_loss: 40.8682 - val_mean_absolute_error: 4.4390\n",
      "\n",
      "Epoch 255/500\n",
      "323/323 [==============================]323/323 [==============================] - 0s 58us/step - loss: 19.0484 - mean_absolute_error: 3.1718 - val_loss: 69.1754 - val_mean_absolute_error: 6.8702\n",
      "\n",
      "Epoch 256/500\n",
      "323/323 [==============================]323/323 [==============================] - 0s 50us/step - loss: 26.3211 - mean_absolute_error: 4.0538 - val_loss: 24.3530 - val_mean_absolute_error: 3.5346\n",
      "\n",
      "Epoch 257/500\n",
      "323/323 [==============================]323/323 [==============================] - 0s 45us/step - loss: 18.5722 - mean_absolute_error: 3.2648 - val_loss: 23.7007 - val_mean_absolute_error: 3.3036\n",
      "\n",
      "Epoch 258/500\n",
      "323/323 [==============================]323/323 [==============================] - 0s 52us/step - loss: 26.4744 - mean_absolute_error: 4.0124 - val_loss: 27.5914 - val_mean_absolute_error: 3.3150\n",
      "\n",
      "Epoch 259/500\n",
      "323/323 [==============================]323/323 [==============================] - 0s 51us/step - loss: 17.4385 - mean_absolute_error: 2.9895 - val_loss: 63.6013 - val_mean_absolute_error: 6.5018\n",
      "\n",
      "Epoch 260/500\n",
      "323/323 [==============================]323/323 [==============================] - 0s 51us/step - loss: 27.2066 - mean_absolute_error: 3.8680 - val_loss: 45.9190 - val_mean_absolute_error: 5.1655\n",
      "\n",
      "Epoch 261/500\n",
      "323/323 [==============================]323/323 [==============================] - 0s 51us/step - loss: 22.1703 - mean_absolute_error: 3.3864 - val_loss: 22.9768 - val_mean_absolute_error: 3.1645\n",
      "\n",
      "Epoch 262/500\n",
      "323/323 [==============================]323/323 [==============================] - 0s 55us/step - loss: 20.3036 - mean_absolute_error: 3.3559 - val_loss: 22.1957 - val_mean_absolute_error: 2.9508\n",
      "\n",
      "Epoch 263/500\n",
      "323/323 [==============================]323/323 [==============================] - 0s 49us/step - loss: 25.5265 - mean_absolute_error: 3.7674 - val_loss: 44.3691 - val_mean_absolute_error: 5.1627\n",
      "\n",
      "Epoch 264/500\n",
      "323/323 [==============================]323/323 [==============================] - 0s 49us/step - loss: 17.3977 - mean_absolute_error: 3.1192 - val_loss: 32.5927 - val_mean_absolute_error: 4.5530\n",
      "\n",
      "Epoch 265/500\n",
      "323/323 [==============================]323/323 [==============================] - 0s 47us/step - loss: 25.3359 - mean_absolute_error: 3.7575 - val_loss: 31.7177 - val_mean_absolute_error: 4.3248\n",
      "\n",
      "Epoch 266/500\n",
      "323/323 [==============================]323/323 [==============================] - 0s 52us/step - loss: 23.8622 - mean_absolute_error: 3.7152 - val_loss: 24.2241 - val_mean_absolute_error: 3.5483\n",
      "\n",
      "Epoch 267/500\n",
      "323/323 [==============================]323/323 [==============================] - 0s 57us/step - loss: 25.3514 - mean_absolute_error: 3.8221 - val_loss: 60.2701 - val_mean_absolute_error: 6.7951\n",
      "\n",
      "Epoch 268/500\n",
      "323/323 [==============================]323/323 [==============================] - 0s 57us/step - loss: 21.1213 - mean_absolute_error: 3.4413 - val_loss: 41.8389 - val_mean_absolute_error: 5.4101\n",
      "\n",
      "Epoch 269/500\n",
      "323/323 [==============================]323/323 [==============================] - 0s 51us/step - loss: 22.1620 - mean_absolute_error: 3.5523 - val_loss: 43.0717 - val_mean_absolute_error: 5.1611\n",
      "\n",
      "Epoch 270/500\n",
      "323/323 [==============================]323/323 [==============================] - 0s 47us/step - loss: 25.5110 - mean_absolute_error: 3.7310 - val_loss: 78.2171 - val_mean_absolute_error: 7.6545\n",
      "\n",
      "Epoch 271/500\n",
      "323/323 [==============================]323/323 [==============================] - 0s 57us/step - loss: 21.2568 - mean_absolute_error: 3.5000 - val_loss: 84.7115 - val_mean_absolute_error: 7.7230\n",
      "\n",
      "Epoch 272/500\n",
      "323/323 [==============================]323/323 [==============================] - 0s 50us/step - loss: 27.5212 - mean_absolute_error: 3.8593 - val_loss: 23.5910 - val_mean_absolute_error: 3.0935\n"
     ]
    },
    {
     "name": "stdout",
     "output_type": "stream",
     "text": [
      "\n",
      "Epoch 273/500\n",
      "323/323 [==============================]323/323 [==============================] - 0s 50us/step - loss: 17.6039 - mean_absolute_error: 3.2064 - val_loss: 143.6466 - val_mean_absolute_error: 10.8241\n",
      "\n",
      "Epoch 274/500\n",
      "323/323 [==============================]323/323 [==============================] - 0s 48us/step - loss: 25.8261 - mean_absolute_error: 3.7242 - val_loss: 51.4072 - val_mean_absolute_error: 5.2340\n",
      "\n",
      "Epoch 275/500\n",
      "323/323 [==============================]323/323 [==============================] - 0s 49us/step - loss: 18.6436 - mean_absolute_error: 3.1798 - val_loss: 42.0374 - val_mean_absolute_error: 4.8404\n",
      "\n",
      "Epoch 276/500\n",
      "323/323 [==============================]323/323 [==============================] - 0s 51us/step - loss: 20.3292 - mean_absolute_error: 3.2990 - val_loss: 54.5046 - val_mean_absolute_error: 6.1472\n",
      "\n",
      "Epoch 277/500\n",
      "323/323 [==============================]323/323 [==============================] - 0s 47us/step - loss: 26.8805 - mean_absolute_error: 3.9245 - val_loss: 49.7454 - val_mean_absolute_error: 5.7532\n",
      "\n",
      "Epoch 278/500\n",
      "323/323 [==============================]323/323 [==============================] - 0s 49us/step - loss: 21.6170 - mean_absolute_error: 3.5919 - val_loss: 30.2370 - val_mean_absolute_error: 4.1165\n",
      "\n",
      "Epoch 279/500\n",
      "323/323 [==============================]323/323 [==============================] - 0s 51us/step - loss: 15.7997 - mean_absolute_error: 2.9906 - val_loss: 25.4708 - val_mean_absolute_error: 3.5387\n",
      "\n",
      "Epoch 280/500\n",
      "323/323 [==============================]323/323 [==============================] - 0s 47us/step - loss: 26.3774 - mean_absolute_error: 3.9168 - val_loss: 63.3700 - val_mean_absolute_error: 6.8859\n",
      "\n",
      "Epoch 281/500\n",
      "323/323 [==============================]323/323 [==============================] - 0s 48us/step - loss: 24.6627 - mean_absolute_error: 3.6060 - val_loss: 24.4954 - val_mean_absolute_error: 3.3979\n",
      "\n",
      "Epoch 282/500\n",
      "323/323 [==============================]323/323 [==============================] - 0s 47us/step - loss: 17.7864 - mean_absolute_error: 3.0227 - val_loss: 31.1576 - val_mean_absolute_error: 4.0783\n",
      "\n",
      "Epoch 283/500\n",
      "323/323 [==============================]323/323 [==============================] - 0s 46us/step - loss: 20.4859 - mean_absolute_error: 3.4538 - val_loss: 42.3738 - val_mean_absolute_error: 5.3832\n",
      "\n",
      "Epoch 284/500\n",
      "323/323 [==============================]323/323 [==============================] - 0s 45us/step - loss: 18.2028 - mean_absolute_error: 3.2496 - val_loss: 52.8454 - val_mean_absolute_error: 6.3512\n",
      "\n",
      "Epoch 285/500\n",
      "323/323 [==============================]323/323 [==============================] - 0s 50us/step - loss: 19.1039 - mean_absolute_error: 3.3001 - val_loss: 47.0884 - val_mean_absolute_error: 5.7989\n",
      "\n",
      "Epoch 286/500\n",
      "323/323 [==============================]323/323 [==============================] - 0s 43us/step - loss: 21.4151 - mean_absolute_error: 3.4019 - val_loss: 28.9348 - val_mean_absolute_error: 4.0479\n",
      "\n",
      "Epoch 287/500\n",
      "323/323 [==============================]323/323 [==============================] - 0s 47us/step - loss: 24.5099 - mean_absolute_error: 3.7439 - val_loss: 25.4389 - val_mean_absolute_error: 3.7172\n",
      "\n",
      "Epoch 288/500\n",
      "323/323 [==============================]323/323 [==============================] - 0s 42us/step - loss: 17.7236 - mean_absolute_error: 3.0859 - val_loss: 41.8911 - val_mean_absolute_error: 4.8084\n",
      "\n",
      "Epoch 289/500\n",
      "323/323 [==============================]323/323 [==============================] - 0s 49us/step - loss: 19.1187 - mean_absolute_error: 3.2743 - val_loss: 27.1323 - val_mean_absolute_error: 3.4009\n",
      "\n",
      "Epoch 290/500\n",
      "323/323 [==============================]323/323 [==============================] - 0s 47us/step - loss: 18.0425 - mean_absolute_error: 3.1538 - val_loss: 24.8172 - val_mean_absolute_error: 3.8463\n",
      "\n",
      "Epoch 291/500\n",
      "323/323 [==============================]323/323 [==============================] - 0s 50us/step - loss: 22.7021 - mean_absolute_error: 3.5584 - val_loss: 25.1779 - val_mean_absolute_error: 3.1871\n",
      "\n",
      "Epoch 292/500\n",
      "323/323 [==============================]323/323 [==============================] - 0s 49us/step - loss: 20.6419 - mean_absolute_error: 3.4180 - val_loss: 27.4078 - val_mean_absolute_error: 3.7642\n",
      "\n",
      "Epoch 293/500\n",
      "323/323 [==============================]323/323 [==============================] - 0s 44us/step - loss: 24.3406 - mean_absolute_error: 3.6175 - val_loss: 22.3482 - val_mean_absolute_error: 3.0360\n",
      "\n",
      "Epoch 294/500\n",
      "323/323 [==============================]323/323 [==============================] - 0s 48us/step - loss: 20.3275 - mean_absolute_error: 3.2210 - val_loss: 32.7374 - val_mean_absolute_error: 3.6226\n",
      "\n",
      "Epoch 295/500\n",
      "323/323 [==============================]323/323 [==============================] - 0s 46us/step - loss: 19.3189 - mean_absolute_error: 3.2559 - val_loss: 108.4803 - val_mean_absolute_error: 8.8798\n",
      "\n",
      "Epoch 296/500\n",
      "323/323 [==============================]323/323 [==============================] - 0s 50us/step - loss: 24.1485 - mean_absolute_error: 3.4679 - val_loss: 23.5100 - val_mean_absolute_error: 3.2129\n",
      "\n",
      "Epoch 297/500\n",
      "323/323 [==============================]323/323 [==============================] - 0s 48us/step - loss: 18.1013 - mean_absolute_error: 3.1799 - val_loss: 39.7898 - val_mean_absolute_error: 4.4753\n",
      "\n",
      "Epoch 298/500\n",
      "323/323 [==============================]323/323 [==============================] - 0s 46us/step - loss: 20.6823 - mean_absolute_error: 3.4332 - val_loss: 23.9520 - val_mean_absolute_error: 3.4496\n",
      "\n",
      "Epoch 299/500\n",
      "323/323 [==============================]323/323 [==============================] - 0s 46us/step - loss: 16.0817 - mean_absolute_error: 2.9531 - val_loss: 53.7320 - val_mean_absolute_error: 5.6368\n",
      "\n",
      "Epoch 300/500\n",
      "323/323 [==============================]323/323 [==============================] - 0s 50us/step - loss: 22.5120 - mean_absolute_error: 3.4693 - val_loss: 23.1007 - val_mean_absolute_error: 3.6165\n",
      "\n",
      "Epoch 301/500\n",
      "323/323 [==============================]323/323 [==============================] - 0s 50us/step - loss: 17.4638 - mean_absolute_error: 3.1739 - val_loss: 24.5858 - val_mean_absolute_error: 3.5141\n",
      "\n",
      "Epoch 302/500\n",
      "323/323 [==============================]323/323 [==============================] - 0s 45us/step - loss: 17.9916 - mean_absolute_error: 3.1519 - val_loss: 47.9199 - val_mean_absolute_error: 5.1853\n",
      "\n",
      "Epoch 303/500\n",
      "323/323 [==============================]323/323 [==============================] - 0s 47us/step - loss: 16.6927 - mean_absolute_error: 3.1366 - val_loss: 69.7656 - val_mean_absolute_error: 7.0240\n",
      "\n",
      "Epoch 304/500\n",
      "323/323 [==============================]323/323 [==============================] - 0s 51us/step - loss: 19.6524 - mean_absolute_error: 3.3106 - val_loss: 21.9240 - val_mean_absolute_error: 3.2382\n",
      "\n",
      "Epoch 305/500\n",
      "323/323 [==============================]323/323 [==============================] - 0s 54us/step - loss: 23.2605 - mean_absolute_error: 3.7891 - val_loss: 23.2470 - val_mean_absolute_error: 3.1670\n",
      "\n",
      "Epoch 306/500\n",
      "323/323 [==============================]323/323 [==============================] - 0s 42us/step - loss: 17.9006 - mean_absolute_error: 3.1641 - val_loss: 77.3142 - val_mean_absolute_error: 7.4918\n",
      "\n",
      "Epoch 307/500\n",
      "323/323 [==============================]323/323 [==============================] - 0s 45us/step - loss: 21.4314 - mean_absolute_error: 3.3800 - val_loss: 30.1105 - val_mean_absolute_error: 4.2630\n",
      "\n",
      "Epoch 308/500\n",
      "323/323 [==============================]323/323 [==============================] - 0s 49us/step - loss: 19.1112 - mean_absolute_error: 3.2916 - val_loss: 23.2649 - val_mean_absolute_error: 3.2572\n",
      "\n",
      "Epoch 309/500\n",
      "323/323 [==============================]323/323 [==============================] - 0s 44us/step - loss: 17.6809 - mean_absolute_error: 3.1803 - val_loss: 28.1365 - val_mean_absolute_error: 3.9160\n",
      "\n",
      "Epoch 310/500\n",
      "323/323 [==============================]323/323 [==============================] - 0s 48us/step - loss: 18.2442 - mean_absolute_error: 3.1552 - val_loss: 100.0134 - val_mean_absolute_error: 8.6922\n",
      "\n",
      "Epoch 311/500\n",
      "323/323 [==============================]323/323 [==============================] - 0s 48us/step - loss: 23.8217 - mean_absolute_error: 3.5156 - val_loss: 112.1030 - val_mean_absolute_error: 9.4103\n"
     ]
    },
    {
     "name": "stdout",
     "output_type": "stream",
     "text": [
      "\n",
      "Epoch 312/500\n",
      "323/323 [==============================]323/323 [==============================] - 0s 54us/step - loss: 24.5694 - mean_absolute_error: 3.4530 - val_loss: 22.8598 - val_mean_absolute_error: 3.1292\n",
      "\n",
      "Epoch 313/500\n",
      "323/323 [==============================]323/323 [==============================] - 0s 50us/step - loss: 14.8724 - mean_absolute_error: 2.8684 - val_loss: 43.5265 - val_mean_absolute_error: 4.7365\n",
      "\n",
      "Epoch 314/500\n",
      "323/323 [==============================]323/323 [==============================] - 0s 46us/step - loss: 18.0856 - mean_absolute_error: 3.0355 - val_loss: 30.0163 - val_mean_absolute_error: 4.1356\n",
      "\n",
      "Epoch 315/500\n",
      "323/323 [==============================]323/323 [==============================] - 0s 48us/step - loss: 19.7820 - mean_absolute_error: 3.4475 - val_loss: 34.3509 - val_mean_absolute_error: 4.1367\n",
      "\n",
      "Epoch 316/500\n",
      "323/323 [==============================]323/323 [==============================] - 0s 49us/step - loss: 21.2966 - mean_absolute_error: 3.4728 - val_loss: 23.0433 - val_mean_absolute_error: 3.5866\n",
      "\n",
      "Epoch 317/500\n",
      "323/323 [==============================]323/323 [==============================] - 0s 52us/step - loss: 19.6908 - mean_absolute_error: 3.2892 - val_loss: 38.1751 - val_mean_absolute_error: 4.3984\n",
      "\n",
      "Epoch 318/500\n",
      "323/323 [==============================]323/323 [==============================] - 0s 45us/step - loss: 19.5540 - mean_absolute_error: 3.1609 - val_loss: 28.0006 - val_mean_absolute_error: 3.9597\n",
      "\n",
      "Epoch 319/500\n",
      "323/323 [==============================]323/323 [==============================] - 0s 46us/step - loss: 19.3780 - mean_absolute_error: 3.2820 - val_loss: 33.1425 - val_mean_absolute_error: 3.8834\n",
      "\n",
      "Epoch 320/500\n",
      "323/323 [==============================]323/323 [==============================] - 0s 48us/step - loss: 14.4363 - mean_absolute_error: 2.7524 - val_loss: 34.0617 - val_mean_absolute_error: 4.5994\n",
      "\n",
      "Epoch 321/500\n",
      "323/323 [==============================]323/323 [==============================] - 0s 47us/step - loss: 21.0397 - mean_absolute_error: 3.4884 - val_loss: 23.2283 - val_mean_absolute_error: 3.3138\n",
      "\n",
      "Epoch 322/500\n",
      "323/323 [==============================]323/323 [==============================] - 0s 48us/step - loss: 20.8512 - mean_absolute_error: 3.3504 - val_loss: 66.5949 - val_mean_absolute_error: 6.2577\n",
      "\n",
      "Epoch 323/500\n",
      "323/323 [==============================]323/323 [==============================] - 0s 49us/step - loss: 20.9816 - mean_absolute_error: 3.3388 - val_loss: 34.2513 - val_mean_absolute_error: 4.2801\n",
      "\n",
      "Epoch 324/500\n",
      "323/323 [==============================]323/323 [==============================] - 0s 50us/step - loss: 15.0230 - mean_absolute_error: 2.7407 - val_loss: 117.8305 - val_mean_absolute_error: 9.4111\n",
      "\n",
      "Epoch 325/500\n",
      "323/323 [==============================]323/323 [==============================] - 0s 44us/step - loss: 26.1051 - mean_absolute_error: 3.7195 - val_loss: 28.5405 - val_mean_absolute_error: 3.8329\n",
      "\n",
      "Epoch 326/500\n",
      "323/323 [==============================]323/323 [==============================] - 0s 42us/step - loss: 14.2306 - mean_absolute_error: 2.7645 - val_loss: 45.6777 - val_mean_absolute_error: 5.2969\n",
      "\n",
      "Epoch 327/500\n",
      "323/323 [==============================]323/323 [==============================] - 0s 50us/step - loss: 22.0629 - mean_absolute_error: 3.5167 - val_loss: 26.6668 - val_mean_absolute_error: 3.8381\n",
      "\n",
      "Epoch 328/500\n",
      "323/323 [==============================]323/323 [==============================] - 0s 52us/step - loss: 13.3129 - mean_absolute_error: 2.6348 - val_loss: 46.8038 - val_mean_absolute_error: 5.4890\n",
      "\n",
      "Epoch 329/500\n",
      "323/323 [==============================]323/323 [==============================] - 0s 45us/step - loss: 22.3331 - mean_absolute_error: 3.3966 - val_loss: 23.1257 - val_mean_absolute_error: 3.1395\n",
      "\n",
      "Epoch 330/500\n",
      "323/323 [==============================]323/323 [==============================] - 0s 47us/step - loss: 16.1530 - mean_absolute_error: 2.9550 - val_loss: 94.7269 - val_mean_absolute_error: 8.0050\n",
      "\n",
      "Epoch 331/500\n",
      "323/323 [==============================]323/323 [==============================] - 0s 47us/step - loss: 23.7789 - mean_absolute_error: 3.5970 - val_loss: 22.0963 - val_mean_absolute_error: 3.2436\n",
      "\n",
      "Epoch 332/500\n",
      "323/323 [==============================]323/323 [==============================] - 0s 53us/step - loss: 13.6741 - mean_absolute_error: 2.6556 - val_loss: 35.2379 - val_mean_absolute_error: 4.3052\n",
      "\n",
      "Epoch 333/500\n",
      "323/323 [==============================]323/323 [==============================] - 0s 46us/step - loss: 20.9777 - mean_absolute_error: 3.4957 - val_loss: 27.2433 - val_mean_absolute_error: 3.9493\n",
      "\n",
      "Epoch 334/500\n",
      "323/323 [==============================]323/323 [==============================] - 0s 48us/step - loss: 18.3591 - mean_absolute_error: 3.2114 - val_loss: 26.2209 - val_mean_absolute_error: 3.6790\n",
      "\n",
      "Epoch 335/500\n",
      "323/323 [==============================]323/323 [==============================] - 0s 47us/step - loss: 15.2798 - mean_absolute_error: 2.9487 - val_loss: 35.6971 - val_mean_absolute_error: 4.3394\n",
      "\n",
      "Epoch 336/500\n",
      "323/323 [==============================]323/323 [==============================] - 0s 51us/step - loss: 16.8359 - mean_absolute_error: 3.0014 - val_loss: 122.5561 - val_mean_absolute_error: 9.2827\n",
      "\n",
      "Epoch 337/500\n",
      "323/323 [==============================]323/323 [==============================] - 0s 49us/step - loss: 26.6368 - mean_absolute_error: 3.6156 - val_loss: 26.2988 - val_mean_absolute_error: 3.6494\n",
      "\n",
      "Epoch 338/500\n",
      "323/323 [==============================]323/323 [==============================] - 0s 46us/step - loss: 15.5712 - mean_absolute_error: 2.8369 - val_loss: 29.2392 - val_mean_absolute_error: 4.2483\n",
      "\n",
      "Epoch 339/500\n",
      "323/323 [==============================]323/323 [==============================] - 0s 46us/step - loss: 19.9428 - mean_absolute_error: 3.3751 - val_loss: 59.4179 - val_mean_absolute_error: 6.5525\n",
      "\n",
      "Epoch 340/500\n",
      "323/323 [==============================]323/323 [==============================] - 0s 47us/step - loss: 17.2280 - mean_absolute_error: 3.0282 - val_loss: 31.7895 - val_mean_absolute_error: 3.8919\n",
      "\n",
      "Epoch 341/500\n",
      "323/323 [==============================]323/323 [==============================] - 0s 48us/step - loss: 23.1708 - mean_absolute_error: 3.5280 - val_loss: 23.2275 - val_mean_absolute_error: 3.5127\n",
      "\n",
      "Epoch 342/500\n",
      "323/323 [==============================]323/323 [==============================] - 0s 49us/step - loss: 16.2505 - mean_absolute_error: 2.9703 - val_loss: 23.3670 - val_mean_absolute_error: 3.4214\n",
      "\n",
      "Epoch 343/500\n",
      "323/323 [==============================]323/323 [==============================] - 0s 53us/step - loss: 17.6778 - mean_absolute_error: 3.1506 - val_loss: 43.8091 - val_mean_absolute_error: 4.7250\n",
      "\n",
      "Epoch 344/500\n",
      "323/323 [==============================]323/323 [==============================] - 0s 48us/step - loss: 17.6313 - mean_absolute_error: 3.1774 - val_loss: 41.4909 - val_mean_absolute_error: 5.0906\n",
      "\n",
      "Epoch 345/500\n",
      "323/323 [==============================]323/323 [==============================] - 0s 52us/step - loss: 19.5335 - mean_absolute_error: 3.2282 - val_loss: 26.0042 - val_mean_absolute_error: 3.4929\n",
      "\n",
      "Epoch 346/500\n",
      "323/323 [==============================]323/323 [==============================] - 0s 50us/step - loss: 18.6154 - mean_absolute_error: 3.1215 - val_loss: 147.7314 - val_mean_absolute_error: 10.7790\n",
      "\n",
      "Epoch 347/500\n",
      "323/323 [==============================]323/323 [==============================] - 0s 49us/step - loss: 26.4194 - mean_absolute_error: 3.4749 - val_loss: 25.0223 - val_mean_absolute_error: 3.8170\n",
      "\n",
      "Epoch 348/500\n",
      "323/323 [==============================]323/323 [==============================] - 0s 51us/step - loss: 15.1940 - mean_absolute_error: 2.8294 - val_loss: 22.1800 - val_mean_absolute_error: 3.0132\n",
      "\n",
      "Epoch 349/500\n",
      "323/323 [==============================]323/323 [==============================] - 0s 45us/step - loss: 15.9011 - mean_absolute_error: 3.0011 - val_loss: 33.6533 - val_mean_absolute_error: 4.3741\n",
      "\n",
      "Epoch 350/500\n",
      "323/323 [==============================]323/323 [==============================] - 0s 44us/step - loss: 18.6067 - mean_absolute_error: 3.2789 - val_loss: 57.7616 - val_mean_absolute_error: 5.7633\n"
     ]
    },
    {
     "name": "stdout",
     "output_type": "stream",
     "text": [
      "\n",
      "Epoch 351/500\n",
      "323/323 [==============================]323/323 [==============================] - 0s 49us/step - loss: 20.1424 - mean_absolute_error: 3.3105 - val_loss: 23.3795 - val_mean_absolute_error: 3.2632\n",
      "\n",
      "Epoch 352/500\n",
      "323/323 [==============================]323/323 [==============================] - 0s 45us/step - loss: 19.7521 - mean_absolute_error: 3.2601 - val_loss: 29.6903 - val_mean_absolute_error: 3.7837\n",
      "\n",
      "Epoch 353/500\n",
      "323/323 [==============================]323/323 [==============================] - 0s 45us/step - loss: 14.0065 - mean_absolute_error: 2.7416 - val_loss: 22.4740 - val_mean_absolute_error: 3.0733\n",
      "\n",
      "Epoch 354/500\n",
      "323/323 [==============================]323/323 [==============================] - 0s 44us/step - loss: 16.2218 - mean_absolute_error: 3.0284 - val_loss: 39.9144 - val_mean_absolute_error: 4.8289\n",
      "\n",
      "Epoch 355/500\n",
      "323/323 [==============================]323/323 [==============================] - 0s 48us/step - loss: 17.5200 - mean_absolute_error: 3.0507 - val_loss: 56.3238 - val_mean_absolute_error: 5.7507\n",
      "\n",
      "Epoch 356/500\n",
      "323/323 [==============================]323/323 [==============================] - 0s 49us/step - loss: 18.9662 - mean_absolute_error: 3.0206 - val_loss: 25.2287 - val_mean_absolute_error: 3.4998\n",
      "\n",
      "Epoch 357/500\n",
      "323/323 [==============================]323/323 [==============================] - 0s 49us/step - loss: 17.5838 - mean_absolute_error: 3.0682 - val_loss: 21.1814 - val_mean_absolute_error: 3.2786\n",
      "\n",
      "Epoch 358/500\n",
      "323/323 [==============================]323/323 [==============================] - 0s 54us/step - loss: 14.3292 - mean_absolute_error: 2.8261 - val_loss: 22.1233 - val_mean_absolute_error: 3.3007\n",
      "\n",
      "Epoch 359/500\n",
      "323/323 [==============================]323/323 [==============================] - 0s 45us/step - loss: 18.0710 - mean_absolute_error: 3.0420 - val_loss: 21.9501 - val_mean_absolute_error: 3.2052\n",
      "\n",
      "Epoch 360/500\n",
      "323/323 [==============================]323/323 [==============================] - 0s 46us/step - loss: 14.4593 - mean_absolute_error: 2.7888 - val_loss: 24.9422 - val_mean_absolute_error: 3.8587\n",
      "\n",
      "Epoch 361/500\n",
      "323/323 [==============================]323/323 [==============================] - 0s 49us/step - loss: 17.5052 - mean_absolute_error: 3.1609 - val_loss: 27.5708 - val_mean_absolute_error: 3.6407\n",
      "\n",
      "Epoch 362/500\n",
      "323/323 [==============================]323/323 [==============================] - 0s 56us/step - loss: 17.7715 - mean_absolute_error: 3.0859 - val_loss: 23.8292 - val_mean_absolute_error: 3.1730\n",
      "\n",
      "Epoch 363/500\n",
      "323/323 [==============================]323/323 [==============================] - 0s 49us/step - loss: 14.7494 - mean_absolute_error: 2.7488 - val_loss: 46.4827 - val_mean_absolute_error: 5.3990\n",
      "\n",
      "Epoch 364/500\n",
      "323/323 [==============================]323/323 [==============================] - 0s 45us/step - loss: 15.4539 - mean_absolute_error: 2.8311 - val_loss: 44.7224 - val_mean_absolute_error: 4.7743\n",
      "\n",
      "Epoch 365/500\n",
      "323/323 [==============================]323/323 [==============================] - 0s 47us/step - loss: 17.8449 - mean_absolute_error: 2.9516 - val_loss: 33.9846 - val_mean_absolute_error: 4.7899\n",
      "\n",
      "Epoch 366/500\n",
      "323/323 [==============================]323/323 [==============================] - 0s 47us/step - loss: 16.1225 - mean_absolute_error: 2.9614 - val_loss: 24.1411 - val_mean_absolute_error: 3.4092\n",
      "\n",
      "Epoch 367/500\n",
      "323/323 [==============================]323/323 [==============================] - 0s 48us/step - loss: 17.5360 - mean_absolute_error: 3.2079 - val_loss: 33.6536 - val_mean_absolute_error: 4.3606\n",
      "\n",
      "Epoch 368/500\n",
      "323/323 [==============================]323/323 [==============================] - 0s 51us/step - loss: 17.1520 - mean_absolute_error: 3.0874 - val_loss: 42.4947 - val_mean_absolute_error: 4.6936\n",
      "\n",
      "Epoch 369/500\n",
      "323/323 [==============================]323/323 [==============================] - 0s 46us/step - loss: 18.4841 - mean_absolute_error: 3.2669 - val_loss: 35.4311 - val_mean_absolute_error: 4.7905\n",
      "\n",
      "Epoch 370/500\n",
      "323/323 [==============================]323/323 [==============================] - 0s 47us/step - loss: 20.2890 - mean_absolute_error: 3.3189 - val_loss: 22.5706 - val_mean_absolute_error: 3.2172\n",
      "\n",
      "Epoch 371/500\n",
      "323/323 [==============================]323/323 [==============================] - 0s 50us/step - loss: 12.4259 - mean_absolute_error: 2.5876 - val_loss: 22.9484 - val_mean_absolute_error: 3.2566\n",
      "\n",
      "Epoch 372/500\n",
      "323/323 [==============================]323/323 [==============================] - 0s 44us/step - loss: 17.6672 - mean_absolute_error: 3.2159 - val_loss: 34.8934 - val_mean_absolute_error: 4.4685\n",
      "\n",
      "Epoch 373/500\n",
      "323/323 [==============================]323/323 [==============================] - 0s 46us/step - loss: 14.6035 - mean_absolute_error: 2.7524 - val_loss: 30.9094 - val_mean_absolute_error: 3.9083\n",
      "\n",
      "Epoch 374/500\n",
      "323/323 [==============================]323/323 [==============================] - 0s 44us/step - loss: 15.8331 - mean_absolute_error: 2.9452 - val_loss: 27.6586 - val_mean_absolute_error: 3.9146\n",
      "\n",
      "Epoch 375/500\n",
      "323/323 [==============================]323/323 [==============================] - 0s 48us/step - loss: 14.1676 - mean_absolute_error: 2.7440 - val_loss: 22.5701 - val_mean_absolute_error: 3.3478\n",
      "\n",
      "Epoch 376/500\n",
      "323/323 [==============================]323/323 [==============================] - 0s 47us/step - loss: 17.9582 - mean_absolute_error: 3.1253 - val_loss: 21.3326 - val_mean_absolute_error: 3.1790\n",
      "\n",
      "Epoch 377/500\n",
      "323/323 [==============================]323/323 [==============================] - 0s 52us/step - loss: 19.4415 - mean_absolute_error: 3.1778 - val_loss: 32.5632 - val_mean_absolute_error: 4.1068\n",
      "\n",
      "Epoch 378/500\n",
      "323/323 [==============================]323/323 [==============================] - 0s 48us/step - loss: 15.6833 - mean_absolute_error: 2.8932 - val_loss: 28.1004 - val_mean_absolute_error: 4.0729\n",
      "\n",
      "Epoch 379/500\n",
      "323/323 [==============================]323/323 [==============================] - 0s 46us/step - loss: 12.2786 - mean_absolute_error: 2.5582 - val_loss: 30.8369 - val_mean_absolute_error: 3.7505\n",
      "\n",
      "Epoch 380/500\n",
      "323/323 [==============================]323/323 [==============================] - 0s 54us/step - loss: 17.9033 - mean_absolute_error: 3.1612 - val_loss: 25.3617 - val_mean_absolute_error: 3.3590\n",
      "\n",
      "Epoch 381/500\n",
      "323/323 [==============================]323/323 [==============================] - 0s 46us/step - loss: 12.9712 - mean_absolute_error: 2.7014 - val_loss: 27.9597 - val_mean_absolute_error: 4.1482\n",
      "\n",
      "Epoch 382/500\n",
      "323/323 [==============================]323/323 [==============================] - 0s 47us/step - loss: 18.1153 - mean_absolute_error: 3.2227 - val_loss: 26.3061 - val_mean_absolute_error: 3.6100\n",
      "\n",
      "Epoch 383/500\n",
      "323/323 [==============================]323/323 [==============================] - 0s 46us/step - loss: 15.7714 - mean_absolute_error: 2.8224 - val_loss: 38.9943 - val_mean_absolute_error: 4.4663\n",
      "\n",
      "Epoch 384/500\n",
      "323/323 [==============================]323/323 [==============================] - 0s 46us/step - loss: 15.9486 - mean_absolute_error: 2.8496 - val_loss: 26.8031 - val_mean_absolute_error: 3.6175\n",
      "\n",
      "Epoch 385/500\n",
      "323/323 [==============================]323/323 [==============================] - 0s 45us/step - loss: 19.5952 - mean_absolute_error: 3.3805 - val_loss: 31.2821 - val_mean_absolute_error: 4.2328\n",
      "\n",
      "Epoch 386/500\n",
      "323/323 [==============================]323/323 [==============================] - 0s 49us/step - loss: 18.4499 - mean_absolute_error: 3.2323 - val_loss: 22.5727 - val_mean_absolute_error: 3.4440\n",
      "\n",
      "Epoch 387/500\n",
      "323/323 [==============================]323/323 [==============================] - 0s 44us/step - loss: 15.9783 - mean_absolute_error: 2.9713 - val_loss: 28.2705 - val_mean_absolute_error: 3.4751\n",
      "\n",
      "Epoch 388/500\n",
      "323/323 [==============================]323/323 [==============================] - 0s 48us/step - loss: 13.3879 - mean_absolute_error: 2.6657 - val_loss: 58.2718 - val_mean_absolute_error: 5.8324\n",
      "\n",
      "Epoch 389/500\n",
      "323/323 [==============================]323/323 [==============================] - 0s 46us/step - loss: 20.9543 - mean_absolute_error: 3.3216 - val_loss: 21.1255 - val_mean_absolute_error: 3.3014\n"
     ]
    },
    {
     "name": "stdout",
     "output_type": "stream",
     "text": [
      "\n",
      "Epoch 390/500\n",
      "323/323 [==============================]323/323 [==============================] - 0s 43us/step - loss: 11.8594 - mean_absolute_error: 2.5510 - val_loss: 43.1475 - val_mean_absolute_error: 4.6363\n",
      "\n",
      "Epoch 391/500\n",
      "323/323 [==============================]323/323 [==============================] - 0s 52us/step - loss: 16.2767 - mean_absolute_error: 2.9351 - val_loss: 60.1181 - val_mean_absolute_error: 5.9033\n",
      "\n",
      "Epoch 392/500\n",
      "323/323 [==============================]323/323 [==============================] - 0s 51us/step - loss: 14.6100 - mean_absolute_error: 2.8087 - val_loss: 37.6304 - val_mean_absolute_error: 4.5714\n",
      "\n",
      "Epoch 393/500\n",
      "323/323 [==============================]323/323 [==============================] - 0s 42us/step - loss: 17.1297 - mean_absolute_error: 3.0424 - val_loss: 31.1494 - val_mean_absolute_error: 4.4124\n",
      "\n",
      "Epoch 394/500\n",
      "323/323 [==============================]323/323 [==============================] - 0s 45us/step - loss: 22.9608 - mean_absolute_error: 3.5413 - val_loss: 36.0067 - val_mean_absolute_error: 4.5257\n",
      "\n",
      "Epoch 395/500\n",
      "323/323 [==============================]323/323 [==============================] - 0s 50us/step - loss: 13.9921 - mean_absolute_error: 2.6769 - val_loss: 109.4494 - val_mean_absolute_error: 8.8166\n",
      "\n",
      "Epoch 396/500\n",
      "323/323 [==============================]323/323 [==============================] - 0s 47us/step - loss: 17.4533 - mean_absolute_error: 2.9104 - val_loss: 21.8999 - val_mean_absolute_error: 3.1511\n",
      "\n",
      "Epoch 397/500\n",
      "323/323 [==============================]323/323 [==============================] - 0s 45us/step - loss: 17.4728 - mean_absolute_error: 2.9708 - val_loss: 95.9250 - val_mean_absolute_error: 8.3538\n",
      "\n",
      "Epoch 398/500\n",
      "323/323 [==============================]323/323 [==============================] - 0s 47us/step - loss: 17.6792 - mean_absolute_error: 3.0848 - val_loss: 63.4357 - val_mean_absolute_error: 6.5429\n",
      "\n",
      "Epoch 399/500\n",
      "323/323 [==============================]323/323 [==============================] - 0s 47us/step - loss: 18.8400 - mean_absolute_error: 3.1542 - val_loss: 24.5428 - val_mean_absolute_error: 3.3876\n",
      "\n",
      "Epoch 400/500\n",
      "323/323 [==============================]323/323 [==============================] - 0s 49us/step - loss: 14.8482 - mean_absolute_error: 2.7885 - val_loss: 74.1909 - val_mean_absolute_error: 7.0386\n",
      "\n",
      "Epoch 401/500\n",
      "323/323 [==============================]323/323 [==============================] - 0s 49us/step - loss: 18.4267 - mean_absolute_error: 3.0985 - val_loss: 58.0104 - val_mean_absolute_error: 6.2273\n",
      "\n",
      "Epoch 402/500\n",
      "323/323 [==============================]323/323 [==============================] - 0s 45us/step - loss: 17.8653 - mean_absolute_error: 3.0710 - val_loss: 21.9881 - val_mean_absolute_error: 3.1283\n",
      "\n",
      "Epoch 403/500\n",
      "323/323 [==============================]323/323 [==============================] - 0s 46us/step - loss: 15.3104 - mean_absolute_error: 2.8536 - val_loss: 22.1373 - val_mean_absolute_error: 3.2270\n",
      "\n",
      "Epoch 404/500\n",
      "323/323 [==============================]323/323 [==============================] - 0s 43us/step - loss: 14.6443 - mean_absolute_error: 2.7146 - val_loss: 26.1702 - val_mean_absolute_error: 3.4085\n",
      "\n",
      "Epoch 405/500\n",
      "323/323 [==============================]323/323 [==============================] - 0s 51us/step - loss: 19.1593 - mean_absolute_error: 3.2658 - val_loss: 38.3901 - val_mean_absolute_error: 4.5556\n",
      "\n",
      "Epoch 406/500\n",
      "323/323 [==============================]323/323 [==============================] - 0s 44us/step - loss: 13.0781 - mean_absolute_error: 2.7023 - val_loss: 53.2088 - val_mean_absolute_error: 5.7099\n",
      "\n",
      "Epoch 407/500\n",
      "323/323 [==============================]323/323 [==============================] - 0s 44us/step - loss: 18.1188 - mean_absolute_error: 3.2266 - val_loss: 25.0660 - val_mean_absolute_error: 3.4879\n",
      "\n",
      "Epoch 408/500\n",
      "323/323 [==============================]323/323 [==============================] - 0s 49us/step - loss: 14.0582 - mean_absolute_error: 2.8034 - val_loss: 23.7757 - val_mean_absolute_error: 3.3617\n",
      "\n",
      "Epoch 409/500\n",
      "323/323 [==============================]323/323 [==============================] - 0s 55us/step - loss: 15.5392 - mean_absolute_error: 2.8323 - val_loss: 20.9676 - val_mean_absolute_error: 3.0392\n",
      "\n",
      "Epoch 410/500\n",
      "323/323 [==============================]323/323 [==============================] - 0s 47us/step - loss: 17.6224 - mean_absolute_error: 3.1792 - val_loss: 34.3258 - val_mean_absolute_error: 4.1334\n",
      "\n",
      "Epoch 411/500\n",
      "323/323 [==============================]323/323 [==============================] - 0s 49us/step - loss: 13.0392 - mean_absolute_error: 2.6560 - val_loss: 27.8955 - val_mean_absolute_error: 3.6532\n",
      "\n",
      "Epoch 412/500\n",
      "323/323 [==============================]323/323 [==============================] - 0s 50us/step - loss: 17.8292 - mean_absolute_error: 3.0087 - val_loss: 23.2791 - val_mean_absolute_error: 3.3367\n",
      "\n",
      "Epoch 413/500\n",
      "323/323 [==============================]323/323 [==============================] - 0s 45us/step - loss: 18.3935 - mean_absolute_error: 2.8877 - val_loss: 32.5000 - val_mean_absolute_error: 3.7789\n",
      "\n",
      "Epoch 414/500\n",
      "323/323 [==============================]323/323 [==============================] - 0s 45us/step - loss: 14.3284 - mean_absolute_error: 2.7352 - val_loss: 25.8642 - val_mean_absolute_error: 3.7037\n",
      "\n",
      "Epoch 415/500\n",
      "323/323 [==============================]323/323 [==============================] - 0s 50us/step - loss: 15.9449 - mean_absolute_error: 2.8667 - val_loss: 31.4738 - val_mean_absolute_error: 4.1075\n",
      "\n",
      "Epoch 416/500\n",
      "323/323 [==============================]323/323 [==============================] - 0s 46us/step - loss: 15.6827 - mean_absolute_error: 2.9282 - val_loss: 33.6173 - val_mean_absolute_error: 4.4846\n",
      "\n",
      "Epoch 417/500\n",
      "323/323 [==============================]323/323 [==============================] - 0s 52us/step - loss: 12.6617 - mean_absolute_error: 2.7284 - val_loss: 46.4981 - val_mean_absolute_error: 5.1828\n",
      "\n",
      "Epoch 418/500\n",
      "323/323 [==============================]323/323 [==============================] - 0s 49us/step - loss: 17.6855 - mean_absolute_error: 2.9714 - val_loss: 26.4054 - val_mean_absolute_error: 3.2702\n",
      "\n",
      "Epoch 419/500\n",
      "323/323 [==============================]323/323 [==============================] - 0s 48us/step - loss: 17.1093 - mean_absolute_error: 3.0853 - val_loss: 35.0336 - val_mean_absolute_error: 4.0014\n",
      "\n",
      "Epoch 420/500\n",
      "323/323 [==============================]323/323 [==============================] - 0s 48us/step - loss: 16.7202 - mean_absolute_error: 2.9596 - val_loss: 22.6171 - val_mean_absolute_error: 3.3666\n",
      "\n",
      "Epoch 421/500\n",
      "323/323 [==============================]323/323 [==============================] - 0s 46us/step - loss: 15.7459 - mean_absolute_error: 2.9599 - val_loss: 21.6697 - val_mean_absolute_error: 3.2643\n",
      "\n",
      "Epoch 422/500\n",
      "323/323 [==============================]323/323 [==============================] - 0s 45us/step - loss: 13.3909 - mean_absolute_error: 2.6843 - val_loss: 40.2101 - val_mean_absolute_error: 4.6970\n",
      "\n",
      "Epoch 423/500\n",
      "323/323 [==============================]323/323 [==============================] - 0s 51us/step - loss: 12.7621 - mean_absolute_error: 2.5810 - val_loss: 79.1140 - val_mean_absolute_error: 7.2425\n",
      "\n",
      "Epoch 424/500\n",
      "323/323 [==============================]323/323 [==============================] - 0s 43us/step - loss: 18.8062 - mean_absolute_error: 3.1679 - val_loss: 27.7149 - val_mean_absolute_error: 3.7527\n",
      "\n",
      "Epoch 425/500\n",
      "323/323 [==============================]323/323 [==============================] - 0s 45us/step - loss: 15.5553 - mean_absolute_error: 2.8423 - val_loss: 23.9945 - val_mean_absolute_error: 3.5272\n",
      "\n",
      "Epoch 426/500\n",
      "323/323 [==============================]323/323 [==============================] - 0s 46us/step - loss: 16.4867 - mean_absolute_error: 2.9525 - val_loss: 33.0508 - val_mean_absolute_error: 4.0407\n",
      "\n",
      "Epoch 427/500\n",
      "323/323 [==============================]323/323 [==============================] - 0s 46us/step - loss: 11.8352 - mean_absolute_error: 2.4612 - val_loss: 24.4522 - val_mean_absolute_error: 3.4411\n",
      "\n",
      "Epoch 428/500\n",
      "323/323 [==============================]323/323 [==============================] - 0s 45us/step - loss: 17.7380 - mean_absolute_error: 2.9938 - val_loss: 26.1353 - val_mean_absolute_error: 3.2686\n"
     ]
    },
    {
     "name": "stdout",
     "output_type": "stream",
     "text": [
      "\n",
      "Epoch 429/500\n",
      "323/323 [==============================]323/323 [==============================] - 0s 44us/step - loss: 15.1053 - mean_absolute_error: 2.7514 - val_loss: 29.9494 - val_mean_absolute_error: 4.1213\n",
      "\n",
      "Epoch 430/500\n",
      "323/323 [==============================]323/323 [==============================] - 0s 48us/step - loss: 14.7523 - mean_absolute_error: 2.8446 - val_loss: 87.1573 - val_mean_absolute_error: 7.8012\n",
      "\n",
      "Epoch 431/500\n",
      "323/323 [==============================]323/323 [==============================] - 0s 43us/step - loss: 17.1581 - mean_absolute_error: 2.9736 - val_loss: 23.0369 - val_mean_absolute_error: 3.1713\n",
      "\n",
      "Epoch 432/500\n",
      "323/323 [==============================]323/323 [==============================] - 0s 45us/step - loss: 17.4352 - mean_absolute_error: 3.0312 - val_loss: 21.4432 - val_mean_absolute_error: 3.2325\n",
      "\n",
      "Epoch 433/500\n",
      "323/323 [==============================]323/323 [==============================] - 0s 46us/step - loss: 12.0680 - mean_absolute_error: 2.6049 - val_loss: 23.4327 - val_mean_absolute_error: 3.4949\n",
      "\n",
      "Epoch 434/500\n",
      "323/323 [==============================]323/323 [==============================] - 0s 47us/step - loss: 14.2572 - mean_absolute_error: 2.7423 - val_loss: 35.5516 - val_mean_absolute_error: 4.3302\n",
      "\n",
      "Epoch 435/500\n",
      "323/323 [==============================]323/323 [==============================] - 0s 46us/step - loss: 13.5477 - mean_absolute_error: 2.6462 - val_loss: 23.9609 - val_mean_absolute_error: 3.4474\n",
      "\n",
      "Epoch 436/500\n",
      "323/323 [==============================]323/323 [==============================] - 0s 41us/step - loss: 16.1126 - mean_absolute_error: 2.8562 - val_loss: 22.6392 - val_mean_absolute_error: 3.0562\n",
      "\n",
      "Epoch 437/500\n",
      "323/323 [==============================]323/323 [==============================] - 0s 52us/step - loss: 18.7139 - mean_absolute_error: 3.1135 - val_loss: 23.8614 - val_mean_absolute_error: 3.5069\n",
      "\n",
      "Epoch 438/500\n",
      "323/323 [==============================]323/323 [==============================] - 0s 51us/step - loss: 16.3682 - mean_absolute_error: 2.8670 - val_loss: 25.1344 - val_mean_absolute_error: 3.5038\n",
      "\n",
      "Epoch 439/500\n",
      "323/323 [==============================]323/323 [==============================] - 0s 48us/step - loss: 12.9901 - mean_absolute_error: 2.6237 - val_loss: 44.5854 - val_mean_absolute_error: 4.8521\n",
      "\n",
      "Epoch 440/500\n",
      "323/323 [==============================]323/323 [==============================] - 0s 61us/step - loss: 15.7026 - mean_absolute_error: 2.8365 - val_loss: 36.2141 - val_mean_absolute_error: 4.1286\n",
      "\n",
      "Epoch 441/500\n",
      "323/323 [==============================]323/323 [==============================] - 0s 46us/step - loss: 15.4634 - mean_absolute_error: 2.6032 - val_loss: 26.9044 - val_mean_absolute_error: 3.8298\n",
      "\n",
      "Epoch 442/500\n",
      "323/323 [==============================]323/323 [==============================] - 0s 42us/step - loss: 14.3085 - mean_absolute_error: 2.7934 - val_loss: 28.3876 - val_mean_absolute_error: 3.7544\n",
      "\n",
      "Epoch 443/500\n",
      "323/323 [==============================]323/323 [==============================] - 0s 44us/step - loss: 16.0037 - mean_absolute_error: 2.9342 - val_loss: 22.7695 - val_mean_absolute_error: 3.1354\n",
      "\n",
      "Epoch 444/500\n",
      "323/323 [==============================]323/323 [==============================] - 0s 46us/step - loss: 14.0977 - mean_absolute_error: 2.6506 - val_loss: 25.4486 - val_mean_absolute_error: 3.5300\n",
      "\n",
      "Epoch 445/500\n",
      "323/323 [==============================]323/323 [==============================] - 0s 47us/step - loss: 11.4965 - mean_absolute_error: 2.4585 - val_loss: 37.1156 - val_mean_absolute_error: 4.5763\n",
      "\n",
      "Epoch 446/500\n",
      "323/323 [==============================]323/323 [==============================] - 0s 46us/step - loss: 15.2097 - mean_absolute_error: 2.9057 - val_loss: 31.8381 - val_mean_absolute_error: 3.8869\n",
      "\n",
      "Epoch 447/500\n",
      "323/323 [==============================]323/323 [==============================] - 0s 44us/step - loss: 15.9637 - mean_absolute_error: 2.8287 - val_loss: 24.4556 - val_mean_absolute_error: 3.1449\n",
      "\n",
      "Epoch 448/500\n",
      "323/323 [==============================]323/323 [==============================] - 0s 51us/step - loss: 12.8250 - mean_absolute_error: 2.5546 - val_loss: 41.2759 - val_mean_absolute_error: 5.1282\n",
      "\n",
      "Epoch 449/500\n",
      "323/323 [==============================]323/323 [==============================] - 0s 46us/step - loss: 14.0167 - mean_absolute_error: 2.6860 - val_loss: 31.4033 - val_mean_absolute_error: 4.1821\n",
      "\n",
      "Epoch 450/500\n",
      "323/323 [==============================]323/323 [==============================] - 0s 47us/step - loss: 12.4492 - mean_absolute_error: 2.5609 - val_loss: 43.2350 - val_mean_absolute_error: 4.5801\n",
      "\n",
      "Epoch 451/500\n",
      "323/323 [==============================]323/323 [==============================] - 0s 58us/step - loss: 15.3386 - mean_absolute_error: 2.8928 - val_loss: 26.3892 - val_mean_absolute_error: 3.9614\n",
      "\n",
      "Epoch 452/500\n",
      "323/323 [==============================]323/323 [==============================] - 0s 47us/step - loss: 13.6650 - mean_absolute_error: 2.6995 - val_loss: 26.7303 - val_mean_absolute_error: 3.5958\n",
      "\n",
      "Epoch 453/500\n",
      "323/323 [==============================]323/323 [==============================] - 0s 49us/step - loss: 14.1018 - mean_absolute_error: 2.7472 - val_loss: 27.7271 - val_mean_absolute_error: 3.9339\n",
      "\n",
      "Epoch 454/500\n",
      "323/323 [==============================]323/323 [==============================] - 0s 49us/step - loss: 13.7402 - mean_absolute_error: 2.6350 - val_loss: 25.1274 - val_mean_absolute_error: 3.4216\n",
      "\n",
      "Epoch 455/500\n",
      "323/323 [==============================]323/323 [==============================] - 0s 46us/step - loss: 12.4016 - mean_absolute_error: 2.5620 - val_loss: 22.1252 - val_mean_absolute_error: 3.1838\n",
      "\n",
      "Epoch 456/500\n",
      "323/323 [==============================]323/323 [==============================] - 0s 49us/step - loss: 19.0540 - mean_absolute_error: 3.1820 - val_loss: 79.8006 - val_mean_absolute_error: 7.0822\n",
      "\n",
      "Epoch 457/500\n",
      "323/323 [==============================]323/323 [==============================] - 0s 46us/step - loss: 16.0113 - mean_absolute_error: 2.8448 - val_loss: 20.7716 - val_mean_absolute_error: 3.0722\n",
      "\n",
      "Epoch 458/500\n",
      "323/323 [==============================]323/323 [==============================] - 0s 43us/step - loss: 14.7965 - mean_absolute_error: 2.8986 - val_loss: 21.3066 - val_mean_absolute_error: 3.1376\n",
      "\n",
      "Epoch 459/500\n",
      "323/323 [==============================]323/323 [==============================] - 0s 43us/step - loss: 12.1041 - mean_absolute_error: 2.4305 - val_loss: 24.4620 - val_mean_absolute_error: 3.5281\n",
      "\n",
      "Epoch 460/500\n",
      "323/323 [==============================]323/323 [==============================] - 0s 47us/step - loss: 15.1693 - mean_absolute_error: 2.8800 - val_loss: 64.6379 - val_mean_absolute_error: 6.3239\n",
      "\n",
      "Epoch 461/500\n",
      "323/323 [==============================]323/323 [==============================] - 0s 44us/step - loss: 14.4710 - mean_absolute_error: 2.7673 - val_loss: 23.2095 - val_mean_absolute_error: 3.2657\n",
      "\n",
      "Epoch 462/500\n",
      "323/323 [==============================]323/323 [==============================] - 0s 48us/step - loss: 12.3785 - mean_absolute_error: 2.5760 - val_loss: 30.9839 - val_mean_absolute_error: 3.9568\n",
      "\n",
      "Epoch 463/500\n",
      "323/323 [==============================]323/323 [==============================] - 0s 45us/step - loss: 12.0720 - mean_absolute_error: 2.5035 - val_loss: 22.6184 - val_mean_absolute_error: 3.4019\n",
      "\n",
      "Epoch 464/500\n",
      "323/323 [==============================]323/323 [==============================] - 0s 45us/step - loss: 16.5072 - mean_absolute_error: 2.8452 - val_loss: 23.5170 - val_mean_absolute_error: 3.2408\n",
      "\n",
      "Epoch 465/500\n",
      "323/323 [==============================]323/323 [==============================] - 0s 46us/step - loss: 14.0950 - mean_absolute_error: 2.7278 - val_loss: 21.7583 - val_mean_absolute_error: 3.2489\n",
      "\n",
      "Epoch 466/500\n",
      "323/323 [==============================]323/323 [==============================] - 0s 48us/step - loss: 13.8726 - mean_absolute_error: 2.8373 - val_loss: 30.4824 - val_mean_absolute_error: 3.8673\n",
      "\n",
      "Epoch 467/500\n",
      "323/323 [==============================]323/323 [==============================] - 0s 51us/step - loss: 14.3874 - mean_absolute_error: 2.6363 - val_loss: 27.6134 - val_mean_absolute_error: 3.4226\n"
     ]
    },
    {
     "name": "stdout",
     "output_type": "stream",
     "text": [
      "\n",
      "Epoch 468/500\n",
      "323/323 [==============================]323/323 [==============================] - 0s 49us/step - loss: 15.9442 - mean_absolute_error: 2.9125 - val_loss: 23.9656 - val_mean_absolute_error: 3.3172\n",
      "\n",
      "Epoch 469/500\n",
      "323/323 [==============================]323/323 [==============================] - 0s 50us/step - loss: 15.8734 - mean_absolute_error: 2.8222 - val_loss: 31.7358 - val_mean_absolute_error: 4.3300\n",
      "\n",
      "Epoch 470/500\n",
      "323/323 [==============================]323/323 [==============================] - 0s 47us/step - loss: 12.3468 - mean_absolute_error: 2.4675 - val_loss: 23.7808 - val_mean_absolute_error: 3.4233\n",
      "\n",
      "Epoch 471/500\n",
      "323/323 [==============================]323/323 [==============================] - 0s 47us/step - loss: 10.7350 - mean_absolute_error: 2.4374 - val_loss: 54.3201 - val_mean_absolute_error: 5.6016\n",
      "\n",
      "Epoch 472/500\n",
      "323/323 [==============================]323/323 [==============================] - 0s 50us/step - loss: 17.9574 - mean_absolute_error: 3.1051 - val_loss: 25.7230 - val_mean_absolute_error: 3.3202\n",
      "\n",
      "Epoch 473/500\n",
      "323/323 [==============================]323/323 [==============================] - 0s 43us/step - loss: 12.8821 - mean_absolute_error: 2.6035 - val_loss: 34.1087 - val_mean_absolute_error: 4.7133\n",
      "\n",
      "Epoch 474/500\n",
      "323/323 [==============================]323/323 [==============================] - 0s 43us/step - loss: 14.6343 - mean_absolute_error: 2.8006 - val_loss: 25.3661 - val_mean_absolute_error: 3.7314\n",
      "\n",
      "Epoch 475/500\n",
      "323/323 [==============================]323/323 [==============================] - 0s 53us/step - loss: 13.1515 - mean_absolute_error: 2.5677 - val_loss: 33.0211 - val_mean_absolute_error: 4.1400\n",
      "\n",
      "Epoch 476/500\n",
      "323/323 [==============================]323/323 [==============================] - 0s 44us/step - loss: 16.4496 - mean_absolute_error: 2.9086 - val_loss: 36.2054 - val_mean_absolute_error: 4.4542\n",
      "\n",
      "Epoch 477/500\n",
      "323/323 [==============================]323/323 [==============================] - 0s 44us/step - loss: 14.1529 - mean_absolute_error: 2.7285 - val_loss: 23.0856 - val_mean_absolute_error: 3.4733\n",
      "\n",
      "Epoch 478/500\n",
      "323/323 [==============================]323/323 [==============================] - 0s 47us/step - loss: 15.3148 - mean_absolute_error: 2.8693 - val_loss: 32.5294 - val_mean_absolute_error: 4.1682\n",
      "\n",
      "Epoch 479/500\n",
      "323/323 [==============================]323/323 [==============================] - 0s 48us/step - loss: 14.9493 - mean_absolute_error: 2.7256 - val_loss: 47.5978 - val_mean_absolute_error: 5.4031\n",
      "\n",
      "Epoch 480/500\n",
      "323/323 [==============================]323/323 [==============================] - 0s 46us/step - loss: 13.6736 - mean_absolute_error: 2.7683 - val_loss: 27.0835 - val_mean_absolute_error: 3.8910\n",
      "\n",
      "Epoch 481/500\n",
      "323/323 [==============================]323/323 [==============================] - 0s 50us/step - loss: 12.6718 - mean_absolute_error: 2.5800 - val_loss: 39.0543 - val_mean_absolute_error: 4.8875\n",
      "\n",
      "Epoch 482/500\n",
      "323/323 [==============================]323/323 [==============================] - 0s 45us/step - loss: 14.5528 - mean_absolute_error: 2.7667 - val_loss: 26.2227 - val_mean_absolute_error: 3.7024\n",
      "\n",
      "Epoch 483/500\n",
      "323/323 [==============================]323/323 [==============================] - 0s 58us/step - loss: 15.7293 - mean_absolute_error: 2.7254 - val_loss: 22.5753 - val_mean_absolute_error: 3.3414\n",
      "\n",
      "Epoch 484/500\n",
      "323/323 [==============================]323/323 [==============================] - 0s 45us/step - loss: 13.4431 - mean_absolute_error: 2.6009 - val_loss: 27.8346 - val_mean_absolute_error: 3.5784\n",
      "\n",
      "Epoch 485/500\n",
      "323/323 [==============================]323/323 [==============================] - 0s 52us/step - loss: 13.0361 - mean_absolute_error: 2.6486 - val_loss: 38.2781 - val_mean_absolute_error: 4.1469\n",
      "\n",
      "Epoch 486/500\n",
      "323/323 [==============================]323/323 [==============================] - 0s 45us/step - loss: 13.0894 - mean_absolute_error: 2.4606 - val_loss: 26.4658 - val_mean_absolute_error: 3.8659\n",
      "\n",
      "Epoch 487/500\n",
      "323/323 [==============================]323/323 [==============================] - 0s 48us/step - loss: 12.3275 - mean_absolute_error: 2.5574 - val_loss: 24.9969 - val_mean_absolute_error: 3.2950\n",
      "\n",
      "Epoch 488/500\n",
      "323/323 [==============================]323/323 [==============================] - 0s 46us/step - loss: 12.5065 - mean_absolute_error: 2.6284 - val_loss: 35.5552 - val_mean_absolute_error: 4.8015\n",
      "\n",
      "Epoch 489/500\n",
      "323/323 [==============================]323/323 [==============================] - 0s 51us/step - loss: 15.2548 - mean_absolute_error: 2.8483 - val_loss: 21.4549 - val_mean_absolute_error: 3.1370\n",
      "\n",
      "Epoch 490/500\n",
      "323/323 [==============================]323/323 [==============================] - 0s 48us/step - loss: 11.2349 - mean_absolute_error: 2.3374 - val_loss: 23.4519 - val_mean_absolute_error: 3.2511\n",
      "\n",
      "Epoch 491/500\n",
      "323/323 [==============================]323/323 [==============================] - 0s 43us/step - loss: 17.1293 - mean_absolute_error: 2.8809 - val_loss: 41.4659 - val_mean_absolute_error: 4.7790\n",
      "\n",
      "Epoch 492/500\n",
      "323/323 [==============================]323/323 [==============================] - 0s 45us/step - loss: 12.4354 - mean_absolute_error: 2.4817 - val_loss: 28.4616 - val_mean_absolute_error: 3.9162\n",
      "\n",
      "Epoch 493/500\n",
      "323/323 [==============================]323/323 [==============================] - 0s 45us/step - loss: 11.1549 - mean_absolute_error: 2.3808 - val_loss: 23.4589 - val_mean_absolute_error: 3.2970\n",
      "\n",
      "Epoch 494/500\n",
      "323/323 [==============================]323/323 [==============================] - 0s 46us/step - loss: 17.7328 - mean_absolute_error: 3.0078 - val_loss: 26.2802 - val_mean_absolute_error: 3.5756\n",
      "\n",
      "Epoch 495/500\n",
      "323/323 [==============================]323/323 [==============================] - 0s 47us/step - loss: 10.6629 - mean_absolute_error: 2.3241 - val_loss: 24.0457 - val_mean_absolute_error: 3.4112\n",
      "\n",
      "Epoch 496/500\n",
      "323/323 [==============================]323/323 [==============================] - 0s 44us/step - loss: 16.4677 - mean_absolute_error: 2.8715 - val_loss: 67.6988 - val_mean_absolute_error: 6.9892\n",
      "\n",
      "Epoch 497/500\n",
      "323/323 [==============================]323/323 [==============================] - 0s 49us/step - loss: 14.6437 - mean_absolute_error: 2.7501 - val_loss: 26.0462 - val_mean_absolute_error: 3.4928\n",
      "\n",
      "Epoch 498/500\n",
      "323/323 [==============================]323/323 [==============================] - 0s 44us/step - loss: 11.8318 - mean_absolute_error: 2.4077 - val_loss: 22.7934 - val_mean_absolute_error: 3.2052\n",
      "\n",
      "Epoch 499/500\n",
      "323/323 [==============================]323/323 [==============================] - 0s 50us/step - loss: 12.9085 - mean_absolute_error: 2.6176 - val_loss: 24.5017 - val_mean_absolute_error: 3.3022\n",
      "\n",
      "Epoch 500/500\n",
      "323/323 [==============================]323/323 [==============================] - 0s 47us/step - loss: 11.0158 - mean_absolute_error: 2.3642 - val_loss: 30.8126 - val_mean_absolute_error: 4.0694\n",
      "\n"
     ]
    }
   ],
   "source": [
    "EPOCHS = 500\n",
    "\n",
    "# Store training stats\n",
    "history_rmsprop = model_rmsprop.fit(X_train, y_train, epochs=EPOCHS,\n",
    "                    validation_split=0.2, verbose=1)"
   ]
  },
  {
   "cell_type": "markdown",
   "metadata": {
    "slideshow": {
     "slide_type": "skip"
    }
   },
   "source": [
    "Let us look at the training progress:"
   ]
  },
  {
   "cell_type": "code",
   "execution_count": 37,
   "metadata": {
    "slideshow": {
     "slide_type": "slide"
    }
   },
   "outputs": [],
   "source": [
    "import matplotlib.pyplot as plt\n",
    "\n",
    "\n",
    "def plot_history(history):\n",
    "    plt.figure(figsize=(11,9))\n",
    "    plt.xlabel('Epoch')\n",
    "    plt.ylabel('Mean Abs Error [1000$]')\n",
    "    plt.plot(history.epoch, np.array(history.history['mean_absolute_error']),\n",
    "           label='Train Loss')\n",
    "    plt.plot(history.epoch, np.array(history.history['val_mean_absolute_error']),\n",
    "           label = 'Val loss')\n",
    "    plt.legend()\n",
    "    plt.ylim([0, 5])"
   ]
  },
  {
   "cell_type": "code",
   "execution_count": 38,
   "metadata": {
    "slideshow": {
     "slide_type": "slide"
    }
   },
   "outputs": [
    {
     "data": {
      "image/png": "[encoded data removed]",
      "text/plain": [
       "<Figure size 792x648 with 1 Axes>"
      ]
     },
     "metadata": {},
     "output_type": "display_data"
    }
   ],
   "source": [
    "plot_history(history_rmsprop)"
   ]
  },
  {
   "cell_type": "markdown",
   "metadata": {
    "slideshow": {
     "slide_type": "skip"
    }
   },
   "source": [
    "As you can see, not only we are over-fitting (since the training error is less than validation error), the training is very unstable. What could be the reason for it? While working with Neural Networks, one main issue as you we saw earlier in the visualizations from Stochastic Gradient Descent is that the optimization method cannot break symmetry. Let us build another model with the same architecture, but change the optimizer:"
   ]
  },
  {
   "cell_type": "code",
   "execution_count": 39,
   "metadata": {
    "slideshow": {
     "slide_type": "slide"
    }
   },
   "outputs": [],
   "source": [
    "def build_model():\n",
    "    model = keras.Sequential([\n",
    "        keras.layers.Dense(64, activation=tf.nn.relu,\n",
    "                       input_shape=(X_train.shape[1],)),\n",
    "        keras.layers.Dense(64, activation=tf.nn.relu),\n",
    "        keras.layers.Dense(1)\n",
    "  ])\n",
    "\n",
    "    optimizer = optimizer = tf.train.AdadeltaOptimizer(1., 0.95, 1e-6)    \n",
    "\n",
    "    model.compile(loss='mse',\n",
    "                optimizer=optimizer,\n",
    "                metrics=['mae'])\n",
    "    return model"
   ]
  },
  {
   "cell_type": "code",
   "execution_count": 40,
   "metadata": {
    "slideshow": {
     "slide_type": "slide"
    }
   },
   "outputs": [
    {
     "name": "stdout",
     "output_type": "stream",
     "text": [
      "_________________________________________________________________\n",
      "Layer (type)                 Output Shape              Param #   \n",
      "=================================================================\n",
      "dense_4 (Dense)              (None, 64)                896       \n",
      "_________________________________________________________________\n",
      "dense_5 (Dense)              (None, 64)                4160      \n",
      "_________________________________________________________________\n",
      "dense_6 (Dense)              (None, 1)                 65        \n",
      "=================================================================\n",
      "Total params: 5,121\n",
      "Trainable params: 5,121\n",
      "Non-trainable params: 0\n",
      "_________________________________________________________________\n"
     ]
    }
   ],
   "source": [
    "model_ada = build_model()\n",
    "model_ada.summary()"
   ]
  },
  {
   "cell_type": "markdown",
   "metadata": {
    "slideshow": {
     "slide_type": "slide"
    }
   },
   "source": [
    "### Training\n",
    "\n",
    "\n",
    "The *fit* method needs to be evoked on the model object that you created to start the training process:"
   ]
  },
  {
   "cell_type": "code",
   "execution_count": 41,
   "metadata": {
    "slideshow": {
     "slide_type": "fragment"
    }
   },
   "outputs": [],
   "source": [
    "EPOCHS = 500\n",
    "\n",
    "# Store training stats\n",
    "history_ada = model_ada.fit(X_train, y_train, epochs=EPOCHS,\n",
    "                    validation_split=0.2, verbose=0)"
   ]
  },
  {
   "cell_type": "code",
   "execution_count": 42,
   "metadata": {
    "slideshow": {
     "slide_type": "slide"
    }
   },
   "outputs": [
    {
     "data": {
      "image/png": "[encoded data removed]",
      "text/plain": [
       "<Figure size 792x648 with 1 Axes>"
      ]
     },
     "metadata": {},
     "output_type": "display_data"
    }
   ],
   "source": [
    "plot_history(history_ada)"
   ]
  },
  {
   "cell_type": "markdown",
   "metadata": {
    "slideshow": {
     "slide_type": "skip"
    }
   },
   "source": [
    "As you can see, our assumption was wrong about unstability of RMSProp. In this case, our training is still very unstable. Let us before more investigation, try to find out how an unstable training, affects the prediction of a Neural Network:"
   ]
  },
  {
   "cell_type": "markdown",
   "metadata": {
    "slideshow": {
     "slide_type": "slide"
    }
   },
   "source": [
    "### Evaluation"
   ]
  },
  {
   "cell_type": "code",
   "execution_count": 44,
   "metadata": {
    "slideshow": {
     "slide_type": "fragment"
    }
   },
   "outputs": [],
   "source": [
    "[loss_ada, mae_ada] = model_ada.evaluate(X_test, y_test, verbose=0)\n",
    "[loss_rmsprop, mae_rmsprop] = model_rmsprop.evaluate(X_test, y_test, verbose=0)"
   ]
  },
  {
   "cell_type": "code",
   "execution_count": 76,
   "metadata": {
    "slideshow": {
     "slide_type": "slide"
    }
   },
   "outputs": [],
   "source": [
    "import matplotlib.pyplot as plt\n",
    "\n",
    "fig, ax = plt.subplots(1, 2, figsize=(19, 11), sharex=True)\n",
    "\n",
    "N = np.arange(2)\n",
    "width = 0.5\n",
    "\n",
    "ax[0].bar(N, [loss_ada, loss_rmsprop], width, label='Loss', alpha=0.7, color='red')\n",
    "ax[0].set_xticks(N)\n",
    "ax[0].set_xticklabels(('MLP with Ada', 'MLP with RMSProp'))\n",
    "ax[0].set_title('MSE Loss function')\n",
    "\n",
    "ax[1].bar(N, [mae_ada, mae_rmsprop], width, label='Mean Asbolute Error', alpha=0.7, color='blue')\n",
    "ax[1].set_xticks(N)\n",
    "ax[1].set_xticklabels(('MLP with Ada', 'MLP with RMSProp'))\n",
    "ax[1].set_title('Mean Absolute Error')\n",
    "\n",
    "plt.savefig('error_ml.png')\n",
    "plt.close()"
   ]
  },
  {
   "cell_type": "markdown",
   "metadata": {
    "slideshow": {
     "slide_type": "slide"
    }
   },
   "source": [
    "<img src=\"error_ml.png\" />"
   ]
  },
  {
   "cell_type": "markdown",
   "metadata": {
    "slideshow": {
     "slide_type": "skip"
    }
   },
   "source": [
    "The above visualization shows that RMSProp is out-performing the Ada optimzier. Please remember that the hyperparameters are not yet optimized.Let us look at the prediction metrics:"
   ]
  },
  {
   "cell_type": "markdown",
   "metadata": {
    "slideshow": {
     "slide_type": "slide"
    }
   },
   "source": [
    "### Prediction (Inference)"
   ]
  },
  {
   "cell_type": "code",
   "execution_count": 47,
   "metadata": {
    "slideshow": {
     "slide_type": "fragment"
    }
   },
   "outputs": [],
   "source": [
    "test_pred_ada = model_ada.predict(X_test).flatten()\n",
    "test_pred_rmsprop = model_rmsprop.predict(X_test).flatten()"
   ]
  },
  {
   "cell_type": "code",
   "execution_count": 48,
   "metadata": {
    "slideshow": {
     "slide_type": "slide"
    }
   },
   "outputs": [],
   "source": [
    "fig, ax = plt.subplots(1, 2, figsize=(15, 9))\n",
    "\n",
    "\n",
    "ax[0].scatter(y_test, test_pred_ada)\n",
    "ax[0].set_xlabel('True Values [1000$]')\n",
    "ax[0].set_ylabel('Predictions [1000$]')\n",
    "\n",
    "ax[0].axis('equal')\n",
    "ax[0].set_title('MLP with Ada')\n",
    "ax[0].plot([-100, 100], [-100, 100])\n",
    "\n",
    "ax[1].scatter(y_test, test_pred_rmsprop)\n",
    "ax[1].set_xlabel('True Values [1000$]')\n",
    "ax[1].set_ylabel('Predictions [1000$]')\n",
    "\n",
    "ax[1].axis('equal')\n",
    "ax[1].set_title('MLP with RMSProp')\n",
    "ax[1].plot([-100, 100], [-100, 100])\n",
    "\n",
    "plt.savefig('pred_mlp.png')\n",
    "plt.close()"
   ]
  },
  {
   "cell_type": "markdown",
   "metadata": {
    "slideshow": {
     "slide_type": "slide"
    }
   },
   "source": [
    "<img src=\"pred_mlp.png\" />"
   ]
  },
  {
   "cell_type": "markdown",
   "metadata": {
    "slideshow": {
     "slide_type": "skip"
    }
   },
   "source": [
    "So back to the unstable training, we need to mention that although in no formal formualtion is mentioned, **Backpropagation and Stochastic Gradient Descent algorithms are very unstable without mean normalization**. This is a rather weakenss of Neural Networks and all methods which rely on the sub-gradients of data in order to perform optimization:"
   ]
  },
  {
   "cell_type": "code",
   "execution_count": 52,
   "metadata": {
    "slideshow": {
     "slide_type": "slide"
    }
   },
   "outputs": [
    {
     "name": "stdout",
     "output_type": "stream",
     "text": [
      "[ 1.43910768 -0.49559343  1.02669166 -0.29329423  1.25887674 -1.44077268\n",
      "  1.05736657 -1.13295032  1.67595875  1.55633679  0.81290414  0.43472666\n",
      "  2.50177533]\n"
     ]
    }
   ],
   "source": [
    "mean = X_train.mean(axis=0)\n",
    "std = X_train.std(axis=0)\n",
    "\n",
    "train_norm = (X_train - mean) / std\n",
    "test_norm = (X_test - mean) / std\n",
    "\n",
    "print(train_norm[0])"
   ]
  },
  {
   "cell_type": "code",
   "execution_count": 53,
   "metadata": {
    "slideshow": {
     "slide_type": "slide"
    }
   },
   "outputs": [],
   "source": [
    "EPOCHS = 500\n",
    "\n",
    "# Store training stats\n",
    "history_rmsprop = model_rmsprop.fit(train_norm, y_train, epochs=EPOCHS,\n",
    "                    validation_split=0.2, verbose=0)"
   ]
  },
  {
   "cell_type": "code",
   "execution_count": 54,
   "metadata": {
    "slideshow": {
     "slide_type": "slide"
    }
   },
   "outputs": [
    {
     "data": {
      "image/png": "[encoded data removed]",
      "text/plain": [
       "<Figure size 792x648 with 1 Axes>"
      ]
     },
     "metadata": {},
     "output_type": "display_data"
    }
   ],
   "source": [
    "plot_history(history_rmsprop)"
   ]
  },
  {
   "cell_type": "markdown",
   "metadata": {
    "slideshow": {
     "slide_type": "skip"
    }
   },
   "source": [
    "One question can be, are we sure that all variants of Stochastic Gradient Descent can be improved by this technique? And the answer is yes:"
   ]
  },
  {
   "cell_type": "code",
   "execution_count": 55,
   "metadata": {
    "slideshow": {
     "slide_type": "slide"
    }
   },
   "outputs": [],
   "source": [
    "EPOCHS = 500\n",
    "\n",
    "# Store training stats\n",
    "history_ada = model_ada.fit(train_norm, y_train, epochs=EPOCHS,\n",
    "                    validation_split=0.2, verbose=0)"
   ]
  },
  {
   "cell_type": "code",
   "execution_count": 56,
   "metadata": {
    "slideshow": {
     "slide_type": "slide"
    }
   },
   "outputs": [
    {
     "data": {
      "image/png": "[encoded data removed]",
      "text/plain": [
       "<Figure size 792x648 with 1 Axes>"
      ]
     },
     "metadata": {},
     "output_type": "display_data"
    }
   ],
   "source": [
    "plot_history(history_rmsprop)"
   ]
  },
  {
   "cell_type": "code",
   "execution_count": 57,
   "metadata": {
    "slideshow": {
     "slide_type": "slide"
    }
   },
   "outputs": [],
   "source": [
    "[loss_ada, mae_ada] = model_ada.evaluate(X_test, y_test, verbose=0)\n",
    "[loss_rmsprop, mae_rmsprop] = model_rmsprop.evaluate(X_test, y_test, verbose=0)"
   ]
  },
  {
   "cell_type": "code",
   "execution_count": 77,
   "metadata": {
    "slideshow": {
     "slide_type": "slide"
    }
   },
   "outputs": [],
   "source": [
    "import matplotlib.pyplot as plt\n",
    "\n",
    "fig, ax = plt.subplots(1, 2, figsize=(19, 11), sharex=True)\n",
    "\n",
    "N = np.arange(2)\n",
    "width = 0.5\n",
    "\n",
    "ax[0].bar(N, [loss_ada, loss_rmsprop], width, label='Loss', alpha=0.7, color='red')\n",
    "ax[0].set_xticks(N)\n",
    "ax[0].set_xticklabels(('MLP with Ada', 'MLP with RMSProp'))\n",
    "ax[0].set_title('MSE Loss function')\n",
    "\n",
    "ax[1].bar(N, [mae_ada, mae_rmsprop], width, label='Mean Asbolute Error', alpha=0.7, color='blue')\n",
    "ax[1].set_xticks(N)\n",
    "ax[1].set_xticklabels(('MLP with Ada', 'MLP with RMSProp'))\n",
    "ax[1].set_title('Mean Absolute Error')\n",
    "\n",
    "plt.savefig('mlp_norm_err.png')\n",
    "plt.close()"
   ]
  },
  {
   "cell_type": "markdown",
   "metadata": {
    "slideshow": {
     "slide_type": "slide"
    }
   },
   "source": [
    "<img src=\"mlp_norm_err.png\" />"
   ]
  },
  {
   "cell_type": "markdown",
   "metadata": {
    "slideshow": {
     "slide_type": "skip"
    }
   },
   "source": [
    "Now it is ADa that is outperforming the RMSProp. You can clearly see how much a stable training has benefited the evaluation."
   ]
  },
  {
   "cell_type": "markdown",
   "metadata": {
    "slideshow": {
     "slide_type": "slide"
    }
   },
   "source": [
    "### Tensorboard\n",
    "\n",
    "One of the main benefits of using libraries like Tensorflow are the tools you can use with them and Tensorboard has turned into one of best tools in Data Science projects. \n",
    "\n",
    "Let us very briefly go through the usefulness of looking at Tensorboard. First in order to open the Tensorfboard, you need to run the following command:"
   ]
  },
  {
   "cell_type": "code",
   "execution_count": 47,
   "metadata": {
    "slideshow": {
     "slide_type": "slide"
    }
   },
   "outputs": [],
   "source": [
    "tb_callback = keras.callbacks.TensorBoard(log_dir='./board', \n",
    "                                         histogram_freq=10, write_grads=True, write_images=True)\n",
    "\n",
    "history_ada_tb = model_ada.fit(train_norm, y_train, epochs=EPOCHS,\n",
    "                    validation_split=0.2, verbose=0, write_grads=True,\n",
    "                    callbacks=[tb_callback])"
   ]
  },
  {
   "cell_type": "code",
   "execution_count": 48,
   "metadata": {
    "slideshow": {
     "slide_type": "fragment"
    }
   },
   "outputs": [
    {
     "name": "stdout",
     "output_type": "stream",
     "text": [
      "TensorBoard 1.5.1 at http://amir-ubuntu:6006 (Press CTRL+C to quit)\n",
      "\u001b[33mW1125 12:44:51.042277 Reloader tf_logging.py:114] Found more than one graph event per run, or there was a metagraph containing a graph_def, as well as one or more graph events.  Overwriting the graph with the newest event.\n",
      "\u001b[0m\u001b[33mW1125 12:44:51.042698 Reloader tf_logging.py:114] Found more than one metagraph event per run. Overwriting the metagraph with the newest event.\n",
      "\u001b[0m^C\n"
     ]
    }
   ],
   "source": [
    "!tensorboard --logdir=./board"
   ]
  },
  {
   "cell_type": "markdown",
   "metadata": {
    "slideshow": {
     "slide_type": "slide"
    }
   },
   "source": [
    "<img src=\"tb_1.png\" style=\"width:700px;height:500px\"/>"
   ]
  },
  {
   "cell_type": "markdown",
   "metadata": {
    "slideshow": {
     "slide_type": "slide"
    }
   },
   "source": [
    "<img src=\"tb_2.png\" style=\"width:700px;height:500px\"/>"
   ]
  },
  {
   "cell_type": "markdown",
   "metadata": {
    "slideshow": {
     "slide_type": "slide"
    }
   },
   "source": [
    "<img src=\"tb_3.png\" style=\"width:700px;height:500px\"/>"
   ]
  },
  {
   "cell_type": "markdown",
   "metadata": {
    "slideshow": {
     "slide_type": "slide"
    }
   },
   "source": [
    "<img src=\"tb_4.png\" style=\"width:700px;height:500px\"/>"
   ]
  },
  {
   "cell_type": "markdown",
   "metadata": {
    "slideshow": {
     "slide_type": "slide"
    }
   },
   "source": [
    "<img src=\"tb_5.png\" style=\"width:700px;height:500px\"/>"
   ]
  },
  {
   "cell_type": "markdown",
   "metadata": {
    "slideshow": {
     "slide_type": "slide"
    }
   },
   "source": [
    "**Final words about the modelling process**: Although we did not get to have the time to perform hyperparameter optimization on our Neural Network, we saw that Boosting methods had much lower error rates for the problem we are solving. It is always good to be subjective about which modelling techniques you use that **solves the problem**. Again, we cannot say this with complete assurance, because with enough hyper-parameter optimization for our Neural Network, we might be able to outperform the boosting methods we discussed today."
   ]
  },
  {
   "cell_type": "markdown",
   "metadata": {
    "slideshow": {
     "slide_type": "slide"
    }
   },
   "source": [
    "### Nump with GPU-acceleration\n",
    "\n",
    "In recent years, due to the huge growth in digitalization, a huge growth is digital footprint is visible. This increase has led to the use of larger computational powers to accelerate our computational power. These days, it is affordable to buy GPU units for our Personal Computers (PC) or even use cloud-based services. In this tutorial, I am using my PC's GPU unit.GPUs are all computational performances are very sensitive to the settings you are running them. You need to be at least careful regarding comparing approaches in at least three dimensions:\n",
    "\n",
    "* Operating System (OS)\n",
    "* Central processing unit (CPU) \n",
    "* Graphical processing unit (GPU)\n",
    "\n",
    "Let us go through ways to check the information we are using in this tutorial (please remember that these are Linux commands and they cannot be exactly running on other types of Operating Systems, however equivalent commands exist for any operating systems: "
   ]
  },
  {
   "cell_type": "markdown",
   "metadata": {
    "slideshow": {
     "slide_type": "slide"
    }
   },
   "source": [
    "#### Operating System (OS)"
   ]
  },
  {
   "cell_type": "code",
   "execution_count": 49,
   "metadata": {
    "slideshow": {
     "slide_type": "fragment"
    }
   },
   "outputs": [
    {
     "name": "stdout",
     "output_type": "stream",
     "text": [
      "No LSB modules are available.\r\n",
      "Distributor ID:\tUbuntu\r\n",
      "Description:\tUbuntu 18.04.1 LTS\r\n",
      "Release:\t18.04\r\n",
      "Codename:\tbionic\r\n"
     ]
    }
   ],
   "source": [
    "!lsb_release -a"
   ]
  },
  {
   "cell_type": "markdown",
   "metadata": {
    "slideshow": {
     "slide_type": "slide"
    }
   },
   "source": [
    "#### Central Processing Unit"
   ]
  },
  {
   "cell_type": "code",
   "execution_count": 50,
   "metadata": {
    "slideshow": {
     "slide_type": "fragment"
    }
   },
   "outputs": [
    {
     "name": "stdout",
     "output_type": "stream",
     "text": [
      "model name\t: Intel(R) Core(TM) i7-7700K CPU @ 4.20GHz\r\n"
     ]
    }
   ],
   "source": [
    "!cat /proc/cpuinfo  | grep 'name'| uniq"
   ]
  },
  {
   "cell_type": "markdown",
   "metadata": {
    "slideshow": {
     "slide_type": "slide"
    }
   },
   "source": [
    "#### Graphical Processing Unit\n",
    "\n",
    "In order to get information about your GPU, you can run the following command in UBUNTU:"
   ]
  },
  {
   "cell_type": "code",
   "execution_count": 51,
   "metadata": {
    "slideshow": {
     "slide_type": "fragment"
    }
   },
   "outputs": [
    {
     "name": "stdout",
     "output_type": "stream",
     "text": [
      "01:00.0 VGA compatible controller: NVIDIA Corporation GP104 [GeForce GTX 1080] (rev a1) (prog-if 00 [VGA controller])\r\n",
      "\tSubsystem: ASUSTeK Computer Inc. GP104 [GeForce GTX 1080]\r\n",
      "\tFlags: bus master, fast devsel, latency 0, IRQ 131\r\n",
      "\tMemory at de000000 (32-bit, non-prefetchable) [size=16M]\r\n",
      "\tMemory at c0000000 (64-bit, prefetchable) [size=256M]\r\n",
      "\tMemory at d0000000 (64-bit, prefetchable) [size=32M]\r\n",
      "\tI/O ports at e000 [size=128]\r\n",
      "\t[virtual] Expansion ROM at 000c0000 [disabled] [size=128K]\r\n",
      "\tCapabilities: <access denied>\r\n",
      "\tKernel driver in use: nvidia\r\n",
      "\tKernel modules: nvidiafb, nouveau, nvidia_drm, nvidia\r\n",
      "\r\n"
     ]
    }
   ],
   "source": [
    "!lspci  -v -s  $(lspci | grep ' VGA ' | cut -d\" \" -f 1)"
   ]
  },
  {
   "cell_type": "markdown",
   "metadata": {
    "slideshow": {
     "slide_type": "skip"
    }
   },
   "source": [
    "You also need to check your GPU drivers, especially CUDA for this tutorial: "
   ]
  },
  {
   "cell_type": "code",
   "execution_count": 52,
   "metadata": {
    "slideshow": {
     "slide_type": "fragment"
    }
   },
   "outputs": [
    {
     "name": "stdout",
     "output_type": "stream",
     "text": [
      "nvcc: NVIDIA (R) Cuda compiler driver\r\n",
      "Copyright (c) 2005-2017 NVIDIA Corporation\r\n",
      "Built on Fri_Sep__1_21:08:03_CDT_2017\r\n",
      "Cuda compilation tools, release 9.0, V9.0.176\r\n"
     ]
    }
   ],
   "source": [
    "! nvcc --version"
   ]
  },
  {
   "cell_type": "markdown",
   "metadata": {
    "slideshow": {
     "slide_type": "slide"
    }
   },
   "source": [
    "### Cupy"
   ]
  },
  {
   "cell_type": "markdown",
   "metadata": {
    "slideshow": {
     "slide_type": "skip"
    }
   },
   "source": [
    "CuPy is an open-source matrix library accelerated with NVIDIA CUDA. It also uses CUDA-related libraries including cuBLAS, cuDNN, cuRand, cuSolver, cuSPARSE, cuFFT and NCCL to make full use of the GPU architecture. "
   ]
  },
  {
   "cell_type": "code",
   "execution_count": 53,
   "metadata": {
    "slideshow": {
     "slide_type": "slide"
    }
   },
   "outputs": [
    {
     "name": "stdout",
     "output_type": "stream",
     "text": [
      "Requirement already satisfied: cupy-cuda90 in /home/amir/anaconda3/envs/tf/lib/python3.5/site-packages (5.0.0)\n",
      "Requirement already satisfied: numpy>=1.9.0 in /home/amir/anaconda3/envs/tf/lib/python3.5/site-packages (from cupy-cuda90) (1.14.2)\n",
      "Requirement already satisfied: six>=1.9.0 in /home/amir/anaconda3/envs/tf/lib/python3.5/site-packages (from cupy-cuda90) (1.11.0)\n",
      "Requirement already satisfied: fastrlock>=0.3 in /home/amir/anaconda3/envs/tf/lib/python3.5/site-packages (from cupy-cuda90) (0.4)\n",
      "\u001b[33mYou are using pip version 18.0, however version 18.1 is available.\n",
      "You should consider upgrading via the 'pip install --upgrade pip' command.\u001b[0m\n"
     ]
    }
   ],
   "source": [
    "!pip install cupy-cuda90"
   ]
  },
  {
   "cell_type": "code",
   "execution_count": 78,
   "metadata": {
    "slideshow": {
     "slide_type": "slide"
    }
   },
   "outputs": [],
   "source": [
    "import numpy as np\n",
    "import cupy as cp"
   ]
  },
  {
   "cell_type": "markdown",
   "metadata": {
    "slideshow": {
     "slide_type": "slide"
    }
   },
   "source": [
    "### Benchmarks: Numpy vs. Cupy\n",
    "\n",
    "### Matrix Multiplication\n",
    "\n",
    "Let us build a case first for GPU enabled computation. Imagne you have two matrices and you would like to perform matrix multiplication, as we increase the size of the dimensions, we start to hit an issue: "
   ]
  },
  {
   "cell_type": "code",
   "execution_count": 79,
   "metadata": {
    "slideshow": {
     "slide_type": "slide"
    }
   },
   "outputs": [
    {
     "name": "stdout",
     "output_type": "stream",
     "text": [
      "Calcualting a Matrix for dim: 20\n",
      "Calcualting a Matrix for dim: 50\n",
      "Calcualting a Matrix for dim: 100\n",
      "Calcualting a Matrix for dim: 500\n",
      "Calcualting a Matrix for dim: 1000\n",
      "Calcualting a Matrix for dim: 2000\n",
      "Calcualting a Matrix for dim: 5000\n",
      "Calcualting a Matrix for dim: 8000\n",
      "Calcualting a Matrix for dim: 10000\n",
      "Calcualting a Matrix for dim: 20000\n",
      "Calcualting a Matrix for dim: 50000\n",
      "Out of memory\n"
     ]
    }
   ],
   "source": [
    "import time\n",
    "\n",
    "time_per_dimension_cpu = {}\n",
    "dimensions = [20, 50, 100, 500, 1000, 2000, 5000, 8000, 10000, 20000, 50000]\n",
    "\n",
    "try:\n",
    "    for dim in dimensions: \n",
    "        print('Calcualting a Matrix for dim: {}'.format(dim))\n",
    "    \n",
    "        start = time.time()\n",
    "    \n",
    "        a = np.random.rand(dim, dim)\n",
    "        b = np.random.rand(dim, dim)\n",
    "        c = np.matmul(a, b)\n",
    "    \n",
    "        end = time.time()\n",
    "    \n",
    "        # Free up variables for garbage collector\n",
    "        a = None\n",
    "        b = None\n",
    "        c = None\n",
    "    \n",
    "        time_per_dimension_cpu[dim] = end - start\n",
    "except MemoryError:\n",
    "    print('Out of memory')"
   ]
  },
  {
   "cell_type": "markdown",
   "metadata": {
    "slideshow": {
     "slide_type": "skip"
    }
   },
   "source": [
    "A MemoryError hits us at 50000 as our initial dimension. Let us run the code once again with less dimensions. Let us look at the result: "
   ]
  },
  {
   "cell_type": "code",
   "execution_count": 80,
   "metadata": {
    "slideshow": {
     "slide_type": "slide"
    }
   },
   "outputs": [
    {
     "data": {
      "text/plain": [
       "{20: 0.000213623046875,\n",
       " 50: 0.00024247169494628906,\n",
       " 100: 0.002256631851196289,\n",
       " 500: 0.01295614242553711,\n",
       " 1000: 0.07496476173400879,\n",
       " 2000: 0.41533827781677246,\n",
       " 5000: 5.028965711593628,\n",
       " 8000: 19.701995611190796,\n",
       " 10000: 36.991708755493164,\n",
       " 20000: 284.7675952911377}"
      ]
     },
     "execution_count": 80,
     "metadata": {},
     "output_type": "execute_result"
    }
   ],
   "source": [
    "time_per_dimension_cpu"
   ]
  },
  {
   "cell_type": "markdown",
   "metadata": {
    "slideshow": {
     "slide_type": "slide"
    }
   },
   "source": [
    "### Cupy"
   ]
  },
  {
   "cell_type": "code",
   "execution_count": 81,
   "metadata": {
    "slideshow": {
     "slide_type": "fragment"
    }
   },
   "outputs": [
    {
     "name": "stdout",
     "output_type": "stream",
     "text": [
      "Calcualting a Matrix for dim: 20\n",
      "Calcualting a Matrix for dim: 50\n",
      "Calcualting a Matrix for dim: 100\n",
      "Calcualting a Matrix for dim: 500\n",
      "Calcualting a Matrix for dim: 1000\n",
      "Calcualting a Matrix for dim: 2000\n",
      "Calcualting a Matrix for dim: 5000\n",
      "Out of memory\n"
     ]
    }
   ],
   "source": [
    "import time\n",
    "\n",
    "time_per_dimension_gpu = {}\n",
    "dimensions = [20, 50, 100, 500, 1000, 2000, 5000, 8000, 10000, 20000]\n",
    "\n",
    "try:\n",
    "    for dim in dimensions: \n",
    "        print('Calcualting a Matrix for dim: {}'.format(dim))\n",
    "\n",
    "        start = time.time()\n",
    "\n",
    "        a = cp.random.rand(dim, dim)\n",
    "        b = cp.random.rand(dim, dim)\n",
    "        c = cp.matmul(a, b)\n",
    "\n",
    "        end = time.time()\n",
    "\n",
    "        # Free up variables for garbage collector\n",
    "        a = None\n",
    "        b = None\n",
    "        c = None\n",
    "\n",
    "        time_per_dimension_gpu[dim] = end - start\n",
    "except MemoryError:\n",
    "    print('Out of memory')"
   ]
  },
  {
   "cell_type": "markdown",
   "metadata": {
    "slideshow": {
     "slide_type": "skip"
    }
   },
   "source": [
    "Okay so now we have come to realize one drawback of using GPU computations. In the CPU computation phase, after a MemoryError happened after 50000 as our initial dimension however in GPU computation with Cupy, due to the fact that GPUs have less memory, the OutOfMemoryError is happening at 2000. This is something that you need to know, although CPU compuations can be slower, CPU can have access to more memory, since they are cheaper and much more accessible. "
   ]
  },
  {
   "cell_type": "markdown",
   "metadata": {
    "slideshow": {
     "slide_type": "skip"
    }
   },
   "source": [
    "Let us run the code with less dimensions:"
   ]
  },
  {
   "cell_type": "code",
   "execution_count": 83,
   "metadata": {
    "slideshow": {
     "slide_type": "slide"
    }
   },
   "outputs": [],
   "source": [
    "import matplotlib.pyplot as plt\n",
    "import pandas as pd \n",
    "\n",
    "fig, axs = plt.subplots(1, 1, figsize=(11, 9), sharey=True)\n",
    "\n",
    "axs.scatter(time_per_dimension_cpu.keys(), time_per_dimension_cpu.values(), alpha=0.7, label='CPU')\n",
    "axs.scatter(time_per_dimension_gpu.keys(), time_per_dimension_gpu.values(), alpha=0.7, label='GPU')\n",
    "\n",
    "axs.legend()\n",
    "\n",
    "axs.set_xlabel('Matrix Multiplication Dimensions')\n",
    "axs.set_ylabel('Time (in seconds)')\n",
    "\n",
    "plt.savefig('matrix_multiply.png')\n",
    "plt.close()"
   ]
  },
  {
   "cell_type": "markdown",
   "metadata": {
    "slideshow": {
     "slide_type": "slide"
    }
   },
   "source": [
    "<img src=\"matrix_multiply.png\" />"
   ]
  },
  {
   "cell_type": "markdown",
   "metadata": {
    "slideshow": {
     "slide_type": "slide"
    }
   },
   "source": [
    "### Performing 2-D SVD\n",
    "\n",
    "Another benchmark we are going to cover is to calculate the Singular Value Decomposition of a matrix. Here we go:"
   ]
  },
  {
   "cell_type": "code",
   "execution_count": 85,
   "metadata": {
    "slideshow": {
     "slide_type": "fragment"
    }
   },
   "outputs": [
    {
     "name": "stdout",
     "output_type": "stream",
     "text": [
      "Calcualting a Matrix for dim: 20\n",
      "Calcualting a Matrix for dim: 50\n",
      "Calcualting a Matrix for dim: 100\n",
      "Calcualting a Matrix for dim: 500\n",
      "Calcualting a Matrix for dim: 1000\n",
      "Calcualting a Matrix for dim: 2000\n",
      "Calcualting a Matrix for dim: 5000\n"
     ]
    }
   ],
   "source": [
    "import time\n",
    "\n",
    "time_per_dimension_cpu_svd = {}\n",
    "dimensions = [20, 50, 100, 500, 1000, 2000, 5000]\n",
    "\n",
    "try:\n",
    "    for dim in dimensions: \n",
    "        print('Calcualting a Matrix for dim: {}'.format(dim))\n",
    "    \n",
    "        start = time.time()\n",
    "        \n",
    "        X = np.random.random((dim, dim))\n",
    "        P, D, Q = np.linalg.svd(X, full_matrices=False)\n",
    "    \n",
    "        end = time.time()\n",
    "    \n",
    "        # Free up variables for garbage collector\n",
    "        X = None\n",
    "        P = None\n",
    "        D = None\n",
    "        Q = None\n",
    "        \n",
    "        time_per_dimension_cpu_svd[dim] = end - start\n",
    "except MemoryError:\n",
    "    print('Out of memory')"
   ]
  },
  {
   "cell_type": "code",
   "execution_count": 86,
   "metadata": {
    "slideshow": {
     "slide_type": "slide"
    }
   },
   "outputs": [
    {
     "data": {
      "text/plain": [
       "{20: 0.0004494190216064453,\n",
       " 50: 0.0018038749694824219,\n",
       " 100: 0.004988670349121094,\n",
       " 500: 0.1000370979309082,\n",
       " 1000: 0.4502885341644287,\n",
       " 2000: 3.4121453762054443,\n",
       " 5000: 43.35667538642883}"
      ]
     },
     "execution_count": 86,
     "metadata": {},
     "output_type": "execute_result"
    }
   ],
   "source": [
    "time_per_dimension_cpu_svd"
   ]
  },
  {
   "cell_type": "code",
   "execution_count": 90,
   "metadata": {
    "slideshow": {
     "slide_type": "slide"
    }
   },
   "outputs": [
    {
     "name": "stdout",
     "output_type": "stream",
     "text": [
      "Calcualting a Matrix for dim: 20\n",
      "Calcualting a Matrix for dim: 50\n",
      "Calcualting a Matrix for dim: 100\n",
      "Calcualting a Matrix for dim: 500\n",
      "Calcualting a Matrix for dim: 1000\n",
      "Calcualting a Matrix for dim: 2000\n",
      "Out of memory\n"
     ]
    }
   ],
   "source": [
    "import time\n",
    "\n",
    "time_per_dimension_gpu_svd = {}\n",
    "dimensions = [20, 50, 100, 500, 1000, 2000, 5000]\n",
    "\n",
    "try:\n",
    "    for dim in dimensions: \n",
    "        print('Calcualting a Matrix for dim: {}'.format(dim))\n",
    "    \n",
    "        start = time.time()\n",
    "        \n",
    "        X = cp.random.random((dim, dim))\n",
    "        P, D, Q = cp.linalg.svd(X, full_matrices=False)\n",
    "    \n",
    "        end = time.time()\n",
    "    \n",
    "        # Free up variables for garbage collector\n",
    "        X = None\n",
    "        P = None\n",
    "        D = None\n",
    "        Q = None\n",
    "        \n",
    "        time_per_dimension_gpu_svd[dim] = end - start\n",
    "except MemoryError:\n",
    "    print('Out of memory')"
   ]
  },
  {
   "cell_type": "code",
   "execution_count": 93,
   "metadata": {
    "slideshow": {
     "slide_type": "slide"
    }
   },
   "outputs": [],
   "source": [
    "import pandas as pd \n",
    "\n",
    "fig, axs = plt.subplots(1, 1, figsize=(11, 9), sharey=True)\n",
    "\n",
    "axs.scatter(time_per_dimension_cpu_svd.keys(), time_per_dimension_cpu_svd.values(), alpha=0.7, label='CPU')\n",
    "axs.scatter(time_per_dimension_gpu_svd.keys(), time_per_dimension_gpu_svd.values(), alpha=0.7, label='GPU')\n",
    "\n",
    "axs.legend()\n",
    "\n",
    "axs.set_xlabel('2-D SVD Dimensions')\n",
    "axs.set_ylabel('Time (Seconds)')\n",
    "\n",
    "plt.savefig('matrix_svd.png')\n",
    "plt.close()"
   ]
  },
  {
   "cell_type": "markdown",
   "metadata": {
    "slideshow": {
     "slide_type": "slide"
    }
   },
   "source": [
    "<img src=\"matrix_svd.png\" />"
   ]
  },
  {
   "cell_type": "markdown",
   "metadata": {
    "slideshow": {
     "slide_type": "slide"
    }
   },
   "source": [
    "Although in both cases GPUs outperform CPUs in speed, there is no general rule about whether GPUs are always more efficient in computation than CPUs. It is always to understand the level of the work that can be parallelized in GPUs based on their memory limitations, in order to decide whether a GPU is needed or a CPU is enough.\n",
    "\n",
    "\n",
    "### Thank you!"
   ]
  }
 ],
 "metadata": {
  "celltoolbar": "Slideshow",
  "kernelspec": {
   "display_name": "Python (tf)",
   "language": "python",
   "name": "tf"
  },
  "language_info": {
   "codemirror_mode": {
    "name": "ipython",
    "version": 3
   },
   "file_extension": ".py",
   "mimetype": "text/x-python",
   "name": "python",
   "nbconvert_exporter": "python",
   "pygments_lexer": "ipython3",
   "version": "3.5.5"
  }
 },
 "nbformat": 4,
 "nbformat_minor": 2
}
