{
 "cells": [
  {
   "cell_type": "markdown",
   "metadata": {},
   "source": [
    "## Libraries\n",
    "\n",
    "### Programming for Data Science (ID2214)\n",
    "\n",
    "### Amir H. Rahnama (Twitter: @_ambodi)\n",
    "\n",
    "#### Ph.D. Candidate \n",
    "\n",
    "\n",
    "<img src=\"https://www.kth.se/polopoly_fs/1.77259!/KTH_Logotyp_RGB_2013-2.svg\" alt=\"kth_logo\" style=\"width:200px;\"/>"
   ]
  },
  {
   "cell_type": "markdown",
   "metadata": {},
   "source": [
    "### Preface\n",
    "\n",
    "In this lecture, we will be focusing on the use of libraries in our data science and Machine Learning projects. Just like the last lecture, our focus will be to solve the whole problem from the data gathering until modelling, so that you can have a grasp of how a *semi* real-world project works. "
   ]
  },
  {
   "cell_type": "markdown",
   "metadata": {},
   "source": [
    "The *outline* of this lecture are: \n",
    "* Use GPUs in order to accelerate reading/manipulating/modelling of big chunks of data\n",
    "    * Computation using GPU versions of Numpy and Pandas\n",
    "    * Benchmarks on CPU/GPU version\n",
    "* A brief introduction to Artificial Neural Networks\n",
    "    * What is an Artificial Neural Network? \n",
    "    * Training with Backpropagation\n",
    "* Understanding how to wortk with Tensorflow and Keras\n",
    "    * Modelling\n",
    "    * Hyper-parameter Optimization\n",
    "* The Magix of XGBoost\n",
    "* How does XGBoost compare to a Multi-layer Perceptron? "
   ]
  },
  {
   "cell_type": "markdown",
   "metadata": {},
   "source": [
    "### GPU-acceleration\n",
    "\n",
    "In recent years, due to the huge growth in digitalizatio, a huge growth is digital footprint is visible. This increase has led to the use of larger computational powers to accelerate our computational power. These days, it is affordable to buy GPU units for our Personal Computers (PC) or even use cloud-based services. In this tutorial, I am using my PC's GPU unit.GPUs are all computational performances are very sensitive to the settings you are running them. You need to be at least careful regarding comparing approaches in at least three dimensions:\n",
    "\n",
    "* Operating System (OS)\n",
    "* Central processing unit (CPU) \n",
    "* Graphical processing unit (GPU)\n",
    "\n",
    "Let us go through ways to check the information we are using in this tutorial: "
   ]
  },
  {
   "cell_type": "markdown",
   "metadata": {},
   "source": [
    "#### Operating System (OS)"
   ]
  },
  {
   "cell_type": "code",
   "execution_count": 1,
   "metadata": {},
   "outputs": [
    {
     "name": "stdout",
     "output_type": "stream",
     "text": [
      "No LSB modules are available.\r\n",
      "Distributor ID:\tUbuntu\r\n",
      "Description:\tUbuntu 18.04.1 LTS\r\n",
      "Release:\t18.04\r\n",
      "Codename:\tbionic\r\n"
     ]
    }
   ],
   "source": [
    "!lsb_release -a"
   ]
  },
  {
   "cell_type": "markdown",
   "metadata": {},
   "source": [
    "#### Central Processing Unit"
   ]
  },
  {
   "cell_type": "code",
   "execution_count": 2,
   "metadata": {},
   "outputs": [
    {
     "name": "stdout",
     "output_type": "stream",
     "text": [
      "model name\t: Intel(R) Core(TM) i7-7700K CPU @ 4.20GHz\r\n"
     ]
    }
   ],
   "source": [
    "!cat /proc/cpuinfo  | grep 'name'| uniq"
   ]
  },
  {
   "cell_type": "markdown",
   "metadata": {},
   "source": [
    "#### Graphical Processing Unit\n",
    "\n",
    "In order to get information about your GPU, you can run the following command in UBUNTU:"
   ]
  },
  {
   "cell_type": "code",
   "execution_count": 3,
   "metadata": {},
   "outputs": [
    {
     "name": "stdout",
     "output_type": "stream",
     "text": [
      "01:00.0 VGA compatible controller: NVIDIA Corporation GP104 [GeForce GTX 1080] (rev a1) (prog-if 00 [VGA controller])\r\n",
      "\tSubsystem: ASUSTeK Computer Inc. GP104 [GeForce GTX 1080]\r\n",
      "\tFlags: bus master, fast devsel, latency 0, IRQ 132\r\n",
      "\tMemory at de000000 (32-bit, non-prefetchable) [size=16M]\r\n",
      "\tMemory at c0000000 (64-bit, prefetchable) [size=256M]\r\n",
      "\tMemory at d0000000 (64-bit, prefetchable) [size=32M]\r\n",
      "\tI/O ports at e000 [size=128]\r\n",
      "\t[virtual] Expansion ROM at 000c0000 [disabled] [size=128K]\r\n",
      "\tCapabilities: <access denied>\r\n",
      "\tKernel driver in use: nvidia\r\n",
      "\tKernel modules: nvidiafb, nouveau, nvidia_drm, nvidia\r\n",
      "\r\n"
     ]
    }
   ],
   "source": [
    "!lspci  -v -s  $(lspci | grep ' VGA ' | cut -d\" \" -f 1)"
   ]
  },
  {
   "cell_type": "markdown",
   "metadata": {},
   "source": [
    "You also need to check your GPU drivers, especially CUDA for this tutorial: "
   ]
  },
  {
   "cell_type": "code",
   "execution_count": 4,
   "metadata": {},
   "outputs": [
    {
     "name": "stdout",
     "output_type": "stream",
     "text": [
      "nvcc: NVIDIA (R) Cuda compiler driver\r\n",
      "Copyright (c) 2005-2017 NVIDIA Corporation\r\n",
      "Built on Fri_Sep__1_21:08:03_CDT_2017\r\n",
      "Cuda compilation tools, release 9.0, V9.0.176\r\n"
     ]
    }
   ],
   "source": [
    "! nvcc --version"
   ]
  },
  {
   "cell_type": "markdown",
   "metadata": {},
   "source": [
    "### Numba"
   ]
  },
  {
   "cell_type": "markdown",
   "metadata": {},
   "source": []
  },
  {
   "cell_type": "markdown",
   "metadata": {},
   "source": [
    "### Cupy"
   ]
  },
  {
   "cell_type": "markdown",
   "metadata": {},
   "source": [
    "CuPy is an open-source matrix library accelerated with NVIDIA CUDA. It also uses CUDA-related libraries including cuBLAS, cuDNN, cuRand, cuSolver, cuSPARSE, cuFFT and NCCL to make full use of the GPU architecture. "
   ]
  },
  {
   "cell_type": "code",
   "execution_count": 5,
   "metadata": {},
   "outputs": [
    {
     "name": "stdout",
     "output_type": "stream",
     "text": [
      "Requirement already satisfied: cupy-cuda90 in /home/amir/anaconda3/envs/tf/lib/python3.5/site-packages (5.0.0)\n",
      "Requirement already satisfied: fastrlock>=0.3 in /home/amir/anaconda3/envs/tf/lib/python3.5/site-packages (from cupy-cuda90) (0.4)\n",
      "Requirement already satisfied: six>=1.9.0 in /home/amir/anaconda3/envs/tf/lib/python3.5/site-packages (from cupy-cuda90) (1.11.0)\n",
      "Requirement already satisfied: numpy>=1.9.0 in /home/amir/anaconda3/envs/tf/lib/python3.5/site-packages (from cupy-cuda90) (1.14.2)\n",
      "\u001b[33mYou are using pip version 18.0, however version 18.1 is available.\n",
      "You should consider upgrading via the 'pip install --upgrade pip' command.\u001b[0m\n"
     ]
    }
   ],
   "source": [
    "!pip install cupy-cuda90"
   ]
  },
  {
   "cell_type": "code",
   "execution_count": 6,
   "metadata": {},
   "outputs": [],
   "source": [
    "import numpy as np\n",
    "import cupy as cp"
   ]
  },
  {
   "cell_type": "markdown",
   "metadata": {},
   "source": [
    "#### Benchmarks: Numpy vs. Cupy"
   ]
  },
  {
   "cell_type": "markdown",
   "metadata": {},
   "source": [
    "#### Matrix Multiplication"
   ]
  },
  {
   "cell_type": "markdown",
   "metadata": {},
   "source": [
    "Let us build a case first for GPU enabled computation. Imagne you have two matrices and you would like to perform matrix multiplication, as we increase the size of the dimensions, we start to hit an issue: "
   ]
  },
  {
   "cell_type": "code",
   "execution_count": 7,
   "metadata": {},
   "outputs": [
    {
     "name": "stdout",
     "output_type": "stream",
     "text": [
      "Calcualting a Matrix for dim: 20\n",
      "Calcualting a Matrix for dim: 50\n",
      "Calcualting a Matrix for dim: 100\n",
      "Calcualting a Matrix for dim: 500\n",
      "Calcualting a Matrix for dim: 1000\n",
      "Calcualting a Matrix for dim: 2000\n",
      "Calcualting a Matrix for dim: 5000\n",
      "Calcualting a Matrix for dim: 8000\n",
      "Calcualting a Matrix for dim: 10000\n",
      "Calcualting a Matrix for dim: 20000\n",
      "Calcualting a Matrix for dim: 50000\n"
     ]
    },
    {
     "ename": "MemoryError",
     "evalue": "",
     "output_type": "error",
     "traceback": [
      "\u001b[0;31m---------------------------------------------------------------------------\u001b[0m",
      "\u001b[0;31mMemoryError\u001b[0m                               Traceback (most recent call last)",
      "\u001b[0;32m<ipython-input-7-80b3057158d5>\u001b[0m in \u001b[0;36m<module>\u001b[0;34m()\u001b[0m\n\u001b[1;32m      9\u001b[0m     \u001b[0mstart\u001b[0m \u001b[0;34m=\u001b[0m \u001b[0mtime\u001b[0m\u001b[0;34m.\u001b[0m\u001b[0mtime\u001b[0m\u001b[0;34m(\u001b[0m\u001b[0;34m)\u001b[0m\u001b[0;34m\u001b[0m\u001b[0m\n\u001b[1;32m     10\u001b[0m \u001b[0;34m\u001b[0m\u001b[0m\n\u001b[0;32m---> 11\u001b[0;31m     \u001b[0ma\u001b[0m \u001b[0;34m=\u001b[0m \u001b[0mnp\u001b[0m\u001b[0;34m.\u001b[0m\u001b[0mrandom\u001b[0m\u001b[0;34m.\u001b[0m\u001b[0mrand\u001b[0m\u001b[0;34m(\u001b[0m\u001b[0mdim\u001b[0m\u001b[0;34m,\u001b[0m \u001b[0mdim\u001b[0m\u001b[0;34m)\u001b[0m\u001b[0;34m\u001b[0m\u001b[0m\n\u001b[0m\u001b[1;32m     12\u001b[0m     \u001b[0mb\u001b[0m \u001b[0;34m=\u001b[0m \u001b[0mnp\u001b[0m\u001b[0;34m.\u001b[0m\u001b[0mrandom\u001b[0m\u001b[0;34m.\u001b[0m\u001b[0mrand\u001b[0m\u001b[0;34m(\u001b[0m\u001b[0mdim\u001b[0m\u001b[0;34m,\u001b[0m \u001b[0mdim\u001b[0m\u001b[0;34m)\u001b[0m\u001b[0;34m\u001b[0m\u001b[0m\n\u001b[1;32m     13\u001b[0m     \u001b[0mc\u001b[0m \u001b[0;34m=\u001b[0m \u001b[0mnp\u001b[0m\u001b[0;34m.\u001b[0m\u001b[0mmatmul\u001b[0m\u001b[0;34m(\u001b[0m\u001b[0ma\u001b[0m\u001b[0;34m,\u001b[0m \u001b[0mb\u001b[0m\u001b[0;34m)\u001b[0m\u001b[0;34m\u001b[0m\u001b[0m\n",
      "\u001b[0;32mmtrand.pyx\u001b[0m in \u001b[0;36mmtrand.RandomState.rand\u001b[0;34m()\u001b[0m\n",
      "\u001b[0;32mmtrand.pyx\u001b[0m in \u001b[0;36mmtrand.RandomState.random_sample\u001b[0;34m()\u001b[0m\n",
      "\u001b[0;32mmtrand.pyx\u001b[0m in \u001b[0;36mmtrand.cont0_array\u001b[0;34m()\u001b[0m\n",
      "\u001b[0;31mMemoryError\u001b[0m: "
     ]
    }
   ],
   "source": [
    "import time\n",
    "\n",
    "time_per_dimension_cpu = {}\n",
    "dimensions = [20, 50, 100, 500, 1000, 2000, 5000, 8000, 10000, 20000, 50000]\n",
    "\n",
    "for dim in dimensions: \n",
    "    print('Calcualting a Matrix for dim: {}'.format(dim))\n",
    "    \n",
    "    start = time.time()\n",
    "    \n",
    "    a = np.random.rand(dim, dim)\n",
    "    b = np.random.rand(dim, dim)\n",
    "    c = np.matmul(a, b)\n",
    "    \n",
    "    end = time.time()\n",
    "    \n",
    "    # Free up variables for garbage collector\n",
    "    a = None\n",
    "    b = None\n",
    "    c = None\n",
    "    \n",
    "    time_per_dimension_cpu[dim] = end - start"
   ]
  },
  {
   "cell_type": "markdown",
   "metadata": {},
   "source": [
    "A MemoryError hits us at 50000 as our initial dimension. Let us run the code once again with less dimensions: "
   ]
  },
  {
   "cell_type": "code",
   "execution_count": 8,
   "metadata": {},
   "outputs": [
    {
     "name": "stdout",
     "output_type": "stream",
     "text": [
      "Calcualting a Matrix for dim: 20\n",
      "Calcualting a Matrix for dim: 50\n",
      "Calcualting a Matrix for dim: 100\n",
      "Calcualting a Matrix for dim: 500\n",
      "Calcualting a Matrix for dim: 1000\n",
      "Calcualting a Matrix for dim: 2000\n",
      "Calcualting a Matrix for dim: 5000\n",
      "Calcualting a Matrix for dim: 8000\n",
      "Calcualting a Matrix for dim: 10000\n",
      "Calcualting a Matrix for dim: 20000\n"
     ]
    }
   ],
   "source": [
    "import time\n",
    "\n",
    "time_per_dimension_cpu = {}\n",
    "dimensions = [20, 50, 100, 500, 1000, 2000, 5000, 8000, 10000, 20000]\n",
    "\n",
    "for dim in dimensions: \n",
    "    print('Calcualting a Matrix for dim: {}'.format(dim))\n",
    "    \n",
    "    start = time.time()\n",
    "    \n",
    "    a = np.random.rand(dim, dim)\n",
    "    b = np.random.rand(dim, dim)\n",
    "    c = np.matmul(a, b)\n",
    "    \n",
    "    end = time.time()\n",
    "    \n",
    "    # Free up variables for garbage collector\n",
    "    a = None\n",
    "    b = None\n",
    "    c = None\n",
    "    \n",
    "    time_per_dimension_cpu[dim] = end - start"
   ]
  },
  {
   "cell_type": "markdown",
   "metadata": {},
   "source": [
    "Let us look at the result:"
   ]
  },
  {
   "cell_type": "code",
   "execution_count": 10,
   "metadata": {},
   "outputs": [
    {
     "data": {
      "text/plain": [
       "{20: 0.0004489421844482422,\n",
       " 50: 0.0003826618194580078,\n",
       " 100: 0.004021406173706055,\n",
       " 500: 0.021151065826416016,\n",
       " 1000: 0.06168174743652344,\n",
       " 2000: 0.3888664245605469,\n",
       " 5000: 5.342170715332031,\n",
       " 8000: 19.003090620040894,\n",
       " 10000: 36.48970103263855,\n",
       " 20000: 290.3970561027527}"
      ]
     },
     "execution_count": 10,
     "metadata": {},
     "output_type": "execute_result"
    }
   ],
   "source": [
    "time_per_dimension_cpu"
   ]
  },
  {
   "cell_type": "markdown",
   "metadata": {},
   "source": [
    "### Cupy"
   ]
  },
  {
   "cell_type": "code",
   "execution_count": 11,
   "metadata": {},
   "outputs": [
    {
     "name": "stdout",
     "output_type": "stream",
     "text": [
      "Calcualting a Matrix for dim: 20\n",
      "Calcualting a Matrix for dim: 50\n",
      "Calcualting a Matrix for dim: 100\n",
      "Calcualting a Matrix for dim: 500\n",
      "Calcualting a Matrix for dim: 1000\n",
      "Calcualting a Matrix for dim: 2000\n",
      "Calcualting a Matrix for dim: 5000\n",
      "Calcualting a Matrix for dim: 8000\n",
      "Calcualting a Matrix for dim: 10000\n",
      "Calcualting a Matrix for dim: 20000\n"
     ]
    },
    {
     "ename": "OutOfMemoryError",
     "evalue": "out of memory to allocate 3200000000 bytes (total 9600000000 bytes)",
     "output_type": "error",
     "traceback": [
      "\u001b[0;31m---------------------------------------------------------------------------\u001b[0m",
      "\u001b[0;31mOutOfMemoryError\u001b[0m                          Traceback (most recent call last)",
      "\u001b[0;32m<ipython-input-11-e5d6b82983c2>\u001b[0m in \u001b[0;36m<module>\u001b[0;34m()\u001b[0m\n\u001b[1;32m     11\u001b[0m     \u001b[0ma\u001b[0m \u001b[0;34m=\u001b[0m \u001b[0mcp\u001b[0m\u001b[0;34m.\u001b[0m\u001b[0mrandom\u001b[0m\u001b[0;34m.\u001b[0m\u001b[0mrand\u001b[0m\u001b[0;34m(\u001b[0m\u001b[0mdim\u001b[0m\u001b[0;34m,\u001b[0m \u001b[0mdim\u001b[0m\u001b[0;34m)\u001b[0m\u001b[0;34m\u001b[0m\u001b[0m\n\u001b[1;32m     12\u001b[0m     \u001b[0mb\u001b[0m \u001b[0;34m=\u001b[0m \u001b[0mcp\u001b[0m\u001b[0;34m.\u001b[0m\u001b[0mrandom\u001b[0m\u001b[0;34m.\u001b[0m\u001b[0mrand\u001b[0m\u001b[0;34m(\u001b[0m\u001b[0mdim\u001b[0m\u001b[0;34m,\u001b[0m \u001b[0mdim\u001b[0m\u001b[0;34m)\u001b[0m\u001b[0;34m\u001b[0m\u001b[0m\n\u001b[0;32m---> 13\u001b[0;31m     \u001b[0mc\u001b[0m \u001b[0;34m=\u001b[0m \u001b[0mcp\u001b[0m\u001b[0;34m.\u001b[0m\u001b[0mmatmul\u001b[0m\u001b[0;34m(\u001b[0m\u001b[0ma\u001b[0m\u001b[0;34m,\u001b[0m \u001b[0mb\u001b[0m\u001b[0;34m)\u001b[0m\u001b[0;34m\u001b[0m\u001b[0m\n\u001b[0m\u001b[1;32m     14\u001b[0m \u001b[0;34m\u001b[0m\u001b[0m\n\u001b[1;32m     15\u001b[0m     \u001b[0mend\u001b[0m \u001b[0;34m=\u001b[0m \u001b[0mtime\u001b[0m\u001b[0;34m.\u001b[0m\u001b[0mtime\u001b[0m\u001b[0;34m(\u001b[0m\u001b[0;34m)\u001b[0m\u001b[0;34m\u001b[0m\u001b[0m\n",
      "\u001b[0;32mcupy/core/core.pyx\u001b[0m in \u001b[0;36mcupy.core.core.matmul\u001b[0;34m()\u001b[0m\n",
      "\u001b[0;32mcupy/core/core.pyx\u001b[0m in \u001b[0;36mcupy.core.core.matmul\u001b[0;34m()\u001b[0m\n",
      "\u001b[0;32mcupy/core/core.pyx\u001b[0m in \u001b[0;36mcupy.core.core.ndarray.__init__\u001b[0;34m()\u001b[0m\n",
      "\u001b[0;32mcupy/cuda/memory.pyx\u001b[0m in \u001b[0;36mcupy.cuda.memory.alloc\u001b[0;34m()\u001b[0m\n",
      "\u001b[0;32mcupy/cuda/memory.pyx\u001b[0m in \u001b[0;36mcupy.cuda.memory.MemoryPool.malloc\u001b[0;34m()\u001b[0m\n",
      "\u001b[0;32mcupy/cuda/memory.pyx\u001b[0m in \u001b[0;36mcupy.cuda.memory.MemoryPool.malloc\u001b[0;34m()\u001b[0m\n",
      "\u001b[0;32mcupy/cuda/memory.pyx\u001b[0m in \u001b[0;36mcupy.cuda.memory.SingleDeviceMemoryPool.malloc\u001b[0;34m()\u001b[0m\n",
      "\u001b[0;32mcupy/cuda/memory.pyx\u001b[0m in \u001b[0;36mcupy.cuda.memory.SingleDeviceMemoryPool._malloc\u001b[0;34m()\u001b[0m\n",
      "\u001b[0;32mcupy/cuda/memory.pyx\u001b[0m in \u001b[0;36mcupy.cuda.memory._try_malloc\u001b[0;34m()\u001b[0m\n",
      "\u001b[0;31mOutOfMemoryError\u001b[0m: out of memory to allocate 3200000000 bytes (total 9600000000 bytes)"
     ]
    }
   ],
   "source": [
    "import time\n",
    "\n",
    "time_per_dimension_gpu = {}\n",
    "dimensions = [20, 50, 100, 500, 1000, 2000, 5000, 8000, 10000, 20000]\n",
    "\n",
    "for dim in dimensions: \n",
    "    print('Calcualting a Matrix for dim: {}'.format(dim))\n",
    "    \n",
    "    start = time.time()\n",
    "    \n",
    "    a = cp.random.rand(dim, dim)\n",
    "    b = cp.random.rand(dim, dim)\n",
    "    c = cp.matmul(a, b)\n",
    "    \n",
    "    end = time.time()\n",
    "    \n",
    "    # Free up variables for garbage collector\n",
    "    a = None\n",
    "    b = None\n",
    "    c = None\n",
    "    \n",
    "    time_per_dimension_gpu[dim] = end - start"
   ]
  },
  {
   "cell_type": "markdown",
   "metadata": {},
   "source": [
    "Okay so now we have come to realize one drawback of using GPU computations. In the CPU computation phase, after a MemoryError happened after 50000 as our initial dimension however in GPU computation with Cupy, due to the fact that GPUs have less memory, the OutOfMemoryError is happening at 2000. This is something that you need to know, although CPU compuations can be slower, CPU can have access to more memory, since they are cheaper and much more accessible. "
   ]
  },
  {
   "cell_type": "markdown",
   "metadata": {},
   "source": [
    "Let us run the code with less dimensions:"
   ]
  },
  {
   "cell_type": "code",
   "execution_count": 13,
   "metadata": {},
   "outputs": [
    {
     "name": "stdout",
     "output_type": "stream",
     "text": [
      "Calcualting a Matrix for dim: 20\n",
      "Calcualting a Matrix for dim: 50\n",
      "Calcualting a Matrix for dim: 100\n",
      "Calcualting a Matrix for dim: 500\n",
      "Calcualting a Matrix for dim: 1000\n",
      "Calcualting a Matrix for dim: 2000\n",
      "Calcualting a Matrix for dim: 5000\n",
      "Calcualting a Matrix for dim: 8000\n",
      "Calcualting a Matrix for dim: 10000\n"
     ]
    }
   ],
   "source": [
    "import time\n",
    "\n",
    "time_per_dimension_gpu = {}\n",
    "dimensions = [20, 50, 100, 500, 1000, 2000, 5000, 8000, 10000]\n",
    "\n",
    "for dim in dimensions: \n",
    "    print('Calcualting a Matrix for dim: {}'.format(dim))\n",
    "    \n",
    "    start = time.time()\n",
    "    \n",
    "    a = cp.random.rand(dim, dim)\n",
    "    b = cp.random.rand(dim, dim)\n",
    "    c = cp.matmul(a, b)\n",
    "    \n",
    "    end = time.time()\n",
    "    \n",
    "    # Free up variables for garbage collector\n",
    "    a = None\n",
    "    b = None\n",
    "    c = None\n",
    "    \n",
    "    time_per_dimension_gpu[dim] = end - start"
   ]
  },
  {
   "cell_type": "code",
   "execution_count": 79,
   "metadata": {},
   "outputs": [
    {
     "data": {
      "image/png": "[encoded data removed]",
      "text/plain": [
       "<Figure size 792x648 with 1 Axes>"
      ]
     },
     "metadata": {},
     "output_type": "display_data"
    }
   ],
   "source": [
    "import matplotlib.pyplot as plt\n",
    "plt.style.use('ggplot')\n",
    "\n",
    "\n",
    "fig, axs = plt.subplots(1, 1, figsize=(11, 9), sharey=True)\n",
    "axs.scatter(time_per_dimension_cpu.keys(), time_per_dimension_cpu.values(), alpha=0.7, label='CPU')\n",
    "axs.scatter(time_per_dimension_gpu.keys() , time_per_dimension_gpu.values(), alpha=0.7, label='GPU')\n",
    "\n",
    "axs.legend()\n",
    "\n",
    "axs.set_xlabel('Matrix Multiplication Dimensions')\n",
    "axs.set_ylabel('Matrix Multiplication Dimensions')\n",
    "\n",
    "plt.show()"
   ]
  }
 ],
 "metadata": {
  "kernelspec": {
   "display_name": "Python (tf)",
   "language": "python",
   "name": "tf"
  },
  "language_info": {
   "codemirror_mode": {
    "name": "ipython",
    "version": 3
   },
   "file_extension": ".py",
   "mimetype": "text/x-python",
   "name": "python",
   "nbconvert_exporter": "python",
   "pygments_lexer": "ipython3",
   "version": "3.5.5"
  }
 },
 "nbformat": 4,
 "nbformat_minor": 2
}
